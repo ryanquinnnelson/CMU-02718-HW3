{
 "cells": [
  {
   "cell_type": "code",
   "execution_count": 2,
   "metadata": {
    "id": "EJNUQYYln1-u"
   },
   "outputs": [],
   "source": [
    "import numpy as np \n",
    "import pandas as pd\n",
    "import seaborn as sns"
   ]
  },
  {
   "cell_type": "markdown",
   "metadata": {
    "id": "IvG0x_PPo5z3"
   },
   "source": [
    "# Question 1 \n",
    "\n",
    "For this question, you only need to do programming for Part 1.1 - 1.6. You will only be asked to provide answers in Part 1.7. "
   ]
  },
  {
   "cell_type": "code",
   "execution_count": 3,
   "metadata": {
    "id": "ncYW32VZocLf"
   },
   "outputs": [],
   "source": [
    "PATH_TO_Q1_DATA = 'data/HW3_Q1_DATA.csv'\n",
    "df_original = pd.read_csv(PATH_TO_Q1_DATA)"
   ]
  },
  {
   "cell_type": "markdown",
   "metadata": {},
   "source": [
    "### Data Exploration"
   ]
  },
  {
   "cell_type": "code",
   "execution_count": 4,
   "metadata": {},
   "outputs": [
    {
     "data": {
      "text/plain": [
       "(121913, 19)"
      ]
     },
     "execution_count": 4,
     "metadata": {},
     "output_type": "execute_result"
    }
   ],
   "source": [
    "df_original.shape"
   ]
  },
  {
   "cell_type": "code",
   "execution_count": 5,
   "metadata": {},
   "outputs": [
    {
     "data": {
      "text/html": [
       "<div>\n",
       "<style scoped>\n",
       "    .dataframe tbody tr th:only-of-type {\n",
       "        vertical-align: middle;\n",
       "    }\n",
       "\n",
       "    .dataframe tbody tr th {\n",
       "        vertical-align: top;\n",
       "    }\n",
       "\n",
       "    .dataframe thead th {\n",
       "        text-align: right;\n",
       "    }\n",
       "</style>\n",
       "<table border=\"1\" class=\"dataframe\">\n",
       "  <thead>\n",
       "    <tr style=\"text-align: right;\">\n",
       "      <th></th>\n",
       "      <th>Sex</th>\n",
       "      <th>Intubated</th>\n",
       "      <th>Pneumonia</th>\n",
       "      <th>Age</th>\n",
       "      <th>Pregnant</th>\n",
       "      <th>Diabetes</th>\n",
       "      <th>COPD</th>\n",
       "      <th>Asthma</th>\n",
       "      <th>Immunocompromised</th>\n",
       "      <th>Hypertension</th>\n",
       "      <th>Other_Disease</th>\n",
       "      <th>Cardiovascular_disease</th>\n",
       "      <th>Obesity</th>\n",
       "      <th>Renal_disease</th>\n",
       "      <th>Smoker</th>\n",
       "      <th>Exposure_to_others_with_COVID</th>\n",
       "      <th>Has_COVID</th>\n",
       "      <th>ICU</th>\n",
       "      <th>Died</th>\n",
       "    </tr>\n",
       "  </thead>\n",
       "  <tbody>\n",
       "    <tr>\n",
       "      <th>0</th>\n",
       "      <td>F</td>\n",
       "      <td>N</td>\n",
       "      <td>N</td>\n",
       "      <td>54</td>\n",
       "      <td>N</td>\n",
       "      <td>N</td>\n",
       "      <td>N</td>\n",
       "      <td>N</td>\n",
       "      <td>N</td>\n",
       "      <td>N</td>\n",
       "      <td>N</td>\n",
       "      <td>N</td>\n",
       "      <td>Y</td>\n",
       "      <td>N</td>\n",
       "      <td>N</td>\n",
       "      <td>NaN</td>\n",
       "      <td>Y</td>\n",
       "      <td>N</td>\n",
       "      <td>N</td>\n",
       "    </tr>\n",
       "    <tr>\n",
       "      <th>1</th>\n",
       "      <td>M</td>\n",
       "      <td>N</td>\n",
       "      <td>Y</td>\n",
       "      <td>30</td>\n",
       "      <td>NaN</td>\n",
       "      <td>N</td>\n",
       "      <td>N</td>\n",
       "      <td>N</td>\n",
       "      <td>N</td>\n",
       "      <td>N</td>\n",
       "      <td>N</td>\n",
       "      <td>N</td>\n",
       "      <td>N</td>\n",
       "      <td>N</td>\n",
       "      <td>N</td>\n",
       "      <td>NaN</td>\n",
       "      <td>Y</td>\n",
       "      <td>N</td>\n",
       "      <td>N</td>\n",
       "    </tr>\n",
       "    <tr>\n",
       "      <th>2</th>\n",
       "      <td>F</td>\n",
       "      <td>N</td>\n",
       "      <td>N</td>\n",
       "      <td>60</td>\n",
       "      <td>N</td>\n",
       "      <td>Y</td>\n",
       "      <td>N</td>\n",
       "      <td>N</td>\n",
       "      <td>N</td>\n",
       "      <td>Y</td>\n",
       "      <td>N</td>\n",
       "      <td>Y</td>\n",
       "      <td>N</td>\n",
       "      <td>N</td>\n",
       "      <td>N</td>\n",
       "      <td>NaN</td>\n",
       "      <td>Y</td>\n",
       "      <td>N</td>\n",
       "      <td>Y</td>\n",
       "    </tr>\n",
       "    <tr>\n",
       "      <th>3</th>\n",
       "      <td>M</td>\n",
       "      <td>N</td>\n",
       "      <td>Y</td>\n",
       "      <td>47</td>\n",
       "      <td>NaN</td>\n",
       "      <td>Y</td>\n",
       "      <td>N</td>\n",
       "      <td>N</td>\n",
       "      <td>N</td>\n",
       "      <td>N</td>\n",
       "      <td>N</td>\n",
       "      <td>N</td>\n",
       "      <td>N</td>\n",
       "      <td>N</td>\n",
       "      <td>N</td>\n",
       "      <td>NaN</td>\n",
       "      <td>Y</td>\n",
       "      <td>Y</td>\n",
       "      <td>Y</td>\n",
       "    </tr>\n",
       "    <tr>\n",
       "      <th>4</th>\n",
       "      <td>M</td>\n",
       "      <td>N</td>\n",
       "      <td>N</td>\n",
       "      <td>63</td>\n",
       "      <td>NaN</td>\n",
       "      <td>N</td>\n",
       "      <td>N</td>\n",
       "      <td>N</td>\n",
       "      <td>N</td>\n",
       "      <td>Y</td>\n",
       "      <td>N</td>\n",
       "      <td>N</td>\n",
       "      <td>N</td>\n",
       "      <td>N</td>\n",
       "      <td>N</td>\n",
       "      <td>NaN</td>\n",
       "      <td>Y</td>\n",
       "      <td>N</td>\n",
       "      <td>N</td>\n",
       "    </tr>\n",
       "  </tbody>\n",
       "</table>\n",
       "</div>"
      ],
      "text/plain": [
       "  Sex Intubated Pneumonia  Age Pregnant Diabetes COPD Asthma  \\\n",
       "0   F         N         N   54        N        N    N      N   \n",
       "1   M         N         Y   30      NaN        N    N      N   \n",
       "2   F         N         N   60        N        Y    N      N   \n",
       "3   M         N         Y   47      NaN        Y    N      N   \n",
       "4   M         N         N   63      NaN        N    N      N   \n",
       "\n",
       "  Immunocompromised Hypertension Other_Disease Cardiovascular_disease Obesity  \\\n",
       "0                 N            N             N                      N       Y   \n",
       "1                 N            N             N                      N       N   \n",
       "2                 N            Y             N                      Y       N   \n",
       "3                 N            N             N                      N       N   \n",
       "4                 N            Y             N                      N       N   \n",
       "\n",
       "  Renal_disease Smoker Exposure_to_others_with_COVID Has_COVID ICU Died  \n",
       "0             N      N                           NaN         Y   N    N  \n",
       "1             N      N                           NaN         Y   N    N  \n",
       "2             N      N                           NaN         Y   N    Y  \n",
       "3             N      N                           NaN         Y   Y    Y  \n",
       "4             N      N                           NaN         Y   N    N  "
      ]
     },
     "execution_count": 5,
     "metadata": {},
     "output_type": "execute_result"
    }
   ],
   "source": [
    "df_original.head()"
   ]
  },
  {
   "cell_type": "code",
   "execution_count": 6,
   "metadata": {
    "scrolled": false
   },
   "outputs": [
    {
     "name": "stdout",
     "output_type": "stream",
     "text": [
      "<class 'pandas.core.frame.DataFrame'>\n",
      "RangeIndex: 121913 entries, 0 to 121912\n",
      "Data columns (total 19 columns):\n",
      " #   Column                         Non-Null Count   Dtype \n",
      "---  ------                         --------------   ----- \n",
      " 0   Sex                            121913 non-null  object\n",
      " 1   Intubated                      121789 non-null  object\n",
      " 2   Pneumonia                      121912 non-null  object\n",
      " 3   Age                            121913 non-null  int64 \n",
      " 4   Pregnant                       48676 non-null   object\n",
      " 5   Diabetes                       121244 non-null  object\n",
      " 6   COPD                           121329 non-null  object\n",
      " 7   Asthma                         121328 non-null  object\n",
      " 8   Immunocompromised              121233 non-null  object\n",
      " 9   Hypertension                   121304 non-null  object\n",
      " 10  Other_Disease                  120872 non-null  object\n",
      " 11  Cardiovascular_disease         121267 non-null  object\n",
      " 12  Obesity                        121279 non-null  object\n",
      " 13  Renal_disease                  121304 non-null  object\n",
      " 14  Smoker                         121274 non-null  object\n",
      " 15  Exposure_to_others_with_COVID  59793 non-null   object\n",
      " 16  Has_COVID                      121913 non-null  object\n",
      " 17  ICU                            121788 non-null  object\n",
      " 18  Died                           121913 non-null  object\n",
      "dtypes: int64(1), object(18)\n",
      "memory usage: 17.7+ MB\n"
     ]
    }
   ],
   "source": [
    "df_original.info()"
   ]
  },
  {
   "cell_type": "code",
   "execution_count": 7,
   "metadata": {},
   "outputs": [
    {
     "data": {
      "text/plain": [
       "N    89357\n",
       "Y    32556\n",
       "Name: Died, dtype: int64"
      ]
     },
     "execution_count": 7,
     "metadata": {},
     "output_type": "execute_result"
    }
   ],
   "source": [
    "df_original['Died'].value_counts()"
   ]
  },
  {
   "cell_type": "markdown",
   "metadata": {},
   "source": [
    "### Encode data"
   ]
  },
  {
   "cell_type": "code",
   "execution_count": 8,
   "metadata": {},
   "outputs": [
    {
     "name": "stdout",
     "output_type": "stream",
     "text": [
      "(121913, 38)\n"
     ]
    }
   ],
   "source": [
    "# convert categorical data to numerical values\n",
    "# drop one of each of the binary categories because it is not necessary (all info is encoded by one column)\n",
    "df_encoded=pd.get_dummies(df_original, drop_first=True,dummy_na=True)\n",
    "print(df_encoded.shape)"
   ]
  },
  {
   "cell_type": "code",
   "execution_count": 174,
   "metadata": {},
   "outputs": [],
   "source": [
    "# def encode_data_1(df):\n",
    "#     '''\n",
    "#     Encodes categorical data after dropping records with missing values, then returns a DataFrame of the result.\n",
    "#     '''\n",
    "    \n",
    "#     # drop records with missing values\n",
    "#     df=df_original.dropna()\n",
    "#     print(df.shape)\n",
    "    \n",
    "#     # convert categorical data to numerical values\n",
    "#     # drop one of each of the binary categories because it is not necessary (all info is encoded by one column)\n",
    "#     df=pd.get_dummies(df, drop_first=True)\n",
    "#     print(df.shape)\n",
    "\n",
    "#     return df"
   ]
  },
  {
   "cell_type": "code",
   "execution_count": 175,
   "metadata": {},
   "outputs": [
    {
     "name": "stdout",
     "output_type": "stream",
     "text": [
      "(23158, 19)\n",
      "(23158, 19)\n"
     ]
    }
   ],
   "source": [
    "# df_encoding1 = encode_data_1(df_original)"
   ]
  },
  {
   "cell_type": "code",
   "execution_count": 9,
   "metadata": {},
   "outputs": [
    {
     "data": {
      "text/html": [
       "<div>\n",
       "<style scoped>\n",
       "    .dataframe tbody tr th:only-of-type {\n",
       "        vertical-align: middle;\n",
       "    }\n",
       "\n",
       "    .dataframe tbody tr th {\n",
       "        vertical-align: top;\n",
       "    }\n",
       "\n",
       "    .dataframe thead th {\n",
       "        text-align: right;\n",
       "    }\n",
       "</style>\n",
       "<table border=\"1\" class=\"dataframe\">\n",
       "  <thead>\n",
       "    <tr style=\"text-align: right;\">\n",
       "      <th></th>\n",
       "      <th>Age</th>\n",
       "      <th>Sex_M</th>\n",
       "      <th>Sex_nan</th>\n",
       "      <th>Intubated_Y</th>\n",
       "      <th>Intubated_nan</th>\n",
       "      <th>Pneumonia_Y</th>\n",
       "      <th>Pneumonia_nan</th>\n",
       "      <th>Pregnant_Y</th>\n",
       "      <th>Pregnant_nan</th>\n",
       "      <th>Diabetes_Y</th>\n",
       "      <th>...</th>\n",
       "      <th>Smoker_nan</th>\n",
       "      <th>Exposure_to_others_with_COVID_Y</th>\n",
       "      <th>Exposure_to_others_with_COVID_nan</th>\n",
       "      <th>Has_COVID_Pending</th>\n",
       "      <th>Has_COVID_Y</th>\n",
       "      <th>Has_COVID_nan</th>\n",
       "      <th>ICU_Y</th>\n",
       "      <th>ICU_nan</th>\n",
       "      <th>Died_Y</th>\n",
       "      <th>Died_nan</th>\n",
       "    </tr>\n",
       "  </thead>\n",
       "  <tbody>\n",
       "    <tr>\n",
       "      <th>0</th>\n",
       "      <td>54</td>\n",
       "      <td>0</td>\n",
       "      <td>0</td>\n",
       "      <td>0</td>\n",
       "      <td>0</td>\n",
       "      <td>0</td>\n",
       "      <td>0</td>\n",
       "      <td>0</td>\n",
       "      <td>0</td>\n",
       "      <td>0</td>\n",
       "      <td>...</td>\n",
       "      <td>0</td>\n",
       "      <td>0</td>\n",
       "      <td>1</td>\n",
       "      <td>0</td>\n",
       "      <td>1</td>\n",
       "      <td>0</td>\n",
       "      <td>0</td>\n",
       "      <td>0</td>\n",
       "      <td>0</td>\n",
       "      <td>0</td>\n",
       "    </tr>\n",
       "    <tr>\n",
       "      <th>1</th>\n",
       "      <td>30</td>\n",
       "      <td>1</td>\n",
       "      <td>0</td>\n",
       "      <td>0</td>\n",
       "      <td>0</td>\n",
       "      <td>1</td>\n",
       "      <td>0</td>\n",
       "      <td>0</td>\n",
       "      <td>1</td>\n",
       "      <td>0</td>\n",
       "      <td>...</td>\n",
       "      <td>0</td>\n",
       "      <td>0</td>\n",
       "      <td>1</td>\n",
       "      <td>0</td>\n",
       "      <td>1</td>\n",
       "      <td>0</td>\n",
       "      <td>0</td>\n",
       "      <td>0</td>\n",
       "      <td>0</td>\n",
       "      <td>0</td>\n",
       "    </tr>\n",
       "    <tr>\n",
       "      <th>2</th>\n",
       "      <td>60</td>\n",
       "      <td>0</td>\n",
       "      <td>0</td>\n",
       "      <td>0</td>\n",
       "      <td>0</td>\n",
       "      <td>0</td>\n",
       "      <td>0</td>\n",
       "      <td>0</td>\n",
       "      <td>0</td>\n",
       "      <td>1</td>\n",
       "      <td>...</td>\n",
       "      <td>0</td>\n",
       "      <td>0</td>\n",
       "      <td>1</td>\n",
       "      <td>0</td>\n",
       "      <td>1</td>\n",
       "      <td>0</td>\n",
       "      <td>0</td>\n",
       "      <td>0</td>\n",
       "      <td>1</td>\n",
       "      <td>0</td>\n",
       "    </tr>\n",
       "    <tr>\n",
       "      <th>3</th>\n",
       "      <td>47</td>\n",
       "      <td>1</td>\n",
       "      <td>0</td>\n",
       "      <td>0</td>\n",
       "      <td>0</td>\n",
       "      <td>1</td>\n",
       "      <td>0</td>\n",
       "      <td>0</td>\n",
       "      <td>1</td>\n",
       "      <td>1</td>\n",
       "      <td>...</td>\n",
       "      <td>0</td>\n",
       "      <td>0</td>\n",
       "      <td>1</td>\n",
       "      <td>0</td>\n",
       "      <td>1</td>\n",
       "      <td>0</td>\n",
       "      <td>1</td>\n",
       "      <td>0</td>\n",
       "      <td>1</td>\n",
       "      <td>0</td>\n",
       "    </tr>\n",
       "    <tr>\n",
       "      <th>4</th>\n",
       "      <td>63</td>\n",
       "      <td>1</td>\n",
       "      <td>0</td>\n",
       "      <td>0</td>\n",
       "      <td>0</td>\n",
       "      <td>0</td>\n",
       "      <td>0</td>\n",
       "      <td>0</td>\n",
       "      <td>1</td>\n",
       "      <td>0</td>\n",
       "      <td>...</td>\n",
       "      <td>0</td>\n",
       "      <td>0</td>\n",
       "      <td>1</td>\n",
       "      <td>0</td>\n",
       "      <td>1</td>\n",
       "      <td>0</td>\n",
       "      <td>0</td>\n",
       "      <td>0</td>\n",
       "      <td>0</td>\n",
       "      <td>0</td>\n",
       "    </tr>\n",
       "  </tbody>\n",
       "</table>\n",
       "<p>5 rows × 38 columns</p>\n",
       "</div>"
      ],
      "text/plain": [
       "   Age  Sex_M  Sex_nan  Intubated_Y  Intubated_nan  Pneumonia_Y  \\\n",
       "0   54      0        0            0              0            0   \n",
       "1   30      1        0            0              0            1   \n",
       "2   60      0        0            0              0            0   \n",
       "3   47      1        0            0              0            1   \n",
       "4   63      1        0            0              0            0   \n",
       "\n",
       "   Pneumonia_nan  Pregnant_Y  Pregnant_nan  Diabetes_Y  ...  Smoker_nan  \\\n",
       "0              0           0             0           0  ...           0   \n",
       "1              0           0             1           0  ...           0   \n",
       "2              0           0             0           1  ...           0   \n",
       "3              0           0             1           1  ...           0   \n",
       "4              0           0             1           0  ...           0   \n",
       "\n",
       "   Exposure_to_others_with_COVID_Y  Exposure_to_others_with_COVID_nan  \\\n",
       "0                                0                                  1   \n",
       "1                                0                                  1   \n",
       "2                                0                                  1   \n",
       "3                                0                                  1   \n",
       "4                                0                                  1   \n",
       "\n",
       "   Has_COVID_Pending  Has_COVID_Y  Has_COVID_nan  ICU_Y  ICU_nan  Died_Y  \\\n",
       "0                  0            1              0      0        0       0   \n",
       "1                  0            1              0      0        0       0   \n",
       "2                  0            1              0      0        0       1   \n",
       "3                  0            1              0      1        0       1   \n",
       "4                  0            1              0      0        0       0   \n",
       "\n",
       "   Died_nan  \n",
       "0         0  \n",
       "1         0  \n",
       "2         0  \n",
       "3         0  \n",
       "4         0  \n",
       "\n",
       "[5 rows x 38 columns]"
      ]
     },
     "execution_count": 9,
     "metadata": {},
     "output_type": "execute_result"
    }
   ],
   "source": [
    "df_encoded.head()"
   ]
  },
  {
   "cell_type": "code",
   "execution_count": 11,
   "metadata": {
    "scrolled": false
   },
   "outputs": [
    {
     "data": {
      "text/plain": [
       "Sex_M                                73071\n",
       "Sex_nan                                  0\n",
       "Intubated_Y                           9965\n",
       "Intubated_nan                          124\n",
       "Pneumonia_Y                          73747\n",
       "Pneumonia_nan                            1\n",
       "Pregnant_Y                            1071\n",
       "Pregnant_nan                         73237\n",
       "Diabetes_Y                           35481\n",
       "Diabetes_nan                           669\n",
       "COPD_Y                                5493\n",
       "COPD_nan                               584\n",
       "Asthma_Y                              3144\n",
       "Asthma_nan                             585\n",
       "Immunocompromised_Y                   4726\n",
       "Immunocompromised_nan                  680\n",
       "Hypertension_Y                       40344\n",
       "Hypertension_nan                       609\n",
       "Other_Disease_Y                       7287\n",
       "Other_Disease_nan                     1041\n",
       "Cardiovascular_disease_Y              6305\n",
       "Cardiovascular_disease_nan             646\n",
       "Obesity_Y                            25127\n",
       "Obesity_nan                            634\n",
       "Renal_disease_Y                       7243\n",
       "Renal_disease_nan                      609\n",
       "Smoker_Y                             10745\n",
       "Smoker_nan                             639\n",
       "Exposure_to_others_with_COVID_Y      17280\n",
       "Exposure_to_others_with_COVID_nan    62120\n",
       "Has_COVID_Pending                    14367\n",
       "Has_COVID_Y                          68296\n",
       "Has_COVID_nan                            0\n",
       "ICU_Y                                10112\n",
       "ICU_nan                                125\n",
       "Died_Y                               32556\n",
       "Died_nan                                 0\n",
       "dtype: int64"
      ]
     },
     "execution_count": 11,
     "metadata": {},
     "output_type": "execute_result"
    }
   ],
   "source": [
    "df_encoded.drop('Age',axis='columns').sum(axis='rows')"
   ]
  },
  {
   "cell_type": "markdown",
   "metadata": {},
   "source": [
    "### Visualize Data"
   ]
  },
  {
   "cell_type": "code",
   "execution_count": 12,
   "metadata": {},
   "outputs": [
    {
     "name": "stdout",
     "output_type": "stream",
     "text": [
      "(121913,)\n",
      "(121913, 37)\n"
     ]
    }
   ],
   "source": [
    "# plot data so I can see what shape it takes\n",
    "y = df_encoded['Died_Y']\n",
    "print(y.shape)\n",
    "X = df_encoded.drop('Died_Y',axis='columns')\n",
    "print(X.shape)"
   ]
  },
  {
   "cell_type": "code",
   "execution_count": 13,
   "metadata": {},
   "outputs": [
    {
     "data": {
      "text/plain": [
       "<AxesSubplot:xlabel='pca1', ylabel='pca2'>"
      ]
     },
     "execution_count": 13,
     "metadata": {},
     "output_type": "execute_result"
    },
    {
     "data": {
      "image/png": "[encoded data removed]",
      "text/plain": [
       "<Figure size 432x288 with 1 Axes>"
      ]
     },
     "metadata": {
      "needs_background": "light"
     },
     "output_type": "display_data"
    }
   ],
   "source": [
    "from sklearn.decomposition import PCA\n",
    "\n",
    "# use PCA to visualize data\n",
    "pca = PCA(n_components=2).fit_transform(df_encoded.drop('Died_Y',axis='columns')) \n",
    "df_pca_plot = pd.DataFrame(pca, columns=['pca1','pca2'])\n",
    "df_pca_plot_concat = df_pca_plot.assign(Died_Y=y.values)\n",
    "sns.scatterplot(x='pca1', y='pca2', data=df_pca_plot_concat, legend='full',hue='Died_Y')"
   ]
  },
  {
   "cell_type": "markdown",
   "metadata": {},
   "source": [
    "### DataFrame to store classifier metric results for all tests"
   ]
  },
  {
   "cell_type": "code",
   "execution_count": 14,
   "metadata": {},
   "outputs": [],
   "source": [
    "# dataframe to collect results of all tests\n",
    "df_results = pd.DataFrame(\n",
    "    columns=['Section',\n",
    "             'Description',\n",
    "             'Accuracy',\n",
    "             'Sensitivity',\n",
    "             'Specificity',\n",
    "             'Pos_Predictive_Val',\n",
    "             'Neg_Predictive_Val',\n",
    "             'F1_Score',\n",
    "             'Matthew_Corr_Coef',\n",
    "             'AUC'\n",
    "            ]).astype(\n",
    "    dtype= {'Section':'int64',\n",
    "            'Description':'object',\n",
    "            'Accuracy':'float64',\n",
    "            'Sensitivity':'float64',\n",
    "             'Specificity':'float64',\n",
    "             'Pos_Predictive_Val':'float64',\n",
    "             'Neg_Predictive_Val':'float64',\n",
    "             'F1_Score':'float64',\n",
    "             'Matthew_Corr_Coef':'float64',\n",
    "             'AUC':'float64'\n",
    "           })"
   ]
  },
  {
   "cell_type": "markdown",
   "metadata": {
    "id": "NbJzylg6qXnM"
   },
   "source": [
    "## Part 1.1 Select features and train classifiers"
   ]
  },
  {
   "cell_type": "markdown",
   "metadata": {
    "id": "pa4bayciquGA"
   },
   "source": [
    "### Part 1.1 Work "
   ]
  },
  {
   "cell_type": "code",
   "execution_count": 15,
   "metadata": {
    "id": "G_OeUOazqsyA"
   },
   "outputs": [],
   "source": [
    "# TODO: \n",
    "#   Step 1: Select and apply a filter-based or wrapper-based feature selection method to the data.\n",
    "#   Step 2: Train a classifier using the selected features. Use 10-fold cross validation.\n",
    "\n",
    "# Tip: \n",
    "#   1. You may find the filter-based or wrapper-based methods you used in HW2 useful. \n",
    "\n",
    "#   2. Scikit-learn implement many classifiers, see the comparisons of their \n",
    "#   performance and introductions here:\n",
    "#   https://scikit-learn.org/stable/auto_examples/classification/plot_classifier_comparison.html\n",
    "\n",
    "#   3. Scikit-learn also implement classifiers with built-in cross validations,\n",
    "#   for example: https://scikit-learn.org/stable/modules/generated/sklearn.linear_model.RidgeClassifierCV.html"
   ]
  },
  {
   "cell_type": "markdown",
   "metadata": {},
   "source": [
    "#### Select classifier that can handle working with missing data\n",
    "Use RandomForestClassifier"
   ]
  },
  {
   "cell_type": "code",
   "execution_count": 25,
   "metadata": {},
   "outputs": [],
   "source": [
    "from sklearn.ensemble import RandomForestClassifier\n",
    "from sklearn.feature_selection import RFECV\n",
    "from sklearn.tree import DecisionTreeClassifier\n",
    "from sklearn.feature_selection import SelectFromModel\n",
    "from sklearn.model_selection import train_test_split\n",
    "\n",
    "\n",
    "def run_crossfold_recursive_feature_elimination(X,y):\n",
    "#     clf = RandomForestClassifier(max_depth=2, random_state=0)\n",
    "    clf = DecisionTreeClassifier()\n",
    "    rfecv = RFECV(estimator=clf, step=1, cv=10,scoring='neg_mean_squared_error',n_jobs=3)\n",
    "    return rfecv.fit(X, y)\n",
    "\n",
    "def get_feature_list(X, support):\n",
    "    features = list()\n",
    "    for i,val in enumerate(support):\n",
    "        if val:\n",
    "            features.append(X.columns[i])      \n",
    "    return features\n",
    "\n",
    "def build_X_from_features(X, list_features):\n",
    "    return X.loc[:][list_features]\n",
    "\n",
    "def run_random_forest_classifier(X,y):\n",
    "    clf = RandomForestClassifier(max_depth=2, random_state=0)\n",
    "    return rfecv.fit(X, y)\n",
    "\n",
    "def run_crossfold_validation(clf,X,y,k):\n",
    "    scores = cross_val_score(clf, X, y, cv=k)\n",
    "    \n",
    "    # get average score\n",
    "    return scores.mean()"
   ]
  },
  {
   "cell_type": "code",
   "execution_count": 28,
   "metadata": {},
   "outputs": [
    {
     "name": "stdout",
     "output_type": "stream",
     "text": [
      "(121913, 36)\n",
      "(121913,)\n",
      "CPU times: user 8.12 ms, sys: 3.1 ms, total: 11.2 ms\n",
      "Wall time: 9.75 ms\n"
     ]
    }
   ],
   "source": [
    "%%time\n",
    "\n",
    "# select data\n",
    "X_1_1 = df_encoded.drop(['Died_Y','Died_nan'],axis='columns')\n",
    "y_1_1 = df_encoded.loc[:]['Died_Y']\n",
    "print(X_1_1.shape)\n",
    "print(y_1_1.shape)"
   ]
  },
  {
   "cell_type": "code",
   "execution_count": null,
   "metadata": {},
   "outputs": [],
   "source": [
    "# select features\n",
    "X_train_1_1,y_train_1_1,X_test_1_1,y_test_1_1 = train_test_split(X_1_1,y_1_1,test_size=0.3)\n",
    "\n",
    "sel = SelectFromModel(RandomForestClassifier(n_estimators = 100))\n",
    "sel.fit(X_train_1_1, y_train_1_1)\n",
    "\n",
    "# # feature selection\n",
    "# rfe_1_1 = run_crossfold_recursive_feature_elimination(X_1_1,y_1_1)\n",
    "# features_1_1 = get_feature_list(X_1_1,rfe_1_1.support_)"
   ]
  },
  {
   "cell_type": "code",
   "execution_count": null,
   "metadata": {},
   "outputs": [],
   "source": [
    "features_1_1"
   ]
  },
  {
   "cell_type": "markdown",
   "metadata": {},
   "source": [
    "#### Define wrapper-based feature selection method and classifier\n",
    "DecisionTree reference: https://www.dezyre.com/recipes/do-recursive-feature-elimination-in-python-decisiontreeregressor"
   ]
  },
  {
   "cell_type": "code",
   "execution_count": 182,
   "metadata": {},
   "outputs": [],
   "source": [
    "from sklearn.svm import SVC\n",
    "from sklearn.feature_selection import RFECV\n",
    "from sklearn.tree import DecisionTreeClassifier\n",
    "from sklearn.model_selection import StratifiedKFold\n",
    "\n",
    "# # version 1 takes a long time\n",
    "# def perform_feature_selection_wrapper(X,y):\n",
    "#     svc = SVC(kernel=\"linear\")\n",
    "#     rfecv = RFECV(estimator=svc, step=1, cv=5,scoring='accuracy',n_jobs=3)\n",
    "#     return rfecv.fit(X, y)\n",
    "\n",
    "# # version 2 takes too long\n",
    "# def perform_feature_selection_wrapper_2(X,y):\n",
    "#     svc = SVC(gamma=2, C=1)\n",
    "#     rfecv = RFECV(estimator=svc, step=1, cv=StratifiedKFold(10),scoring='accuracy',n_jobs=3)\n",
    "#     return rfecv.fit(X, y)\n",
    "\n",
    "# version 3 is fast\n",
    "def perform_feature_selection_wrapper_3(X,y):\n",
    "    dtree = DecisionTreeClassifier(random_state=0)\n",
    "    rfecv = RFECV(estimator=dtree, step=1, cv=10,scoring='neg_mean_squared_error',n_jobs=3)\n",
    "    return rfecv.fit(X, y)\n",
    "  \n",
    "def get_feature_list(X, support):\n",
    "    features = list()\n",
    "    for i,val in enumerate(support):\n",
    "        if val:\n",
    "            features.append(X.columns[i]) # feature was selected by wrapper method\n",
    "        \n",
    "    return features"
   ]
  },
  {
   "cell_type": "code",
   "execution_count": 183,
   "metadata": {},
   "outputs": [],
   "source": [
    "from sklearn.linear_model import RidgeClassifierCV\n",
    "from sklearn.model_selection import cross_val_score\n",
    "from sklearn.model_selection import cross_validate\n",
    "\n",
    "def build_X_from_features(X, list_features):\n",
    "    return X.loc[:][list_features]\n",
    "\n",
    "def train_classifier(X,y,k):\n",
    "    clf = RidgeClassifierCV(alphas=[1e-3, 1e-2, 1e-1, 1],cv=k)\n",
    "    return clf.fit(X, y)\n",
    "\n",
    "# def train_classifier_3(X,y,k):\n",
    "#     clf = SVC(gamma=2, C=1)\n",
    "#     scores = cross_validate(clf, X, y, cv=k,return_estimator=True)\n",
    "#     return scores"
   ]
  },
  {
   "cell_type": "markdown",
   "metadata": {},
   "source": [
    "#### Separate encoded data into features and target"
   ]
  },
  {
   "cell_type": "code",
   "execution_count": 184,
   "metadata": {},
   "outputs": [
    {
     "name": "stdout",
     "output_type": "stream",
     "text": [
      "(23158,)\n",
      "(23158, 18)\n"
     ]
    }
   ],
   "source": [
    "y_1_1 = df_encoding1.loc[:]['Died_Y']\n",
    "print(y_1_1.shape)\n",
    "X_1_1 = df_encoding1.drop('Died_Y',axis='columns')\n",
    "print(X_1_1.shape)"
   ]
  },
  {
   "cell_type": "code",
   "execution_count": 185,
   "metadata": {},
   "outputs": [
    {
     "name": "stdout",
     "output_type": "stream",
     "text": [
      "<class 'pandas.core.frame.DataFrame'>\n",
      "Int64Index: 23158 entries, 8 to 121906\n",
      "Data columns (total 18 columns):\n",
      " #   Column                           Non-Null Count  Dtype\n",
      "---  ------                           --------------  -----\n",
      " 0   Age                              23158 non-null  int64\n",
      " 1   Intubated_Y                      23158 non-null  uint8\n",
      " 2   Pneumonia_Y                      23158 non-null  uint8\n",
      " 3   Pregnant_Y                       23158 non-null  uint8\n",
      " 4   Diabetes_Y                       23158 non-null  uint8\n",
      " 5   COPD_Y                           23158 non-null  uint8\n",
      " 6   Asthma_Y                         23158 non-null  uint8\n",
      " 7   Immunocompromised_Y              23158 non-null  uint8\n",
      " 8   Hypertension_Y                   23158 non-null  uint8\n",
      " 9   Other_Disease_Y                  23158 non-null  uint8\n",
      " 10  Cardiovascular_disease_Y         23158 non-null  uint8\n",
      " 11  Obesity_Y                        23158 non-null  uint8\n",
      " 12  Renal_disease_Y                  23158 non-null  uint8\n",
      " 13  Smoker_Y                         23158 non-null  uint8\n",
      " 14  Exposure_to_others_with_COVID_Y  23158 non-null  uint8\n",
      " 15  Has_COVID_Pending                23158 non-null  uint8\n",
      " 16  Has_COVID_Y                      23158 non-null  uint8\n",
      " 17  ICU_Y                            23158 non-null  uint8\n",
      "dtypes: int64(1), uint8(17)\n",
      "memory usage: 746.3 KB\n"
     ]
    }
   ],
   "source": [
    "X_1_1.info()"
   ]
  },
  {
   "cell_type": "markdown",
   "metadata": {},
   "source": [
    "#### Perform feature selection and classification"
   ]
  },
  {
   "cell_type": "code",
   "execution_count": 186,
   "metadata": {},
   "outputs": [],
   "source": [
    "# %%time \n",
    "# # runtime - 3.4 s (1000 records, 10 fold, 3 cores)\n",
    "# # runtime - 6 min (10000 records, 10 fold, 3 cores)\n",
    "# # runtime - 6 min (23158 records, 10 fold, 3 cores)\n",
    "\n",
    "# # feature selection\n",
    "# rfecv = perform_feature_selection_wrapper(X_1_1,y_1_1)\n",
    "# features_wrapper = get_feature_list(X_1_1,rfecv.support_)"
   ]
  },
  {
   "cell_type": "code",
   "execution_count": 187,
   "metadata": {},
   "outputs": [],
   "source": [
    "# features_wrapper"
   ]
  },
  {
   "cell_type": "code",
   "execution_count": 188,
   "metadata": {},
   "outputs": [
    {
     "name": "stdout",
     "output_type": "stream",
     "text": [
      "CPU times: user 411 ms, sys: 36.2 ms, total: 448 ms\n",
      "Wall time: 3.12 s\n"
     ]
    }
   ],
   "source": [
    "%%time\n",
    "\n",
    "# runtime - 1s (23158 records, 10 fold, 3 cores)\n",
    "\n",
    "rfecv3 = perform_feature_selection_wrapper_3(X_1_1,y_1_1)\n",
    "features_wrapper3 = get_feature_list(X_1_1,rfecv3.support_)"
   ]
  },
  {
   "cell_type": "code",
   "execution_count": 189,
   "metadata": {},
   "outputs": [
    {
     "data": {
      "text/plain": [
       "['Age', 'Intubated_Y']"
      ]
     },
     "execution_count": 189,
     "metadata": {},
     "output_type": "execute_result"
    }
   ],
   "source": [
    "features_wrapper3"
   ]
  },
  {
   "cell_type": "code",
   "execution_count": 190,
   "metadata": {},
   "outputs": [
    {
     "name": "stdout",
     "output_type": "stream",
     "text": [
      "CPU times: user 912 ms, sys: 15.2 ms, total: 927 ms\n",
      "Wall time: 245 ms\n"
     ]
    }
   ],
   "source": [
    "%%time\n",
    "\n",
    "# classification\n",
    "X_1_1_classifier = build_X_from_features(X_1_1,features_wrapper3)\n",
    "clf_1_1 = train_classifier(X_1_1_classifier,y_1_1,10)"
   ]
  },
  {
   "cell_type": "markdown",
   "metadata": {},
   "source": [
    "#### Calculate metrics and add row to results DataFrame\n",
    "- Accuracy\n",
    "- Sensitivity & Specificity\n",
    "- The positive and negative predictive values \n",
    "- F1-score\n",
    "- The Matthews Correlation Coefficient\n",
    "- AUC (Area under the ROC curve)"
   ]
  },
  {
   "cell_type": "code",
   "execution_count": 191,
   "metadata": {},
   "outputs": [],
   "source": [
    "from sklearn.metrics import confusion_matrix\n",
    "\n",
    "def get_confusion_matrix(y_true,y_predict):\n",
    "    '''\n",
    "    Calculates the confusion matrix for a given X,y and classifier.\n",
    "    '''\n",
    "    # confusion matrix\n",
    "    cm = confusion_matrix(y_true, y_predict)\n",
    "    tn, fp, fn, tp = cm.ravel()\n",
    "    \n",
    "    return cm\n",
    "\n",
    "\n",
    "def get_y_score_from_decision_function(X,clf):\n",
    "    '''Uses decision_function to calculate y_scores because classifier doesn't have predict_prob().\n",
    "    '''\n",
    "    return clf.decision_function(X)\n",
    "\n",
    "def get_y_score_from_predict_proba(X,clf):\n",
    "    return clf.predict_proba(X)[:,1]\n",
    "\n",
    "\n",
    "def get_y_score(X,y,clf,score_func):\n",
    "    if score_func == \"decision\":\n",
    "        return get_y_score_from_decision_function(X,clf)\n",
    "    elif score_func == \"proba\":\n",
    "        return get_y_score_from_predict_proba(X,clf)"
   ]
  },
  {
   "cell_type": "code",
   "execution_count": 192,
   "metadata": {},
   "outputs": [],
   "source": [
    "from sklearn.metrics import matthews_corrcoef\n",
    "from sklearn.metrics import roc_auc_score\n",
    "\n",
    "def calc_classifier_metrics(cm, y_true, y_predict, y_score):\n",
    "    \n",
    "    tn, fp, fn, tp = cm.ravel()\n",
    "#     print('TN:',tn)\n",
    "#     print('FP:',fp)\n",
    "#     print('FN:',fn)\n",
    "#     print('TP:',tp)\n",
    "#     print('TOTAL:',tp + tn + fp + fn)\n",
    "    \n",
    "    # accuracy\n",
    "    acc = (tp + tn) / (tp + tn + fp + fn)\n",
    "    \n",
    "    # sensitivity\n",
    "    sen = tp / (tp + fn)\n",
    "    \n",
    "    # specificity\n",
    "    spec = tn / (tn + fp)\n",
    "    \n",
    "    # precision\n",
    "    prec = tn / (tn + fp)\n",
    "    \n",
    "    # positive predictive value\n",
    "    ppv = tp / (fp + tp) # ?? check correctness\n",
    "    \n",
    "    # negative predictive value\n",
    "    npv = tn / (fn + tn)\n",
    "    \n",
    "    # f1 score\n",
    "    f1 = 2 * (prec * sen) / (prec + sen) \n",
    "    \n",
    "    # matthew correlation coefficient\n",
    "    mcc = matthews_corrcoef(y_true,y_predict)\n",
    "    \n",
    "    # area Under the receiver (AUC)\n",
    "    auc = roc_auc_score(y_true, y_score)\n",
    "    \n",
    "    # return numpy array  \n",
    "    metrics = [acc,sen,spec,ppv,npv,f1,mcc,auc]\n",
    "    return metrics"
   ]
  },
  {
   "cell_type": "code",
   "execution_count": 193,
   "metadata": {},
   "outputs": [],
   "source": [
    "def add_row(df, section, description, metrics):\n",
    "    \n",
    "    data = [section,description] + metrics \n",
    "    new_row = pd.Series(data, index = df.columns)\n",
    "    return df.append(new_row,ignore_index=True)\n",
    "\n",
    "def add_metrics_to_table(df, section, description, X, y, clf, score_func):\n",
    "    \n",
    "    # for validation purposes\n",
    "#     print(clf.score(X,y),'\\n')\n",
    "    \n",
    "    # calculate confusion matrix\n",
    "    y_predict = clf.predict(X)\n",
    "    y_real = y\n",
    "    cm = get_confusion_matrix(y_real,y_predict)\n",
    "    \n",
    "    # calculate y score\n",
    "    y_score = get_y_score(X,y,clf, score_func)\n",
    "    \n",
    "    # calculate metrics\n",
    "    metrics = calc_classifier_metrics(cm,y_real,y_predict,y_score)\n",
    "#     print('\\n',metrics)\n",
    "    \n",
    "    # add row to results DataFrame\n",
    "    return add_row(df, section, description, metrics)"
   ]
  },
  {
   "cell_type": "code",
   "execution_count": 194,
   "metadata": {},
   "outputs": [],
   "source": [
    "df_results = add_metrics_to_table(df_results, 1, \"Wrapper\", X_1_1_classifier, y_1_1, clf_1_1,\"decision\")"
   ]
  },
  {
   "cell_type": "code",
   "execution_count": 195,
   "metadata": {},
   "outputs": [
    {
     "data": {
      "text/html": [
       "<div>\n",
       "<style scoped>\n",
       "    .dataframe tbody tr th:only-of-type {\n",
       "        vertical-align: middle;\n",
       "    }\n",
       "\n",
       "    .dataframe tbody tr th {\n",
       "        vertical-align: top;\n",
       "    }\n",
       "\n",
       "    .dataframe thead th {\n",
       "        text-align: right;\n",
       "    }\n",
       "</style>\n",
       "<table border=\"1\" class=\"dataframe\">\n",
       "  <thead>\n",
       "    <tr style=\"text-align: right;\">\n",
       "      <th></th>\n",
       "      <th>Section</th>\n",
       "      <th>Description</th>\n",
       "      <th>Accuracy</th>\n",
       "      <th>Sensitivity</th>\n",
       "      <th>Specificity</th>\n",
       "      <th>Pos_Predictive_Val</th>\n",
       "      <th>Neg_Predictive_Val</th>\n",
       "      <th>F1_Score</th>\n",
       "      <th>Matthew_Corr_Coef</th>\n",
       "      <th>AUC</th>\n",
       "    </tr>\n",
       "  </thead>\n",
       "  <tbody>\n",
       "    <tr>\n",
       "      <th>0</th>\n",
       "      <td>1</td>\n",
       "      <td>Wrapper</td>\n",
       "      <td>0.845626</td>\n",
       "      <td>0.30199</td>\n",
       "      <td>0.959818</td>\n",
       "      <td>0.612204</td>\n",
       "      <td>0.867485</td>\n",
       "      <td>0.459429</td>\n",
       "      <td>0.354382</td>\n",
       "      <td>0.766171</td>\n",
       "    </tr>\n",
       "  </tbody>\n",
       "</table>\n",
       "</div>"
      ],
      "text/plain": [
       "   Section Description  Accuracy  Sensitivity  Specificity  \\\n",
       "0        1     Wrapper  0.845626      0.30199     0.959818   \n",
       "\n",
       "   Pos_Predictive_Val  Neg_Predictive_Val  F1_Score  Matthew_Corr_Coef  \\\n",
       "0            0.612204            0.867485  0.459429           0.354382   \n",
       "\n",
       "        AUC  \n",
       "0  0.766171  "
      ]
     },
     "execution_count": 195,
     "metadata": {},
     "output_type": "execute_result"
    }
   ],
   "source": [
    "df_results"
   ]
  },
  {
   "cell_type": "markdown",
   "metadata": {
    "id": "DGcEfPHSy2YP"
   },
   "source": [
    "### Part 1.2 Work "
   ]
  },
  {
   "cell_type": "code",
   "execution_count": 196,
   "metadata": {
    "id": "i1LoJQbly2YQ"
   },
   "outputs": [],
   "source": [
    "# TODO: \n",
    "#   Step 1: Select a learning algorithm that performs embedded feature selection. \n",
    "#   Step 2: Train a classifier using the selected features. Use 10-fold cross validation.\n",
    "\n",
    "# Tip: \n",
    "#   1. Scikit-learn implement many classifiers, see the comparisons of their \n",
    "#   performance and introductions here:\n",
    "#   https://scikit-learn.org/stable/auto_examples/classification/plot_classifier_comparison.html\n",
    "\n",
    "#   2. Scikit-learn also implement classifiers with built-in cross validations,\n",
    "#   for example: https://scikit-learn.org/stable/modules/generated/sklearn.linear_model.RidgeClassifierCV.html"
   ]
  },
  {
   "cell_type": "markdown",
   "metadata": {},
   "source": [
    "#### Define embedded feature selection method"
   ]
  },
  {
   "cell_type": "code",
   "execution_count": 197,
   "metadata": {},
   "outputs": [],
   "source": [
    "from sklearn.feature_selection import SelectFromModel\n",
    "from sklearn.ensemble import RandomForestClassifier\n",
    "from sklearn.ensemble import AdaBoostClassifier\n",
    "from sklearn.linear_model import LassoCV\n",
    "\n",
    "def perform_feature_selection_embedded(X,y):\n",
    "    sel = SelectFromModel(RandomForestClassifier())\n",
    "    return sel.fit(X, y)"
   ]
  },
  {
   "cell_type": "markdown",
   "metadata": {},
   "source": [
    "#### Perform feature selection and classification"
   ]
  },
  {
   "cell_type": "code",
   "execution_count": 198,
   "metadata": {},
   "outputs": [],
   "source": [
    "from sklearn.model_selection import train_test_split\n",
    "\n",
    "# use same data from 1.1\n",
    "X_1_2 = X_1_1\n",
    "y_1_2 = y_1_1\n",
    "\n",
    "# split data\n",
    "X_train_embedded,X_test_embedded,y_train_embedded,y_test_embedded = train_test_split(X_1_2,\n",
    "                                                                                     y_1_2,\n",
    "                                                                                     test_size=0.25)"
   ]
  },
  {
   "cell_type": "code",
   "execution_count": 199,
   "metadata": {},
   "outputs": [
    {
     "name": "stdout",
     "output_type": "stream",
     "text": [
      "CPU times: user 1.34 s, sys: 41.4 ms, total: 1.38 s\n",
      "Wall time: 972 ms\n"
     ]
    }
   ],
   "source": [
    "%%time\n",
    "\n",
    "# feature selection\n",
    "rfc = perform_feature_selection_embedded(X_train_embedded, y_train_embedded)\n",
    "features_embedded = get_feature_list(X_train_embedded,rfc.get_support())"
   ]
  },
  {
   "cell_type": "code",
   "execution_count": 200,
   "metadata": {},
   "outputs": [
    {
     "data": {
      "text/plain": [
       "['Age', 'Intubated_Y', 'Has_COVID_Y']"
      ]
     },
     "execution_count": 200,
     "metadata": {},
     "output_type": "execute_result"
    }
   ],
   "source": [
    "features_embedded"
   ]
  },
  {
   "cell_type": "code",
   "execution_count": 201,
   "metadata": {},
   "outputs": [
    {
     "name": "stdout",
     "output_type": "stream",
     "text": [
      "CPU times: user 931 ms, sys: 12.9 ms, total: 944 ms\n",
      "Wall time: 250 ms\n"
     ]
    }
   ],
   "source": [
    "%%time\n",
    "\n",
    "# classification\n",
    "X_1_2_classifier = build_X_from_features(X_1_2,features_embedded)\n",
    "clf_1_2 = train_classifier(X_1_2_classifier,y_1_2,10)"
   ]
  },
  {
   "cell_type": "markdown",
   "metadata": {},
   "source": [
    "#### Calculate metrics and add row to results DataFrame"
   ]
  },
  {
   "cell_type": "code",
   "execution_count": 202,
   "metadata": {},
   "outputs": [],
   "source": [
    "df_results = add_metrics_to_table(df_results, 2, \"Embedded\", X_1_2_classifier, y_1_2, clf_1_2,\"decision\")"
   ]
  },
  {
   "cell_type": "code",
   "execution_count": 203,
   "metadata": {},
   "outputs": [
    {
     "data": {
      "text/html": [
       "<div>\n",
       "<style scoped>\n",
       "    .dataframe tbody tr th:only-of-type {\n",
       "        vertical-align: middle;\n",
       "    }\n",
       "\n",
       "    .dataframe tbody tr th {\n",
       "        vertical-align: top;\n",
       "    }\n",
       "\n",
       "    .dataframe thead th {\n",
       "        text-align: right;\n",
       "    }\n",
       "</style>\n",
       "<table border=\"1\" class=\"dataframe\">\n",
       "  <thead>\n",
       "    <tr style=\"text-align: right;\">\n",
       "      <th></th>\n",
       "      <th>Section</th>\n",
       "      <th>Description</th>\n",
       "      <th>Accuracy</th>\n",
       "      <th>Sensitivity</th>\n",
       "      <th>Specificity</th>\n",
       "      <th>Pos_Predictive_Val</th>\n",
       "      <th>Neg_Predictive_Val</th>\n",
       "      <th>F1_Score</th>\n",
       "      <th>Matthew_Corr_Coef</th>\n",
       "      <th>AUC</th>\n",
       "    </tr>\n",
       "  </thead>\n",
       "  <tbody>\n",
       "    <tr>\n",
       "      <th>0</th>\n",
       "      <td>1</td>\n",
       "      <td>Wrapper</td>\n",
       "      <td>0.845626</td>\n",
       "      <td>0.301990</td>\n",
       "      <td>0.959818</td>\n",
       "      <td>0.612204</td>\n",
       "      <td>0.867485</td>\n",
       "      <td>0.459429</td>\n",
       "      <td>0.354382</td>\n",
       "      <td>0.766171</td>\n",
       "    </tr>\n",
       "    <tr>\n",
       "      <th>1</th>\n",
       "      <td>2</td>\n",
       "      <td>Embedded</td>\n",
       "      <td>0.848994</td>\n",
       "      <td>0.290299</td>\n",
       "      <td>0.966350</td>\n",
       "      <td>0.644395</td>\n",
       "      <td>0.866351</td>\n",
       "      <td>0.446473</td>\n",
       "      <td>0.362053</td>\n",
       "      <td>0.800752</td>\n",
       "    </tr>\n",
       "  </tbody>\n",
       "</table>\n",
       "</div>"
      ],
      "text/plain": [
       "   Section Description  Accuracy  Sensitivity  Specificity  \\\n",
       "0        1     Wrapper  0.845626     0.301990     0.959818   \n",
       "1        2    Embedded  0.848994     0.290299     0.966350   \n",
       "\n",
       "   Pos_Predictive_Val  Neg_Predictive_Val  F1_Score  Matthew_Corr_Coef  \\\n",
       "0            0.612204            0.867485  0.459429           0.354382   \n",
       "1            0.644395            0.866351  0.446473           0.362053   \n",
       "\n",
       "        AUC  \n",
       "0  0.766171  \n",
       "1  0.800752  "
      ]
     },
     "execution_count": 203,
     "metadata": {},
     "output_type": "execute_result"
    }
   ],
   "source": [
    "df_results"
   ]
  },
  {
   "cell_type": "markdown",
   "metadata": {
    "id": "RdEACG6sy2YU"
   },
   "source": [
    "### Part 1.3 Work "
   ]
  },
  {
   "cell_type": "code",
   "execution_count": 204,
   "metadata": {
    "id": "x6KIVVaZy2YU"
   },
   "outputs": [],
   "source": [
    "# TODO: \n",
    "#   Step 1: Select and apply a data imputation method to handle the missing data.\n",
    "#   Step 2: Apply the  wrapper based feature selection method you used in part 1.1.\n",
    "#   Step 3: Train a classifier using the selected features. Use the same classifier you used in part 1.1. Use 10-fold cross validation.\n",
    "\n",
    "# Tip: \n",
    "#   1. Sciki-learn implements different imputation methods. Take a look at https://scikit-learn.org/stable/modules/impute.html\n",
    "#   and use the one you think most appropriate."
   ]
  },
  {
   "cell_type": "markdown",
   "metadata": {},
   "source": [
    "#### Impute missing values"
   ]
  },
  {
   "cell_type": "code",
   "execution_count": 205,
   "metadata": {},
   "outputs": [],
   "source": [
    "from sklearn.impute import SimpleImputer\n",
    "\n",
    "imp = SimpleImputer(strategy=\"most_frequent\")"
   ]
  },
  {
   "cell_type": "code",
   "execution_count": 206,
   "metadata": {},
   "outputs": [
    {
     "data": {
      "text/plain": [
       "(121913, 19)"
      ]
     },
     "execution_count": 206,
     "metadata": {},
     "output_type": "execute_result"
    }
   ],
   "source": [
    "ndarray_imputed = imp.fit_transform(df_original)\n",
    "ndarray_imputed.shape"
   ]
  },
  {
   "cell_type": "code",
   "execution_count": 207,
   "metadata": {},
   "outputs": [
    {
     "data": {
      "text/html": [
       "<div>\n",
       "<style scoped>\n",
       "    .dataframe tbody tr th:only-of-type {\n",
       "        vertical-align: middle;\n",
       "    }\n",
       "\n",
       "    .dataframe tbody tr th {\n",
       "        vertical-align: top;\n",
       "    }\n",
       "\n",
       "    .dataframe thead th {\n",
       "        text-align: right;\n",
       "    }\n",
       "</style>\n",
       "<table border=\"1\" class=\"dataframe\">\n",
       "  <thead>\n",
       "    <tr style=\"text-align: right;\">\n",
       "      <th></th>\n",
       "      <th>Sex</th>\n",
       "      <th>Intubated</th>\n",
       "      <th>Pneumonia</th>\n",
       "      <th>Age</th>\n",
       "      <th>Pregnant</th>\n",
       "      <th>Diabetes</th>\n",
       "      <th>COPD</th>\n",
       "      <th>Asthma</th>\n",
       "      <th>Immunocompromised</th>\n",
       "      <th>Hypertension</th>\n",
       "      <th>Other_Disease</th>\n",
       "      <th>Cardiovascular_disease</th>\n",
       "      <th>Obesity</th>\n",
       "      <th>Renal_disease</th>\n",
       "      <th>Smoker</th>\n",
       "      <th>Exposure_to_others_with_COVID</th>\n",
       "      <th>Has_COVID</th>\n",
       "      <th>ICU</th>\n",
       "      <th>Died</th>\n",
       "    </tr>\n",
       "  </thead>\n",
       "  <tbody>\n",
       "    <tr>\n",
       "      <th>0</th>\n",
       "      <td>F</td>\n",
       "      <td>N</td>\n",
       "      <td>N</td>\n",
       "      <td>54</td>\n",
       "      <td>N</td>\n",
       "      <td>N</td>\n",
       "      <td>N</td>\n",
       "      <td>N</td>\n",
       "      <td>N</td>\n",
       "      <td>N</td>\n",
       "      <td>N</td>\n",
       "      <td>N</td>\n",
       "      <td>Y</td>\n",
       "      <td>N</td>\n",
       "      <td>N</td>\n",
       "      <td>N</td>\n",
       "      <td>Y</td>\n",
       "      <td>N</td>\n",
       "      <td>N</td>\n",
       "    </tr>\n",
       "    <tr>\n",
       "      <th>1</th>\n",
       "      <td>M</td>\n",
       "      <td>N</td>\n",
       "      <td>Y</td>\n",
       "      <td>30</td>\n",
       "      <td>N</td>\n",
       "      <td>N</td>\n",
       "      <td>N</td>\n",
       "      <td>N</td>\n",
       "      <td>N</td>\n",
       "      <td>N</td>\n",
       "      <td>N</td>\n",
       "      <td>N</td>\n",
       "      <td>N</td>\n",
       "      <td>N</td>\n",
       "      <td>N</td>\n",
       "      <td>N</td>\n",
       "      <td>Y</td>\n",
       "      <td>N</td>\n",
       "      <td>N</td>\n",
       "    </tr>\n",
       "    <tr>\n",
       "      <th>2</th>\n",
       "      <td>F</td>\n",
       "      <td>N</td>\n",
       "      <td>N</td>\n",
       "      <td>60</td>\n",
       "      <td>N</td>\n",
       "      <td>Y</td>\n",
       "      <td>N</td>\n",
       "      <td>N</td>\n",
       "      <td>N</td>\n",
       "      <td>Y</td>\n",
       "      <td>N</td>\n",
       "      <td>Y</td>\n",
       "      <td>N</td>\n",
       "      <td>N</td>\n",
       "      <td>N</td>\n",
       "      <td>N</td>\n",
       "      <td>Y</td>\n",
       "      <td>N</td>\n",
       "      <td>Y</td>\n",
       "    </tr>\n",
       "    <tr>\n",
       "      <th>3</th>\n",
       "      <td>M</td>\n",
       "      <td>N</td>\n",
       "      <td>Y</td>\n",
       "      <td>47</td>\n",
       "      <td>N</td>\n",
       "      <td>Y</td>\n",
       "      <td>N</td>\n",
       "      <td>N</td>\n",
       "      <td>N</td>\n",
       "      <td>N</td>\n",
       "      <td>N</td>\n",
       "      <td>N</td>\n",
       "      <td>N</td>\n",
       "      <td>N</td>\n",
       "      <td>N</td>\n",
       "      <td>N</td>\n",
       "      <td>Y</td>\n",
       "      <td>Y</td>\n",
       "      <td>Y</td>\n",
       "    </tr>\n",
       "    <tr>\n",
       "      <th>4</th>\n",
       "      <td>M</td>\n",
       "      <td>N</td>\n",
       "      <td>N</td>\n",
       "      <td>63</td>\n",
       "      <td>N</td>\n",
       "      <td>N</td>\n",
       "      <td>N</td>\n",
       "      <td>N</td>\n",
       "      <td>N</td>\n",
       "      <td>Y</td>\n",
       "      <td>N</td>\n",
       "      <td>N</td>\n",
       "      <td>N</td>\n",
       "      <td>N</td>\n",
       "      <td>N</td>\n",
       "      <td>N</td>\n",
       "      <td>Y</td>\n",
       "      <td>N</td>\n",
       "      <td>N</td>\n",
       "    </tr>\n",
       "  </tbody>\n",
       "</table>\n",
       "</div>"
      ],
      "text/plain": [
       "  Sex Intubated Pneumonia Age Pregnant Diabetes COPD Asthma Immunocompromised  \\\n",
       "0   F         N         N  54        N        N    N      N                 N   \n",
       "1   M         N         Y  30        N        N    N      N                 N   \n",
       "2   F         N         N  60        N        Y    N      N                 N   \n",
       "3   M         N         Y  47        N        Y    N      N                 N   \n",
       "4   M         N         N  63        N        N    N      N                 N   \n",
       "\n",
       "  Hypertension Other_Disease Cardiovascular_disease Obesity Renal_disease  \\\n",
       "0            N             N                      N       Y             N   \n",
       "1            N             N                      N       N             N   \n",
       "2            Y             N                      Y       N             N   \n",
       "3            N             N                      N       N             N   \n",
       "4            Y             N                      N       N             N   \n",
       "\n",
       "  Smoker Exposure_to_others_with_COVID Has_COVID ICU Died  \n",
       "0      N                             N         Y   N    N  \n",
       "1      N                             N         Y   N    N  \n",
       "2      N                             N         Y   N    Y  \n",
       "3      N                             N         Y   Y    Y  \n",
       "4      N                             N         Y   N    N  "
      ]
     },
     "execution_count": 207,
     "metadata": {},
     "output_type": "execute_result"
    }
   ],
   "source": [
    "# convert back to DataFrame\n",
    "df_imputed = pd.DataFrame(ndarray_imputed, columns=df_original.columns)\n",
    "df_imputed.head()"
   ]
  },
  {
   "cell_type": "code",
   "execution_count": 208,
   "metadata": {
    "scrolled": false
   },
   "outputs": [
    {
     "data": {
      "text/html": [
       "<div>\n",
       "<style scoped>\n",
       "    .dataframe tbody tr th:only-of-type {\n",
       "        vertical-align: middle;\n",
       "    }\n",
       "\n",
       "    .dataframe tbody tr th {\n",
       "        vertical-align: top;\n",
       "    }\n",
       "\n",
       "    .dataframe thead th {\n",
       "        text-align: right;\n",
       "    }\n",
       "</style>\n",
       "<table border=\"1\" class=\"dataframe\">\n",
       "  <thead>\n",
       "    <tr style=\"text-align: right;\">\n",
       "      <th></th>\n",
       "      <th>Sex</th>\n",
       "      <th>Intubated</th>\n",
       "      <th>Pneumonia</th>\n",
       "      <th>Age</th>\n",
       "      <th>Pregnant</th>\n",
       "      <th>Diabetes</th>\n",
       "      <th>COPD</th>\n",
       "      <th>Asthma</th>\n",
       "      <th>Immunocompromised</th>\n",
       "      <th>Hypertension</th>\n",
       "      <th>Other_Disease</th>\n",
       "      <th>Cardiovascular_disease</th>\n",
       "      <th>Obesity</th>\n",
       "      <th>Renal_disease</th>\n",
       "      <th>Smoker</th>\n",
       "      <th>Exposure_to_others_with_COVID</th>\n",
       "      <th>Has_COVID</th>\n",
       "      <th>ICU</th>\n",
       "      <th>Died</th>\n",
       "    </tr>\n",
       "  </thead>\n",
       "  <tbody>\n",
       "    <tr>\n",
       "      <th>0</th>\n",
       "      <td>F</td>\n",
       "      <td>N</td>\n",
       "      <td>N</td>\n",
       "      <td>54</td>\n",
       "      <td>N</td>\n",
       "      <td>N</td>\n",
       "      <td>N</td>\n",
       "      <td>N</td>\n",
       "      <td>N</td>\n",
       "      <td>N</td>\n",
       "      <td>N</td>\n",
       "      <td>N</td>\n",
       "      <td>Y</td>\n",
       "      <td>N</td>\n",
       "      <td>N</td>\n",
       "      <td>NaN</td>\n",
       "      <td>Y</td>\n",
       "      <td>N</td>\n",
       "      <td>N</td>\n",
       "    </tr>\n",
       "    <tr>\n",
       "      <th>1</th>\n",
       "      <td>M</td>\n",
       "      <td>N</td>\n",
       "      <td>Y</td>\n",
       "      <td>30</td>\n",
       "      <td>NaN</td>\n",
       "      <td>N</td>\n",
       "      <td>N</td>\n",
       "      <td>N</td>\n",
       "      <td>N</td>\n",
       "      <td>N</td>\n",
       "      <td>N</td>\n",
       "      <td>N</td>\n",
       "      <td>N</td>\n",
       "      <td>N</td>\n",
       "      <td>N</td>\n",
       "      <td>NaN</td>\n",
       "      <td>Y</td>\n",
       "      <td>N</td>\n",
       "      <td>N</td>\n",
       "    </tr>\n",
       "    <tr>\n",
       "      <th>2</th>\n",
       "      <td>F</td>\n",
       "      <td>N</td>\n",
       "      <td>N</td>\n",
       "      <td>60</td>\n",
       "      <td>N</td>\n",
       "      <td>Y</td>\n",
       "      <td>N</td>\n",
       "      <td>N</td>\n",
       "      <td>N</td>\n",
       "      <td>Y</td>\n",
       "      <td>N</td>\n",
       "      <td>Y</td>\n",
       "      <td>N</td>\n",
       "      <td>N</td>\n",
       "      <td>N</td>\n",
       "      <td>NaN</td>\n",
       "      <td>Y</td>\n",
       "      <td>N</td>\n",
       "      <td>Y</td>\n",
       "    </tr>\n",
       "    <tr>\n",
       "      <th>3</th>\n",
       "      <td>M</td>\n",
       "      <td>N</td>\n",
       "      <td>Y</td>\n",
       "      <td>47</td>\n",
       "      <td>NaN</td>\n",
       "      <td>Y</td>\n",
       "      <td>N</td>\n",
       "      <td>N</td>\n",
       "      <td>N</td>\n",
       "      <td>N</td>\n",
       "      <td>N</td>\n",
       "      <td>N</td>\n",
       "      <td>N</td>\n",
       "      <td>N</td>\n",
       "      <td>N</td>\n",
       "      <td>NaN</td>\n",
       "      <td>Y</td>\n",
       "      <td>Y</td>\n",
       "      <td>Y</td>\n",
       "    </tr>\n",
       "    <tr>\n",
       "      <th>4</th>\n",
       "      <td>M</td>\n",
       "      <td>N</td>\n",
       "      <td>N</td>\n",
       "      <td>63</td>\n",
       "      <td>NaN</td>\n",
       "      <td>N</td>\n",
       "      <td>N</td>\n",
       "      <td>N</td>\n",
       "      <td>N</td>\n",
       "      <td>Y</td>\n",
       "      <td>N</td>\n",
       "      <td>N</td>\n",
       "      <td>N</td>\n",
       "      <td>N</td>\n",
       "      <td>N</td>\n",
       "      <td>NaN</td>\n",
       "      <td>Y</td>\n",
       "      <td>N</td>\n",
       "      <td>N</td>\n",
       "    </tr>\n",
       "  </tbody>\n",
       "</table>\n",
       "</div>"
      ],
      "text/plain": [
       "  Sex Intubated Pneumonia  Age Pregnant Diabetes COPD Asthma  \\\n",
       "0   F         N         N   54        N        N    N      N   \n",
       "1   M         N         Y   30      NaN        N    N      N   \n",
       "2   F         N         N   60        N        Y    N      N   \n",
       "3   M         N         Y   47      NaN        Y    N      N   \n",
       "4   M         N         N   63      NaN        N    N      N   \n",
       "\n",
       "  Immunocompromised Hypertension Other_Disease Cardiovascular_disease Obesity  \\\n",
       "0                 N            N             N                      N       Y   \n",
       "1                 N            N             N                      N       N   \n",
       "2                 N            Y             N                      Y       N   \n",
       "3                 N            N             N                      N       N   \n",
       "4                 N            Y             N                      N       N   \n",
       "\n",
       "  Renal_disease Smoker Exposure_to_others_with_COVID Has_COVID ICU Died  \n",
       "0             N      N                           NaN         Y   N    N  \n",
       "1             N      N                           NaN         Y   N    N  \n",
       "2             N      N                           NaN         Y   N    Y  \n",
       "3             N      N                           NaN         Y   Y    Y  \n",
       "4             N      N                           NaN         Y   N    N  "
      ]
     },
     "execution_count": 208,
     "metadata": {},
     "output_type": "execute_result"
    }
   ],
   "source": [
    "df_original.head()"
   ]
  },
  {
   "cell_type": "code",
   "execution_count": 209,
   "metadata": {},
   "outputs": [],
   "source": [
    "# convert Age to int64 data type so get_dummies() doesn't treat it as a category\n",
    "df_imputed = df_imputed.astype({'Age': 'int64'})"
   ]
  },
  {
   "cell_type": "code",
   "execution_count": 210,
   "metadata": {},
   "outputs": [
    {
     "name": "stdout",
     "output_type": "stream",
     "text": [
      "<class 'pandas.core.frame.DataFrame'>\n",
      "RangeIndex: 121913 entries, 0 to 121912\n",
      "Data columns (total 19 columns):\n",
      " #   Column                         Non-Null Count   Dtype \n",
      "---  ------                         --------------   ----- \n",
      " 0   Sex                            121913 non-null  object\n",
      " 1   Intubated                      121913 non-null  object\n",
      " 2   Pneumonia                      121913 non-null  object\n",
      " 3   Age                            121913 non-null  int64 \n",
      " 4   Pregnant                       121913 non-null  object\n",
      " 5   Diabetes                       121913 non-null  object\n",
      " 6   COPD                           121913 non-null  object\n",
      " 7   Asthma                         121913 non-null  object\n",
      " 8   Immunocompromised              121913 non-null  object\n",
      " 9   Hypertension                   121913 non-null  object\n",
      " 10  Other_Disease                  121913 non-null  object\n",
      " 11  Cardiovascular_disease         121913 non-null  object\n",
      " 12  Obesity                        121913 non-null  object\n",
      " 13  Renal_disease                  121913 non-null  object\n",
      " 14  Smoker                         121913 non-null  object\n",
      " 15  Exposure_to_others_with_COVID  121913 non-null  object\n",
      " 16  Has_COVID                      121913 non-null  object\n",
      " 17  ICU                            121913 non-null  object\n",
      " 18  Died                           121913 non-null  object\n",
      "dtypes: int64(1), object(18)\n",
      "memory usage: 17.7+ MB\n"
     ]
    }
   ],
   "source": [
    "df_imputed.info()"
   ]
  },
  {
   "cell_type": "markdown",
   "metadata": {},
   "source": [
    "#### Convert categorical data to numerical"
   ]
  },
  {
   "cell_type": "code",
   "execution_count": 211,
   "metadata": {},
   "outputs": [],
   "source": [
    "def encode_data_2(df):\n",
    "    '''\n",
    "    Encodes categorical data then returns a DataFrame of the result.\n",
    "    '''\n",
    "    \n",
    "    # convert categorical data to numerical values\n",
    "    # drop one of each of the binary categories because it is not necessary (all info is encoded by one column)\n",
    "    df=pd.get_dummies(df, drop_first=True)\n",
    "\n",
    "    return df"
   ]
  },
  {
   "cell_type": "code",
   "execution_count": 212,
   "metadata": {},
   "outputs": [
    {
     "data": {
      "text/plain": [
       "(121913, 20)"
      ]
     },
     "execution_count": 212,
     "metadata": {},
     "output_type": "execute_result"
    }
   ],
   "source": [
    "df_imputed_encoded = encode_data_2(df_imputed)\n",
    "df_imputed_encoded.shape"
   ]
  },
  {
   "cell_type": "code",
   "execution_count": 213,
   "metadata": {},
   "outputs": [
    {
     "data": {
      "text/html": [
       "<div>\n",
       "<style scoped>\n",
       "    .dataframe tbody tr th:only-of-type {\n",
       "        vertical-align: middle;\n",
       "    }\n",
       "\n",
       "    .dataframe tbody tr th {\n",
       "        vertical-align: top;\n",
       "    }\n",
       "\n",
       "    .dataframe thead th {\n",
       "        text-align: right;\n",
       "    }\n",
       "</style>\n",
       "<table border=\"1\" class=\"dataframe\">\n",
       "  <thead>\n",
       "    <tr style=\"text-align: right;\">\n",
       "      <th></th>\n",
       "      <th>Age</th>\n",
       "      <th>Sex_M</th>\n",
       "      <th>Intubated_Y</th>\n",
       "      <th>Pneumonia_Y</th>\n",
       "      <th>Pregnant_Y</th>\n",
       "      <th>Diabetes_Y</th>\n",
       "      <th>COPD_Y</th>\n",
       "      <th>Asthma_Y</th>\n",
       "      <th>Immunocompromised_Y</th>\n",
       "      <th>Hypertension_Y</th>\n",
       "      <th>Other_Disease_Y</th>\n",
       "      <th>Cardiovascular_disease_Y</th>\n",
       "      <th>Obesity_Y</th>\n",
       "      <th>Renal_disease_Y</th>\n",
       "      <th>Smoker_Y</th>\n",
       "      <th>Exposure_to_others_with_COVID_Y</th>\n",
       "      <th>Has_COVID_Pending</th>\n",
       "      <th>Has_COVID_Y</th>\n",
       "      <th>ICU_Y</th>\n",
       "      <th>Died_Y</th>\n",
       "    </tr>\n",
       "  </thead>\n",
       "  <tbody>\n",
       "    <tr>\n",
       "      <th>0</th>\n",
       "      <td>54</td>\n",
       "      <td>0</td>\n",
       "      <td>0</td>\n",
       "      <td>0</td>\n",
       "      <td>0</td>\n",
       "      <td>0</td>\n",
       "      <td>0</td>\n",
       "      <td>0</td>\n",
       "      <td>0</td>\n",
       "      <td>0</td>\n",
       "      <td>0</td>\n",
       "      <td>0</td>\n",
       "      <td>1</td>\n",
       "      <td>0</td>\n",
       "      <td>0</td>\n",
       "      <td>0</td>\n",
       "      <td>0</td>\n",
       "      <td>1</td>\n",
       "      <td>0</td>\n",
       "      <td>0</td>\n",
       "    </tr>\n",
       "    <tr>\n",
       "      <th>1</th>\n",
       "      <td>30</td>\n",
       "      <td>1</td>\n",
       "      <td>0</td>\n",
       "      <td>1</td>\n",
       "      <td>0</td>\n",
       "      <td>0</td>\n",
       "      <td>0</td>\n",
       "      <td>0</td>\n",
       "      <td>0</td>\n",
       "      <td>0</td>\n",
       "      <td>0</td>\n",
       "      <td>0</td>\n",
       "      <td>0</td>\n",
       "      <td>0</td>\n",
       "      <td>0</td>\n",
       "      <td>0</td>\n",
       "      <td>0</td>\n",
       "      <td>1</td>\n",
       "      <td>0</td>\n",
       "      <td>0</td>\n",
       "    </tr>\n",
       "    <tr>\n",
       "      <th>2</th>\n",
       "      <td>60</td>\n",
       "      <td>0</td>\n",
       "      <td>0</td>\n",
       "      <td>0</td>\n",
       "      <td>0</td>\n",
       "      <td>1</td>\n",
       "      <td>0</td>\n",
       "      <td>0</td>\n",
       "      <td>0</td>\n",
       "      <td>1</td>\n",
       "      <td>0</td>\n",
       "      <td>1</td>\n",
       "      <td>0</td>\n",
       "      <td>0</td>\n",
       "      <td>0</td>\n",
       "      <td>0</td>\n",
       "      <td>0</td>\n",
       "      <td>1</td>\n",
       "      <td>0</td>\n",
       "      <td>1</td>\n",
       "    </tr>\n",
       "    <tr>\n",
       "      <th>3</th>\n",
       "      <td>47</td>\n",
       "      <td>1</td>\n",
       "      <td>0</td>\n",
       "      <td>1</td>\n",
       "      <td>0</td>\n",
       "      <td>1</td>\n",
       "      <td>0</td>\n",
       "      <td>0</td>\n",
       "      <td>0</td>\n",
       "      <td>0</td>\n",
       "      <td>0</td>\n",
       "      <td>0</td>\n",
       "      <td>0</td>\n",
       "      <td>0</td>\n",
       "      <td>0</td>\n",
       "      <td>0</td>\n",
       "      <td>0</td>\n",
       "      <td>1</td>\n",
       "      <td>1</td>\n",
       "      <td>1</td>\n",
       "    </tr>\n",
       "    <tr>\n",
       "      <th>4</th>\n",
       "      <td>63</td>\n",
       "      <td>1</td>\n",
       "      <td>0</td>\n",
       "      <td>0</td>\n",
       "      <td>0</td>\n",
       "      <td>0</td>\n",
       "      <td>0</td>\n",
       "      <td>0</td>\n",
       "      <td>0</td>\n",
       "      <td>1</td>\n",
       "      <td>0</td>\n",
       "      <td>0</td>\n",
       "      <td>0</td>\n",
       "      <td>0</td>\n",
       "      <td>0</td>\n",
       "      <td>0</td>\n",
       "      <td>0</td>\n",
       "      <td>1</td>\n",
       "      <td>0</td>\n",
       "      <td>0</td>\n",
       "    </tr>\n",
       "  </tbody>\n",
       "</table>\n",
       "</div>"
      ],
      "text/plain": [
       "   Age  Sex_M  Intubated_Y  Pneumonia_Y  Pregnant_Y  Diabetes_Y  COPD_Y  \\\n",
       "0   54      0            0            0           0           0       0   \n",
       "1   30      1            0            1           0           0       0   \n",
       "2   60      0            0            0           0           1       0   \n",
       "3   47      1            0            1           0           1       0   \n",
       "4   63      1            0            0           0           0       0   \n",
       "\n",
       "   Asthma_Y  Immunocompromised_Y  Hypertension_Y  Other_Disease_Y  \\\n",
       "0         0                    0               0                0   \n",
       "1         0                    0               0                0   \n",
       "2         0                    0               1                0   \n",
       "3         0                    0               0                0   \n",
       "4         0                    0               1                0   \n",
       "\n",
       "   Cardiovascular_disease_Y  Obesity_Y  Renal_disease_Y  Smoker_Y  \\\n",
       "0                         0          1                0         0   \n",
       "1                         0          0                0         0   \n",
       "2                         1          0                0         0   \n",
       "3                         0          0                0         0   \n",
       "4                         0          0                0         0   \n",
       "\n",
       "   Exposure_to_others_with_COVID_Y  Has_COVID_Pending  Has_COVID_Y  ICU_Y  \\\n",
       "0                                0                  0            1      0   \n",
       "1                                0                  0            1      0   \n",
       "2                                0                  0            1      0   \n",
       "3                                0                  0            1      1   \n",
       "4                                0                  0            1      0   \n",
       "\n",
       "   Died_Y  \n",
       "0       0  \n",
       "1       0  \n",
       "2       1  \n",
       "3       1  \n",
       "4       0  "
      ]
     },
     "execution_count": 213,
     "metadata": {},
     "output_type": "execute_result"
    }
   ],
   "source": [
    "df_imputed_encoded.head()"
   ]
  },
  {
   "cell_type": "code",
   "execution_count": 214,
   "metadata": {},
   "outputs": [
    {
     "name": "stdout",
     "output_type": "stream",
     "text": [
      "(121913, 19)\n",
      "(121913,)\n"
     ]
    }
   ],
   "source": [
    "# separate into features and target \n",
    "X_1_3 = df_imputed_encoded.drop('Died_Y', axis='columns')\n",
    "y_1_3 = df_imputed_encoded['Died_Y']\n",
    "print(X_1_3.shape)\n",
    "print(y_1_3.shape)"
   ]
  },
  {
   "cell_type": "markdown",
   "metadata": {},
   "source": [
    "#### Apply wrapper based feature selection"
   ]
  },
  {
   "cell_type": "code",
   "execution_count": 215,
   "metadata": {},
   "outputs": [
    {
     "name": "stdout",
     "output_type": "stream",
     "text": [
      "CPU times: user 2.36 s, sys: 54.2 ms, total: 2.42 s\n",
      "Wall time: 13.1 s\n"
     ]
    }
   ],
   "source": [
    "%%time \n",
    "# runtime - 23 min (30000 records, 10 fold, 3 cores) with perform_feature_selection_wrapper_1\n",
    "# runtime - 13 s (120k records, 10 fold, 3 cores) with perform_feature_selection_wrapper_3\n",
    "\n",
    "# feature selection\n",
    "rfecv_imputed = perform_feature_selection_wrapper_3(X_1_3,y_1_3)\n",
    "features_wrapper_imputed = get_feature_list(X_1_3,rfecv_imputed.support_)"
   ]
  },
  {
   "cell_type": "code",
   "execution_count": 216,
   "metadata": {},
   "outputs": [
    {
     "data": {
      "text/plain": [
       "['Age', 'Intubated_Y', 'Pneumonia_Y', 'Has_COVID_Y']"
      ]
     },
     "execution_count": 216,
     "metadata": {},
     "output_type": "execute_result"
    }
   ],
   "source": [
    "features_wrapper_imputed"
   ]
  },
  {
   "cell_type": "markdown",
   "metadata": {},
   "source": [
    "#### Train classifier"
   ]
  },
  {
   "cell_type": "code",
   "execution_count": 217,
   "metadata": {},
   "outputs": [
    {
     "name": "stdout",
     "output_type": "stream",
     "text": [
      "CPU times: user 3.88 s, sys: 85.7 ms, total: 3.96 s\n",
      "Wall time: 1.04 s\n"
     ]
    }
   ],
   "source": [
    "%%time\n",
    "\n",
    "# classification\n",
    "X_1_3_classifier = build_X_from_features(X_1_3,features_wrapper_imputed)\n",
    "clf_1_3 = train_classifier(X_1_3_classifier,y_1_3,10)"
   ]
  },
  {
   "cell_type": "markdown",
   "metadata": {},
   "source": [
    "#### Add classifier metrics to results DataFrame"
   ]
  },
  {
   "cell_type": "code",
   "execution_count": 218,
   "metadata": {},
   "outputs": [],
   "source": [
    "df_results = add_metrics_to_table(df_results, 3, \"Wrapper Imputed\", X_1_3_classifier, y_1_3, clf_1_3,\"decision\")"
   ]
  },
  {
   "cell_type": "code",
   "execution_count": 219,
   "metadata": {},
   "outputs": [
    {
     "data": {
      "text/html": [
       "<div>\n",
       "<style scoped>\n",
       "    .dataframe tbody tr th:only-of-type {\n",
       "        vertical-align: middle;\n",
       "    }\n",
       "\n",
       "    .dataframe tbody tr th {\n",
       "        vertical-align: top;\n",
       "    }\n",
       "\n",
       "    .dataframe thead th {\n",
       "        text-align: right;\n",
       "    }\n",
       "</style>\n",
       "<table border=\"1\" class=\"dataframe\">\n",
       "  <thead>\n",
       "    <tr style=\"text-align: right;\">\n",
       "      <th></th>\n",
       "      <th>Section</th>\n",
       "      <th>Description</th>\n",
       "      <th>Accuracy</th>\n",
       "      <th>Sensitivity</th>\n",
       "      <th>Specificity</th>\n",
       "      <th>Pos_Predictive_Val</th>\n",
       "      <th>Neg_Predictive_Val</th>\n",
       "      <th>F1_Score</th>\n",
       "      <th>Matthew_Corr_Coef</th>\n",
       "      <th>AUC</th>\n",
       "    </tr>\n",
       "  </thead>\n",
       "  <tbody>\n",
       "    <tr>\n",
       "      <th>0</th>\n",
       "      <td>1</td>\n",
       "      <td>Wrapper</td>\n",
       "      <td>0.845626</td>\n",
       "      <td>0.301990</td>\n",
       "      <td>0.959818</td>\n",
       "      <td>0.612204</td>\n",
       "      <td>0.867485</td>\n",
       "      <td>0.459429</td>\n",
       "      <td>0.354382</td>\n",
       "      <td>0.766171</td>\n",
       "    </tr>\n",
       "    <tr>\n",
       "      <th>1</th>\n",
       "      <td>2</td>\n",
       "      <td>Embedded</td>\n",
       "      <td>0.848994</td>\n",
       "      <td>0.290299</td>\n",
       "      <td>0.966350</td>\n",
       "      <td>0.644395</td>\n",
       "      <td>0.866351</td>\n",
       "      <td>0.446473</td>\n",
       "      <td>0.362053</td>\n",
       "      <td>0.800752</td>\n",
       "    </tr>\n",
       "    <tr>\n",
       "      <th>2</th>\n",
       "      <td>3</td>\n",
       "      <td>Wrapper Imputed</td>\n",
       "      <td>0.753824</td>\n",
       "      <td>0.170445</td>\n",
       "      <td>0.966371</td>\n",
       "      <td>0.648702</td>\n",
       "      <td>0.761757</td>\n",
       "      <td>0.289779</td>\n",
       "      <td>0.236975</td>\n",
       "      <td>0.748270</td>\n",
       "    </tr>\n",
       "  </tbody>\n",
       "</table>\n",
       "</div>"
      ],
      "text/plain": [
       "   Section      Description  Accuracy  Sensitivity  Specificity  \\\n",
       "0        1          Wrapper  0.845626     0.301990     0.959818   \n",
       "1        2         Embedded  0.848994     0.290299     0.966350   \n",
       "2        3  Wrapper Imputed  0.753824     0.170445     0.966371   \n",
       "\n",
       "   Pos_Predictive_Val  Neg_Predictive_Val  F1_Score  Matthew_Corr_Coef  \\\n",
       "0            0.612204            0.867485  0.459429           0.354382   \n",
       "1            0.644395            0.866351  0.446473           0.362053   \n",
       "2            0.648702            0.761757  0.289779           0.236975   \n",
       "\n",
       "        AUC  \n",
       "0  0.766171  \n",
       "1  0.800752  \n",
       "2  0.748270  "
      ]
     },
     "execution_count": 219,
     "metadata": {},
     "output_type": "execute_result"
    }
   ],
   "source": [
    "df_results"
   ]
  },
  {
   "cell_type": "markdown",
   "metadata": {
    "id": "EKXCaHm_y2YZ"
   },
   "source": [
    "### Part 1.4 Work "
   ]
  },
  {
   "cell_type": "code",
   "execution_count": 220,
   "metadata": {
    "id": "MdlwFY4ty2YZ"
   },
   "outputs": [],
   "source": [
    "# TODO: \n",
    "#   Step 1: Apply a data imputation method to eliminate any missing values in the data. Use the same method you used in part 1.3. \n",
    "#   Step 2: Train a classifier. Use the same classifier you used in part 1.2. Use 10-fold cross validation."
   ]
  },
  {
   "cell_type": "markdown",
   "metadata": {},
   "source": [
    "#### Perform feature selection and classification"
   ]
  },
  {
   "cell_type": "code",
   "execution_count": 221,
   "metadata": {},
   "outputs": [],
   "source": [
    "# use the same imputed data as in 1.3\n",
    "X_1_4=X_1_3\n",
    "y_1_4=y_1_3\n",
    "\n",
    "# split data\n",
    "X_train_embedded_i,X_test_embedded_i,y_train_embedded_i,y_test_embedded_i = train_test_split(\n",
    "    X_1_4,\n",
    "    y_1_4,\n",
    "    test_size=0.25)"
   ]
  },
  {
   "cell_type": "code",
   "execution_count": 222,
   "metadata": {},
   "outputs": [
    {
     "name": "stdout",
     "output_type": "stream",
     "text": [
      "CPU times: user 5.8 s, sys: 94.7 ms, total: 5.89 s\n",
      "Wall time: 5.84 s\n"
     ]
    }
   ],
   "source": [
    "%%time\n",
    "\n",
    "# feature selection\n",
    "rfc = perform_feature_selection_embedded(X_train_embedded_i, y_train_embedded_i)\n",
    "features_embedded_imputed = get_feature_list(X_1_4,rfc.get_support())"
   ]
  },
  {
   "cell_type": "code",
   "execution_count": 223,
   "metadata": {},
   "outputs": [
    {
     "data": {
      "text/plain": [
       "['Age', 'Intubated_Y', 'Has_COVID_Y']"
      ]
     },
     "execution_count": 223,
     "metadata": {},
     "output_type": "execute_result"
    }
   ],
   "source": [
    "features_embedded_imputed"
   ]
  },
  {
   "cell_type": "code",
   "execution_count": 224,
   "metadata": {},
   "outputs": [
    {
     "name": "stdout",
     "output_type": "stream",
     "text": [
      "CPU times: user 3.96 s, sys: 102 ms, total: 4.06 s\n",
      "Wall time: 1.07 s\n"
     ]
    }
   ],
   "source": [
    "%%time\n",
    "\n",
    "# classification\n",
    "X_1_4_classifier = build_X_from_features(X_1_4,features_embedded_imputed)\n",
    "clf_1_4 = train_classifier(X_1_4_classifier,y_1_4,10)"
   ]
  },
  {
   "cell_type": "markdown",
   "metadata": {},
   "source": [
    "#### Calculate metrics and add row to results DataFrame"
   ]
  },
  {
   "cell_type": "code",
   "execution_count": 225,
   "metadata": {},
   "outputs": [],
   "source": [
    "df_results = add_metrics_to_table(df_results, 4,\"Embedded Imputed\",X_1_4_classifier,y_1_4,clf_1_4,\"decision\")"
   ]
  },
  {
   "cell_type": "code",
   "execution_count": 226,
   "metadata": {},
   "outputs": [
    {
     "data": {
      "text/html": [
       "<div>\n",
       "<style scoped>\n",
       "    .dataframe tbody tr th:only-of-type {\n",
       "        vertical-align: middle;\n",
       "    }\n",
       "\n",
       "    .dataframe tbody tr th {\n",
       "        vertical-align: top;\n",
       "    }\n",
       "\n",
       "    .dataframe thead th {\n",
       "        text-align: right;\n",
       "    }\n",
       "</style>\n",
       "<table border=\"1\" class=\"dataframe\">\n",
       "  <thead>\n",
       "    <tr style=\"text-align: right;\">\n",
       "      <th></th>\n",
       "      <th>Section</th>\n",
       "      <th>Description</th>\n",
       "      <th>Accuracy</th>\n",
       "      <th>Sensitivity</th>\n",
       "      <th>Specificity</th>\n",
       "      <th>Pos_Predictive_Val</th>\n",
       "      <th>Neg_Predictive_Val</th>\n",
       "      <th>F1_Score</th>\n",
       "      <th>Matthew_Corr_Coef</th>\n",
       "      <th>AUC</th>\n",
       "    </tr>\n",
       "  </thead>\n",
       "  <tbody>\n",
       "    <tr>\n",
       "      <th>0</th>\n",
       "      <td>1</td>\n",
       "      <td>Wrapper</td>\n",
       "      <td>0.845626</td>\n",
       "      <td>0.301990</td>\n",
       "      <td>0.959818</td>\n",
       "      <td>0.612204</td>\n",
       "      <td>0.867485</td>\n",
       "      <td>0.459429</td>\n",
       "      <td>0.354382</td>\n",
       "      <td>0.766171</td>\n",
       "    </tr>\n",
       "    <tr>\n",
       "      <th>1</th>\n",
       "      <td>2</td>\n",
       "      <td>Embedded</td>\n",
       "      <td>0.848994</td>\n",
       "      <td>0.290299</td>\n",
       "      <td>0.966350</td>\n",
       "      <td>0.644395</td>\n",
       "      <td>0.866351</td>\n",
       "      <td>0.446473</td>\n",
       "      <td>0.362053</td>\n",
       "      <td>0.800752</td>\n",
       "    </tr>\n",
       "    <tr>\n",
       "      <th>2</th>\n",
       "      <td>3</td>\n",
       "      <td>Wrapper Imputed</td>\n",
       "      <td>0.753824</td>\n",
       "      <td>0.170445</td>\n",
       "      <td>0.966371</td>\n",
       "      <td>0.648702</td>\n",
       "      <td>0.761757</td>\n",
       "      <td>0.289779</td>\n",
       "      <td>0.236975</td>\n",
       "      <td>0.748270</td>\n",
       "    </tr>\n",
       "    <tr>\n",
       "      <th>3</th>\n",
       "      <td>4</td>\n",
       "      <td>Embedded Imputed</td>\n",
       "      <td>0.752446</td>\n",
       "      <td>0.158527</td>\n",
       "      <td>0.968833</td>\n",
       "      <td>0.649509</td>\n",
       "      <td>0.759623</td>\n",
       "      <td>0.272470</td>\n",
       "      <td>0.228270</td>\n",
       "      <td>0.740902</td>\n",
       "    </tr>\n",
       "  </tbody>\n",
       "</table>\n",
       "</div>"
      ],
      "text/plain": [
       "   Section       Description  Accuracy  Sensitivity  Specificity  \\\n",
       "0        1           Wrapper  0.845626     0.301990     0.959818   \n",
       "1        2          Embedded  0.848994     0.290299     0.966350   \n",
       "2        3   Wrapper Imputed  0.753824     0.170445     0.966371   \n",
       "3        4  Embedded Imputed  0.752446     0.158527     0.968833   \n",
       "\n",
       "   Pos_Predictive_Val  Neg_Predictive_Val  F1_Score  Matthew_Corr_Coef  \\\n",
       "0            0.612204            0.867485  0.459429           0.354382   \n",
       "1            0.644395            0.866351  0.446473           0.362053   \n",
       "2            0.648702            0.761757  0.289779           0.236975   \n",
       "3            0.649509            0.759623  0.272470           0.228270   \n",
       "\n",
       "        AUC  \n",
       "0  0.766171  \n",
       "1  0.800752  \n",
       "2  0.748270  \n",
       "3  0.740902  "
      ]
     },
     "execution_count": 226,
     "metadata": {},
     "output_type": "execute_result"
    }
   ],
   "source": [
    "df_results"
   ]
  },
  {
   "cell_type": "markdown",
   "metadata": {
    "id": "pmT3MFZcy2Yj"
   },
   "source": [
    "### Part 1.5 Work "
   ]
  },
  {
   "cell_type": "code",
   "execution_count": 227,
   "metadata": {
    "id": "4gzJms7Fy2Yj"
   },
   "outputs": [],
   "source": [
    "# TODO: \n",
    "#   Step 1: Apply a data imputation method to eliminate any missing values in the data. Use the same method you used in parts 1.3 & 1.4. \n",
    "#   Step 2: Select a learning algorithm that performs cost-sensitive learning. \n",
    "#   Step 3: Adjust the costs until you find a classifier that maximizes the F1-score, subject to the constraint that it achieves 95% sensitivity for the label ‘Y’.  Use 10-fold cross validation.\n",
    "\n",
    "# Tip: \n",
    "#   1. F1-score: https://en.wikipedia.org/wiki/F1_score\n",
    "#   2. Scikit-learn supports extending the classifiers to cost-sensitive learning.\n",
    "#   Take a look at this tutorial: https://machinelearningmastery.com/cost-sensitive-learning-for-imbalanced-classification/"
   ]
  },
  {
   "cell_type": "markdown",
   "metadata": {},
   "source": [
    "#### Apply same data imputation method"
   ]
  },
  {
   "cell_type": "code",
   "execution_count": 228,
   "metadata": {},
   "outputs": [],
   "source": [
    "# use the same imputed data as in 1.3\n",
    "X_1_5 = X_1_4\n",
    "y_1_5 = y_1_4"
   ]
  },
  {
   "cell_type": "code",
   "execution_count": 229,
   "metadata": {},
   "outputs": [
    {
     "data": {
      "text/plain": [
       "0    89357\n",
       "1    32556\n",
       "Name: Died_Y, dtype: int64"
      ]
     },
     "execution_count": 229,
     "metadata": {},
     "output_type": "execute_result"
    }
   ],
   "source": [
    "# check label counts to see imbalance\n",
    "y_1_5.value_counts()"
   ]
  },
  {
   "cell_type": "markdown",
   "metadata": {},
   "source": [
    "#### Feature Selection?"
   ]
  },
  {
   "cell_type": "code",
   "execution_count": 230,
   "metadata": {},
   "outputs": [],
   "source": [
    "##?? are we performing feature selection here\n",
    "X_1_5_classifier = X_1_5"
   ]
  },
  {
   "cell_type": "markdown",
   "metadata": {},
   "source": [
    "#### Find correct weights for cost-sensitive classifier"
   ]
  },
  {
   "cell_type": "code",
   "execution_count": 231,
   "metadata": {},
   "outputs": [],
   "source": [
    "def train_cost_sensitive_classifier(X,y,k,weights):\n",
    "    clf = RidgeClassifierCV(alphas=[1e-3, 1e-2, 1e-1, 1],cv=k, class_weight=weights)\n",
    "    return clf.fit(X, y)"
   ]
  },
  {
   "cell_type": "code",
   "execution_count": 232,
   "metadata": {},
   "outputs": [],
   "source": [
    "def calc_sensitivity_and_f1(cm):\n",
    "    \n",
    "    tn, fp, fn, tp = cm.ravel()\n",
    "    \n",
    "    # sensitivity\n",
    "    sen = tp / (tp + fn)\n",
    "    \n",
    "    # specificity\n",
    "    spec = tn / (tn + fp)\n",
    "    \n",
    "    # precision\n",
    "    prec = tn / (tn + fp)\n",
    "    \n",
    "    # f1 score\n",
    "    f1 = 2 * (prec * sen) / (prec + sen) \n",
    "    \n",
    "    return (sen,f1)"
   ]
  },
  {
   "cell_type": "code",
   "execution_count": 233,
   "metadata": {
    "scrolled": true
   },
   "outputs": [
    {
     "name": "stdout",
     "output_type": "stream",
     "text": [
      "\n",
      "Sensitivity: 0.7253655240201499\n",
      "F-score: 0.6901169345005495\n"
     ]
    }
   ],
   "source": [
    "def run_balanced_case(X,y):\n",
    "    # base case\n",
    "    clf = train_cost_sensitive_classifier(X,y,10,'balanced')\n",
    "\n",
    "    # calculate confusion matrix\n",
    "    y_predict = clf.predict(X)\n",
    "    y_real = y\n",
    "    cm = get_confusion_matrix(y_real,y_predict)\n",
    "\n",
    "    # calculate metrics\n",
    "    sen,f1 = calc_sensitivity_and_f1(cm)\n",
    "    print('\\nSensitivity:',sen)\n",
    "    print('F-score:',f1)\n",
    "    \n",
    "run_balanced_case(X_1_5_classifier,y_1_5)"
   ]
  },
  {
   "cell_type": "code",
   "execution_count": 234,
   "metadata": {},
   "outputs": [],
   "source": [
    "# after zero weight of 0.2, results degraded rapidly\n",
    "def find_zero_weight_to_maximize_f1(X,y):\n",
    "    \n",
    "    zero_weight=0.0\n",
    "    max_f1=0.0\n",
    "    zero_weight_for_max=0.0\n",
    "    while zero_weight < 0.2:\n",
    "        zero_weight = round(zero_weight + 0.005,3)\n",
    "        one_weight = round(1 - zero_weight,3)\n",
    "        \n",
    "        print(zero_weight,one_weight)\n",
    "        clf = train_cost_sensitive_classifier(X,y,10,{0:zero_weight, 1:one_weight})\n",
    "\n",
    "        # calculate confusion matrix\n",
    "        y_predict = clf.predict(X)\n",
    "        y_real = y\n",
    "        cm = get_confusion_matrix(y_real,y_predict)\n",
    "\n",
    "        # calculate metrics\n",
    "        sen,f1 = calc_sensitivity_and_f1(cm)\n",
    "        if sen >= 0.95 and f1 > max_f1:\n",
    "            max_f1 = f1\n",
    "            zero_weight_for_max=zero_weight\n",
    "            \n",
    "    print('max_f1:',max_f1)\n",
    "    print('zero_weight for max_f1:',zero_weight_for_max)\n",
    "    return zero_weight_for_max"
   ]
  },
  {
   "cell_type": "code",
   "execution_count": 235,
   "metadata": {},
   "outputs": [
    {
     "name": "stdout",
     "output_type": "stream",
     "text": [
      "0.005 0.995\n",
      "0.01 0.99\n",
      "0.015 0.985\n",
      "0.02 0.98\n",
      "0.025 0.975\n",
      "0.03 0.97\n",
      "0.035 0.965\n",
      "0.04 0.96\n",
      "0.045 0.955\n",
      "0.05 0.95\n",
      "0.055 0.945\n",
      "0.06 0.94\n",
      "0.065 0.935\n",
      "0.07 0.93\n",
      "0.075 0.925\n",
      "0.08 0.92\n",
      "0.085 0.915\n",
      "0.09 0.91\n",
      "0.095 0.905\n",
      "0.1 0.9\n",
      "0.105 0.895\n",
      "0.11 0.89\n",
      "0.115 0.885\n",
      "0.12 0.88\n",
      "0.125 0.875\n",
      "0.13 0.87\n",
      "0.135 0.865\n",
      "0.14 0.86\n",
      "0.145 0.855\n",
      "0.15 0.85\n",
      "0.155 0.845\n",
      "0.16 0.84\n",
      "0.165 0.835\n",
      "0.17 0.83\n",
      "0.175 0.825\n",
      "0.18 0.82\n",
      "0.185 0.815\n",
      "0.19 0.81\n",
      "0.195 0.805\n",
      "0.2 0.8\n",
      "max_f1: 0.4275058176416951\n",
      "zero_weight for max_f1: 0.115\n",
      "\n",
      "0.115\n",
      "0.885\n",
      "CPU times: user 6min 20s, sys: 24.5 s, total: 6min 45s\n",
      "Wall time: 1min 49s\n"
     ]
    }
   ],
   "source": [
    "%%time\n",
    "\n",
    "best_zero = find_zero_weight_to_maximize_f1(X_1_5_classifier,y_1_5)\n",
    "best_one = round(1-best_zero,3)\n",
    "print()\n",
    "print(best_zero)\n",
    "print(best_one)"
   ]
  },
  {
   "cell_type": "code",
   "execution_count": 236,
   "metadata": {},
   "outputs": [],
   "source": [
    "# run classifier using best weights\n",
    "weights = {0:best_zero, 1:best_one}\n",
    "clf_1_5 = train_cost_sensitive_classifier(X_1_5_classifier,y_1_5,10,weights)"
   ]
  },
  {
   "cell_type": "markdown",
   "metadata": {},
   "source": [
    "#### Calculate metrics for best classifier and add row to results DataFrame"
   ]
  },
  {
   "cell_type": "code",
   "execution_count": 237,
   "metadata": {},
   "outputs": [],
   "source": [
    "df_results = add_metrics_to_table(df_results,5,\"Cost Sensitive Imputed\",X_1_5_classifier,y_1_5,clf_1_5,\"decision\")"
   ]
  },
  {
   "cell_type": "code",
   "execution_count": 238,
   "metadata": {},
   "outputs": [
    {
     "data": {
      "text/html": [
       "<div>\n",
       "<style scoped>\n",
       "    .dataframe tbody tr th:only-of-type {\n",
       "        vertical-align: middle;\n",
       "    }\n",
       "\n",
       "    .dataframe tbody tr th {\n",
       "        vertical-align: top;\n",
       "    }\n",
       "\n",
       "    .dataframe thead th {\n",
       "        text-align: right;\n",
       "    }\n",
       "</style>\n",
       "<table border=\"1\" class=\"dataframe\">\n",
       "  <thead>\n",
       "    <tr style=\"text-align: right;\">\n",
       "      <th></th>\n",
       "      <th>Section</th>\n",
       "      <th>Description</th>\n",
       "      <th>Accuracy</th>\n",
       "      <th>Sensitivity</th>\n",
       "      <th>Specificity</th>\n",
       "      <th>Pos_Predictive_Val</th>\n",
       "      <th>Neg_Predictive_Val</th>\n",
       "      <th>F1_Score</th>\n",
       "      <th>Matthew_Corr_Coef</th>\n",
       "      <th>AUC</th>\n",
       "    </tr>\n",
       "  </thead>\n",
       "  <tbody>\n",
       "    <tr>\n",
       "      <th>0</th>\n",
       "      <td>1</td>\n",
       "      <td>Wrapper</td>\n",
       "      <td>0.845626</td>\n",
       "      <td>0.301990</td>\n",
       "      <td>0.959818</td>\n",
       "      <td>0.612204</td>\n",
       "      <td>0.867485</td>\n",
       "      <td>0.459429</td>\n",
       "      <td>0.354382</td>\n",
       "      <td>0.766171</td>\n",
       "    </tr>\n",
       "    <tr>\n",
       "      <th>1</th>\n",
       "      <td>2</td>\n",
       "      <td>Embedded</td>\n",
       "      <td>0.848994</td>\n",
       "      <td>0.290299</td>\n",
       "      <td>0.966350</td>\n",
       "      <td>0.644395</td>\n",
       "      <td>0.866351</td>\n",
       "      <td>0.446473</td>\n",
       "      <td>0.362053</td>\n",
       "      <td>0.800752</td>\n",
       "    </tr>\n",
       "    <tr>\n",
       "      <th>2</th>\n",
       "      <td>3</td>\n",
       "      <td>Wrapper Imputed</td>\n",
       "      <td>0.753824</td>\n",
       "      <td>0.170445</td>\n",
       "      <td>0.966371</td>\n",
       "      <td>0.648702</td>\n",
       "      <td>0.761757</td>\n",
       "      <td>0.289779</td>\n",
       "      <td>0.236975</td>\n",
       "      <td>0.748270</td>\n",
       "    </tr>\n",
       "    <tr>\n",
       "      <th>3</th>\n",
       "      <td>4</td>\n",
       "      <td>Embedded Imputed</td>\n",
       "      <td>0.752446</td>\n",
       "      <td>0.158527</td>\n",
       "      <td>0.968833</td>\n",
       "      <td>0.649509</td>\n",
       "      <td>0.759623</td>\n",
       "      <td>0.272470</td>\n",
       "      <td>0.228270</td>\n",
       "      <td>0.740902</td>\n",
       "    </tr>\n",
       "    <tr>\n",
       "      <th>4</th>\n",
       "      <td>5</td>\n",
       "      <td>Cost Sensitive Imputed</td>\n",
       "      <td>0.456801</td>\n",
       "      <td>0.954632</td>\n",
       "      <td>0.275423</td>\n",
       "      <td>0.324331</td>\n",
       "      <td>0.943384</td>\n",
       "      <td>0.427506</td>\n",
       "      <td>0.248172</td>\n",
       "      <td>0.760590</td>\n",
       "    </tr>\n",
       "  </tbody>\n",
       "</table>\n",
       "</div>"
      ],
      "text/plain": [
       "   Section             Description  Accuracy  Sensitivity  Specificity  \\\n",
       "0        1                 Wrapper  0.845626     0.301990     0.959818   \n",
       "1        2                Embedded  0.848994     0.290299     0.966350   \n",
       "2        3         Wrapper Imputed  0.753824     0.170445     0.966371   \n",
       "3        4        Embedded Imputed  0.752446     0.158527     0.968833   \n",
       "4        5  Cost Sensitive Imputed  0.456801     0.954632     0.275423   \n",
       "\n",
       "   Pos_Predictive_Val  Neg_Predictive_Val  F1_Score  Matthew_Corr_Coef  \\\n",
       "0            0.612204            0.867485  0.459429           0.354382   \n",
       "1            0.644395            0.866351  0.446473           0.362053   \n",
       "2            0.648702            0.761757  0.289779           0.236975   \n",
       "3            0.649509            0.759623  0.272470           0.228270   \n",
       "4            0.324331            0.943384  0.427506           0.248172   \n",
       "\n",
       "        AUC  \n",
       "0  0.766171  \n",
       "1  0.800752  \n",
       "2  0.748270  \n",
       "3  0.740902  \n",
       "4  0.760590  "
      ]
     },
     "execution_count": 238,
     "metadata": {},
     "output_type": "execute_result"
    }
   ],
   "source": [
    "df_results"
   ]
  },
  {
   "cell_type": "markdown",
   "metadata": {
    "id": "zVYJjxGby2Yn"
   },
   "source": [
    "### Part 1.6 Work "
   ]
  },
  {
   "cell_type": "code",
   "execution_count": 239,
   "metadata": {
    "id": "Kcf_UQDgy2Yo"
   },
   "outputs": [],
   "source": [
    "# TODO: \n",
    "#   Step 1: Implement a function calculating the weighted average F1-score, following \n",
    "#       the steps in the homework problem statement.\n",
    "#   Step 2: Find a classifier that achieves a weighted average F1-score of at least 0.74 using 10-fold cross validation.\n",
    "\n",
    "# Tip: \n",
    "#   1. F1-score: https://en.wikipedia.org/wiki/F1_score\n",
    "#   2. Scikit-learn supports extending the classifiers to cost-sensitive learning.\n",
    "#   Take a look at this tutorial: https://machinelearningmastery.com/cost-sensitive-learning-for-imbalanced-classification/\n",
    "\n"
   ]
  },
  {
   "cell_type": "markdown",
   "metadata": {},
   "source": [
    "#### Define Weighted F1 function"
   ]
  },
  {
   "cell_type": "code",
   "execution_count": 240,
   "metadata": {},
   "outputs": [],
   "source": [
    "def weighted_f1(cm):\n",
    "    '''\n",
    "    Calculates a weighted F1-score using given confusion matrix cm. \n",
    "    '''\n",
    "    \n",
    "    tn, fp, fn, tp = cm.ravel()\n",
    "    \n",
    "    # F1 score computed using label 'Y' as true positive ??\n",
    "    F_1_Y = tp / (tp + 0.5 * (fp + fn))\n",
    "    \n",
    "    # F1 score computed using label 'N' as true negative ??\n",
    "    F_1_N = tn / (tn + 0.5 * (fp + fn))\n",
    "    \n",
    "    # number of instances with label 'Y'\n",
    "    n_Y = tp + fp\n",
    "    \n",
    "    # number of instances with label 'N'\n",
    "    n_N = tn + fn\n",
    "    \n",
    "    \n",
    "    # calculate weights\n",
    "    a = n_Y / (n_Y + n_N) #?? check on this\n",
    "    \n",
    "    b = n_N / (n_Y + n_N) #?? check on this\n",
    "    \n",
    "    \n",
    "    # calculated weighted f1\n",
    "    f1_weighted = (a * F_1_Y) + (b * F_1_N) #?? check on this\n",
    "    \n",
    "    return f1_weighted"
   ]
  },
  {
   "cell_type": "markdown",
   "metadata": {},
   "source": [
    "#### Exploration studies\n",
    "\n",
    "##### Test Round 1\n",
    "\n",
    "Initial classifiers I explored, along with Weighted F1 score. \n",
    "\n",
    "- **0.64**  KNeighborsClassifier(2)\n",
    "- **0.74**  SVC(kernel=\"linear\", C=0.025)\n",
    "- **0.72**  SVC(gamma=2, C=1)\n",
    "- **N/A**  GaussianProcessClassifier(1.0 * RBF(1.0))\n",
    "- **0.71**  DecisionTreeClassifier(max_depth=5)\n",
    "- **0.71**  RandomForestClassifier(max_depth=5, n_estimators=10, max_features=1)\n",
    "- **0.72**  MLPClassifier(alpha=1, max_iter=1000)\n",
    "- **0.74**  AdaBoostClassifier():\n",
    "- **0.78**  GaussianNB():\n",
    "- **ERR**   QuadraticDiscriminantAnalysis()\n",
    "\n",
    "These results used features from 1.3. The F1 scores go down when using all features. The results used a sample of 50k records from X_1_5, subdivided by test_train_split().\n",
    "\n",
    "##### Test  Round 2\n",
    "\n",
    "I further explored classifiers using features from 1.3 and the full dataset, subdivided by train_test_split().\n",
    "\n",
    "- **0.78** KNeighborsClassifier(2)\n",
    "- **0.80** SVC(kernel=\"linear\",C=0.025)\n",
    "- **0.79** SVC(gamma=2,C=1)\n",
    "- **0.79** DecisionTreeClassifier(max_depth=5)\n",
    "- **0.80** RandomForestClassifier(max_depth=5,n_estimators=10,max_features=1)\n",
    "- **0.83** MLPClassifier(alpha=1,max_iter=1000)\n",
    "- **0.80** AdaBoostClassifier()\n",
    "- **0.80** GaussianNB()\n",
    "\n",
    "##### Test Round 3\n",
    "\n",
    "I choose to continue testing with DecisionTreeClassifier because it has an input for class weights for cost-sensitive learning. I performed a series of tests to determine the class weights for DecisionTreeClassifier which obtained the highest weighted F1 while also keeping in mind the sensitivity.\n",
    "\n",
    "- Keeping sensitivity above 0.95, the model achieved a weighted F1 of 0.46 (class weights {0:2, 1:17}). \n",
    "- Keeping sensitivity above 0.60, the model achieved a weighted F1 of 0.65 (class weights {0:5, 1:16}).\n",
    "- Keeping sensitivity above 0.40, the model achieved a weighted F1 of 0.66 (class weights {0:5, 1:16}).\n",
    "\n",
    "##### Test Round 4\n",
    "\n",
    "After selecting the weights, I ran cross-fold validation using the classifier. I failed to achieve a weighted F1 higher than 0.66 while manipulating the class weights. As soon as I restored the default weights, the F1 score rose above the 0.74 required threshold. \n",
    "\n",
    "##### Undersampling\n",
    "I tried running classifier using an undersampled dataset. I couldn't get above 0.68 for weighted F1.\n",
    "\n",
    "##### Oversampling\n",
    "I tried running classifier using an oversampled dataset. I couldn't get above 0.69 for weighted F1.\n",
    "\n",
    "##### Final Round\n",
    "I returned to using the imputed data from 1.3, and the classifier I selected achieved over 0.74 weighted average F1-score."
   ]
  },
  {
   "cell_type": "markdown",
   "metadata": {},
   "source": [
    "#### Data Selection"
   ]
  },
  {
   "cell_type": "code",
   "execution_count": 241,
   "metadata": {},
   "outputs": [
    {
     "name": "stdout",
     "output_type": "stream",
     "text": [
      "(121913, 19)\n",
      "(121913,)\n"
     ]
    }
   ],
   "source": [
    "# data\n",
    "X_1_6 = X_1_5\n",
    "y_1_6 = y_1_5\n",
    "print(X_1_6.shape)\n",
    "print(y_1_6.shape)"
   ]
  },
  {
   "cell_type": "code",
   "execution_count": 242,
   "metadata": {
    "scrolled": true
   },
   "outputs": [],
   "source": [
    "# from imblearn.under_sampling import RandomUnderSampler\n",
    "\n",
    "# # undersample the data\n",
    "# rus = RandomUnderSampler(random_state=0)\n",
    "\n",
    "# X_1_6, y_1_6 = rus.fit_resample(X_1_5, y_1_5)\n",
    "# print(X_1_6.shape)\n",
    "# print(y_1_6.shape)\n",
    "# y_1_6.value_counts() # counts exactly match"
   ]
  },
  {
   "cell_type": "code",
   "execution_count": 243,
   "metadata": {},
   "outputs": [],
   "source": [
    "# from imblearn.over_sampling import RandomOverSampler\n",
    "\n",
    "# ros = RandomOverSampler(random_state=42)\n",
    "# X_1_6, y_1_6 = ros.fit_resample(X_1_5, y_1_5)\n",
    "# print(X_1_6.shape)\n",
    "# print(y_1_6.shape)\n",
    "# y_1_6.value_counts() # counts exactly match"
   ]
  },
  {
   "cell_type": "markdown",
   "metadata": {},
   "source": [
    "#### Feature Selection"
   ]
  },
  {
   "cell_type": "code",
   "execution_count": 244,
   "metadata": {},
   "outputs": [
    {
     "name": "stdout",
     "output_type": "stream",
     "text": [
      "CPU times: user 2.65 s, sys: 61.9 ms, total: 2.72 s\n",
      "Wall time: 14.8 s\n"
     ]
    }
   ],
   "source": [
    "%%time \n",
    "\n",
    "rfecv_1_6 = perform_feature_selection_wrapper_3(X_1_6,y_1_6)\n",
    "features_wrapper_1_6 = get_feature_list(X_1_6,rfecv_1_6.support_)"
   ]
  },
  {
   "cell_type": "code",
   "execution_count": 245,
   "metadata": {},
   "outputs": [
    {
     "data": {
      "text/plain": [
       "['Age', 'Intubated_Y', 'Pneumonia_Y', 'Has_COVID_Y']"
      ]
     },
     "execution_count": 245,
     "metadata": {},
     "output_type": "execute_result"
    }
   ],
   "source": [
    "features_wrapper_1_6"
   ]
  },
  {
   "cell_type": "code",
   "execution_count": 246,
   "metadata": {},
   "outputs": [
    {
     "data": {
      "text/plain": [
       "(121913, 4)"
      ]
     },
     "execution_count": 246,
     "metadata": {},
     "output_type": "execute_result"
    }
   ],
   "source": [
    "X_1_6_classifier = build_X_from_features(X_1_6,features_wrapper_1_6)\n",
    "X_1_6_classifier.shape"
   ]
  },
  {
   "cell_type": "markdown",
   "metadata": {},
   "source": [
    "#### Classifier Exploration\n",
    "Reference: https://scikit-learn.org/stable/auto_examples/classification/plot_classifier_comparison.html"
   ]
  },
  {
   "cell_type": "code",
   "execution_count": 247,
   "metadata": {},
   "outputs": [
    {
     "name": "stdout",
     "output_type": "stream",
     "text": [
      "Weighted F1: 0.7156644896375357\n",
      "Weighted F1: 0.7987256855214362\n",
      "Weighted F1: 0.7947935706715692\n",
      "Weighted F1: 0.7856926298352843\n",
      "Weighted F1: 0.8063046355689621\n",
      "Weighted F1: 0.8011220511307933\n",
      "Weighted F1: 0.804821314354721\n",
      "Weighted F1: 0.7987256855214362\n",
      "CPU times: user 3min 54s, sys: 1.76 s, total: 3min 56s\n",
      "Wall time: 3min 30s\n"
     ]
    }
   ],
   "source": [
    "%%time\n",
    "\n",
    "from sklearn.neural_network import MLPClassifier\n",
    "from sklearn.neighbors import KNeighborsClassifier\n",
    "from sklearn.svm import SVC\n",
    "from sklearn.gaussian_process import GaussianProcessClassifier\n",
    "from sklearn.gaussian_process.kernels import RBF\n",
    "from sklearn.tree import DecisionTreeClassifier\n",
    "from sklearn.ensemble import RandomForestClassifier, AdaBoostClassifier\n",
    "from sklearn.naive_bayes import GaussianNB\n",
    "\n",
    "\n",
    "X_train_1_6, X_test_1_6, y_train_1_6, y_test_1_6 = train_test_split(X_1_6_classifier,\n",
    "                                                                    y_1_6,\n",
    "                                                                    test_size=.4,\n",
    "                                                                    random_state=42)\n",
    "classifiers = [\n",
    "    KNeighborsClassifier(3),\n",
    "    SVC(kernel=\"linear\", C=0.025),\n",
    "    SVC(gamma=2, C=1),\n",
    "    DecisionTreeClassifier(max_depth=5),\n",
    "    RandomForestClassifier(max_depth=5, n_estimators=10, max_features=1),\n",
    "    MLPClassifier(alpha=1, max_iter=1000),\n",
    "    AdaBoostClassifier(),\n",
    "    GaussianNB()]\n",
    "\n",
    "for i, clf in enumerate(classifiers):\n",
    "    clf.fit(X_train_1_6, y_train_1_6)\n",
    "        \n",
    "    # calculate confusion matrix\n",
    "    y_predict = clf.predict(X_test_1_6)\n",
    "    y_real = y_test_1_6\n",
    "    cm = get_confusion_matrix(y_real,y_predict)\n",
    "    \n",
    "    print(\"Weighted F1:\",weighted_f1(cm))"
   ]
  },
  {
   "cell_type": "markdown",
   "metadata": {},
   "source": [
    "#### Cross-Fold Validation with Chosen Classifier"
   ]
  },
  {
   "cell_type": "code",
   "execution_count": 248,
   "metadata": {},
   "outputs": [],
   "source": [
    "# create dataframe to store test results of each fold\n",
    "df_folds = pd.DataFrame(\n",
    "    columns=['Section',\n",
    "             'Description',\n",
    "             'Accuracy',\n",
    "             'Sensitivity',\n",
    "             'Specificity',\n",
    "             'Pos_Predictive_Val',\n",
    "             'Neg_Predictive_Val',\n",
    "             'F1_Score',\n",
    "             'Matthew_Corr_Coef',\n",
    "             'AUC'\n",
    "            ]).astype(\n",
    "    dtype= {'Section':'int64',\n",
    "            'Description':'object',\n",
    "            'Accuracy':'float64',\n",
    "            'Sensitivity':'float64',\n",
    "             'Specificity':'float64',\n",
    "             'Pos_Predictive_Val':'float64',\n",
    "             'Neg_Predictive_Val':'float64',\n",
    "             'F1_Score':'float64',\n",
    "             'Matthew_Corr_Coef':'float64',\n",
    "             'AUC':'float64'\n",
    "           })"
   ]
  },
  {
   "cell_type": "code",
   "execution_count": 249,
   "metadata": {
    "scrolled": false
   },
   "outputs": [
    {
     "name": "stdout",
     "output_type": "stream",
     "text": [
      "CPU times: user 13.6 s, sys: 117 ms, total: 13.7 s\n",
      "Wall time: 13.8 s\n"
     ]
    }
   ],
   "source": [
    "%%time\n",
    "\n",
    "# 12 min runtime for RBF SVC\n",
    "\n",
    "from sklearn.model_selection import KFold\n",
    "from sklearn.ensemble import AdaBoostClassifier\n",
    "\n",
    "# define classifier\n",
    "clf_1_6 = AdaBoostClassifier()\n",
    "\n",
    "# define list for weighted f1 scores\n",
    "weighted_f1_scores = list()\n",
    "\n",
    "# run 10 fold cross validation\n",
    "kf=KFold(n_splits=10, shuffle=True)\n",
    "for k, (train, test) in enumerate(kf.split(X_1_6_classifier, y_1_6)):\n",
    "\n",
    "    # get training rows for this fold\n",
    "    X_train = X_1_6_classifier.iloc[train]\n",
    "    y_train = y_1_6.iloc[train]\n",
    "    X_test = X_1_6_classifier.iloc[test]\n",
    "    y_test = y_1_6.iloc[test]\n",
    "\n",
    "    # train classifier\n",
    "    clf_1_6.fit(X_train,y_train)\n",
    "\n",
    "    # calculate confusion matrix\n",
    "    y_predict = clf_1_6.predict(X_test)\n",
    "    y_real = y_test\n",
    "    cm = get_confusion_matrix(y_real,y_predict)\n",
    "\n",
    "    # calculate weighted-f1 and other metrics\n",
    "    w_f1 = weighted_f1(cm)\n",
    "    weighted_f1_scores.append(w_f1)\n",
    "    \n",
    "    # calculate y score\n",
    "    y_score = get_y_score(X_test,y_test,clf_1_6, 'decision')\n",
    "    \n",
    "    # calculate metrics\n",
    "    metrics = calc_classifier_metrics(cm,y_real,y_predict,y_score)\n",
    "    \n",
    "    # add row to results DataFrame\n",
    "    df_folds=add_row(df_folds, 6, 'Weighted F1', metrics) "
   ]
  },
  {
   "cell_type": "code",
   "execution_count": 250,
   "metadata": {},
   "outputs": [
    {
     "data": {
      "text/html": [
       "<div>\n",
       "<style scoped>\n",
       "    .dataframe tbody tr th:only-of-type {\n",
       "        vertical-align: middle;\n",
       "    }\n",
       "\n",
       "    .dataframe tbody tr th {\n",
       "        vertical-align: top;\n",
       "    }\n",
       "\n",
       "    .dataframe thead th {\n",
       "        text-align: right;\n",
       "    }\n",
       "</style>\n",
       "<table border=\"1\" class=\"dataframe\">\n",
       "  <thead>\n",
       "    <tr style=\"text-align: right;\">\n",
       "      <th></th>\n",
       "      <th>Section</th>\n",
       "      <th>Description</th>\n",
       "      <th>Accuracy</th>\n",
       "      <th>Sensitivity</th>\n",
       "      <th>Specificity</th>\n",
       "      <th>Pos_Predictive_Val</th>\n",
       "      <th>Neg_Predictive_Val</th>\n",
       "      <th>F1_Score</th>\n",
       "      <th>Matthew_Corr_Coef</th>\n",
       "      <th>AUC</th>\n",
       "    </tr>\n",
       "  </thead>\n",
       "  <tbody>\n",
       "    <tr>\n",
       "      <th>0</th>\n",
       "      <td>6</td>\n",
       "      <td>Weighted F1</td>\n",
       "      <td>0.758402</td>\n",
       "      <td>0.226402</td>\n",
       "      <td>0.952277</td>\n",
       "      <td>0.633849</td>\n",
       "      <td>0.771615</td>\n",
       "      <td>0.365613</td>\n",
       "      <td>0.269048</td>\n",
       "      <td>0.749974</td>\n",
       "    </tr>\n",
       "  </tbody>\n",
       "</table>\n",
       "</div>"
      ],
      "text/plain": [
       "   Section  Description  Accuracy  Sensitivity  Specificity  \\\n",
       "0        6  Weighted F1  0.758402     0.226402     0.952277   \n",
       "\n",
       "   Pos_Predictive_Val  Neg_Predictive_Val  F1_Score  Matthew_Corr_Coef  \\\n",
       "0            0.633849            0.771615  0.365613           0.269048   \n",
       "\n",
       "        AUC  \n",
       "0  0.749974  "
      ]
     },
     "execution_count": 250,
     "metadata": {},
     "output_type": "execute_result"
    }
   ],
   "source": [
    "# find the average results for each metric\n",
    "df_folds_avg=df_folds.groupby([\"Description\"]).mean().reset_index()\n",
    "col_list = ['Section','Description'] + list(df_folds_avg.columns)[2:] # reorder columns\n",
    "df_folds_avg = df_folds_avg[col_list]\n",
    "df_folds_avg"
   ]
  },
  {
   "cell_type": "code",
   "execution_count": 251,
   "metadata": {},
   "outputs": [],
   "source": [
    "# add row to results dataframe\n",
    "df_results = pd.concat([df_results,df_folds_avg])"
   ]
  },
  {
   "cell_type": "code",
   "execution_count": 252,
   "metadata": {},
   "outputs": [
    {
     "data": {
      "text/html": [
       "<div>\n",
       "<style scoped>\n",
       "    .dataframe tbody tr th:only-of-type {\n",
       "        vertical-align: middle;\n",
       "    }\n",
       "\n",
       "    .dataframe tbody tr th {\n",
       "        vertical-align: top;\n",
       "    }\n",
       "\n",
       "    .dataframe thead th {\n",
       "        text-align: right;\n",
       "    }\n",
       "</style>\n",
       "<table border=\"1\" class=\"dataframe\">\n",
       "  <thead>\n",
       "    <tr style=\"text-align: right;\">\n",
       "      <th></th>\n",
       "      <th>Section</th>\n",
       "      <th>Description</th>\n",
       "      <th>Accuracy</th>\n",
       "      <th>Sensitivity</th>\n",
       "      <th>Specificity</th>\n",
       "      <th>Pos_Predictive_Val</th>\n",
       "      <th>Neg_Predictive_Val</th>\n",
       "      <th>F1_Score</th>\n",
       "      <th>Matthew_Corr_Coef</th>\n",
       "      <th>AUC</th>\n",
       "    </tr>\n",
       "  </thead>\n",
       "  <tbody>\n",
       "    <tr>\n",
       "      <th>0</th>\n",
       "      <td>1</td>\n",
       "      <td>Wrapper</td>\n",
       "      <td>0.845626</td>\n",
       "      <td>0.301990</td>\n",
       "      <td>0.959818</td>\n",
       "      <td>0.612204</td>\n",
       "      <td>0.867485</td>\n",
       "      <td>0.459429</td>\n",
       "      <td>0.354382</td>\n",
       "      <td>0.766171</td>\n",
       "    </tr>\n",
       "    <tr>\n",
       "      <th>1</th>\n",
       "      <td>2</td>\n",
       "      <td>Embedded</td>\n",
       "      <td>0.848994</td>\n",
       "      <td>0.290299</td>\n",
       "      <td>0.966350</td>\n",
       "      <td>0.644395</td>\n",
       "      <td>0.866351</td>\n",
       "      <td>0.446473</td>\n",
       "      <td>0.362053</td>\n",
       "      <td>0.800752</td>\n",
       "    </tr>\n",
       "    <tr>\n",
       "      <th>2</th>\n",
       "      <td>3</td>\n",
       "      <td>Wrapper Imputed</td>\n",
       "      <td>0.753824</td>\n",
       "      <td>0.170445</td>\n",
       "      <td>0.966371</td>\n",
       "      <td>0.648702</td>\n",
       "      <td>0.761757</td>\n",
       "      <td>0.289779</td>\n",
       "      <td>0.236975</td>\n",
       "      <td>0.748270</td>\n",
       "    </tr>\n",
       "    <tr>\n",
       "      <th>3</th>\n",
       "      <td>4</td>\n",
       "      <td>Embedded Imputed</td>\n",
       "      <td>0.752446</td>\n",
       "      <td>0.158527</td>\n",
       "      <td>0.968833</td>\n",
       "      <td>0.649509</td>\n",
       "      <td>0.759623</td>\n",
       "      <td>0.272470</td>\n",
       "      <td>0.228270</td>\n",
       "      <td>0.740902</td>\n",
       "    </tr>\n",
       "    <tr>\n",
       "      <th>4</th>\n",
       "      <td>5</td>\n",
       "      <td>Cost Sensitive Imputed</td>\n",
       "      <td>0.456801</td>\n",
       "      <td>0.954632</td>\n",
       "      <td>0.275423</td>\n",
       "      <td>0.324331</td>\n",
       "      <td>0.943384</td>\n",
       "      <td>0.427506</td>\n",
       "      <td>0.248172</td>\n",
       "      <td>0.760590</td>\n",
       "    </tr>\n",
       "    <tr>\n",
       "      <th>0</th>\n",
       "      <td>6</td>\n",
       "      <td>Weighted F1</td>\n",
       "      <td>0.758402</td>\n",
       "      <td>0.226402</td>\n",
       "      <td>0.952277</td>\n",
       "      <td>0.633849</td>\n",
       "      <td>0.771615</td>\n",
       "      <td>0.365613</td>\n",
       "      <td>0.269048</td>\n",
       "      <td>0.749974</td>\n",
       "    </tr>\n",
       "  </tbody>\n",
       "</table>\n",
       "</div>"
      ],
      "text/plain": [
       "   Section             Description  Accuracy  Sensitivity  Specificity  \\\n",
       "0        1                 Wrapper  0.845626     0.301990     0.959818   \n",
       "1        2                Embedded  0.848994     0.290299     0.966350   \n",
       "2        3         Wrapper Imputed  0.753824     0.170445     0.966371   \n",
       "3        4        Embedded Imputed  0.752446     0.158527     0.968833   \n",
       "4        5  Cost Sensitive Imputed  0.456801     0.954632     0.275423   \n",
       "0        6             Weighted F1  0.758402     0.226402     0.952277   \n",
       "\n",
       "   Pos_Predictive_Val  Neg_Predictive_Val  F1_Score  Matthew_Corr_Coef  \\\n",
       "0            0.612204            0.867485  0.459429           0.354382   \n",
       "1            0.644395            0.866351  0.446473           0.362053   \n",
       "2            0.648702            0.761757  0.289779           0.236975   \n",
       "3            0.649509            0.759623  0.272470           0.228270   \n",
       "4            0.324331            0.943384  0.427506           0.248172   \n",
       "0            0.633849            0.771615  0.365613           0.269048   \n",
       "\n",
       "        AUC  \n",
       "0  0.766171  \n",
       "1  0.800752  \n",
       "2  0.748270  \n",
       "3  0.740902  \n",
       "4  0.760590  \n",
       "0  0.749974  "
      ]
     },
     "execution_count": 252,
     "metadata": {},
     "output_type": "execute_result"
    }
   ],
   "source": [
    "df_results"
   ]
  },
  {
   "cell_type": "markdown",
   "metadata": {},
   "source": [
    "#### Calculate Weighted F1-score"
   ]
  },
  {
   "cell_type": "code",
   "execution_count": 253,
   "metadata": {},
   "outputs": [
    {
     "name": "stdout",
     "output_type": "stream",
     "text": [
      "Average Weighted F1-Score: 0.8029944569815829\n"
     ]
    }
   ],
   "source": [
    "# calculate the average weighted F1 score\n",
    "from statistics import mean \n",
    "\n",
    "print(\"Average Weighted F1-Score:\",mean(weighted_f1_scores))"
   ]
  },
  {
   "cell_type": "markdown",
   "metadata": {
    "id": "ii4wINe7y2Yr"
   },
   "source": [
    "### Part 1.7 Work"
   ]
  },
  {
   "cell_type": "code",
   "execution_count": 254,
   "metadata": {
    "id": "OkoYhmvSy2Ys"
   },
   "outputs": [],
   "source": [
    "# Tip:\n",
    "#   1. Scikit-learn implements different evaluation metrics for classifications,\n",
    "#   see: https://scikit-learn.org/stable/modules/model_evaluation.html"
   ]
  },
  {
   "cell_type": "markdown",
   "metadata": {
    "id": "IMVemn4By2Yw"
   },
   "source": [
    "### Part 1.7 Answers\n",
    "\n",
    "1. Create a ROC plot with the results from parts 1.1 to 1.6. \n",
    "2. Create a table with the following performance metrics for the results from parts 1.1 to 1.6:\n",
    "    * Accuracy\n",
    "    * Sensitivity & Specificity\n",
    "    * The positive and negative predictive values\n",
    "    * F1-score\n",
    "    * The Matthews Correlation Coefficient\n",
    "    * AUC (Area under the ROC curve)"
   ]
  },
  {
   "cell_type": "markdown",
   "metadata": {},
   "source": [
    "#### ROC Plot Example from 1.1.5"
   ]
  },
  {
   "cell_type": "code",
   "execution_count": 255,
   "metadata": {},
   "outputs": [],
   "source": [
    "#?? can we complete ROC plot with the metric information we collected earlier?"
   ]
  },
  {
   "cell_type": "code",
   "execution_count": 256,
   "metadata": {},
   "outputs": [
    {
     "name": "stdout",
     "output_type": "stream",
     "text": [
      "(121913,)\n",
      "(121913,)\n"
     ]
    }
   ],
   "source": [
    "from sklearn.metrics import roc_curve\n",
    "\n",
    "# calculate confusion matrix\n",
    "y_predict = clf_1_5.predict(X_1_5_classifier)\n",
    "y_real = y_1_5\n",
    "\n",
    "print(y_real.shape)\n",
    "print(y_predict.shape)\n",
    "    \n",
    "fpr, tpr, thresholds = roc_curve(y_real, y_predict)\n",
    "auc = roc_auc_score(y_real, y_predict)"
   ]
  },
  {
   "cell_type": "code",
   "execution_count": 257,
   "metadata": {},
   "outputs": [],
   "source": [
    "import matplotlib.pyplot as plt\n",
    "\n",
    "def plot_roc(fpr,tpr,auc):\n",
    "    plt.figure()\n",
    "    lw = 2\n",
    "    plt.plot(fpr, tpr, color='darkorange',\n",
    "             lw=lw, label='1.5 Cost-Sensitive ROC (area = %0.2f)' % auc)\n",
    "    plt.plot([0, 1], [0, 1], color='navy', lw=lw, linestyle='--')\n",
    "    plt.xlim([0.0, 1.0])\n",
    "    plt.ylim([0.0, 1.05])\n",
    "    plt.xlabel('False Positive Rate')\n",
    "    plt.ylabel('True Positive Rate')\n",
    "    plt.title('Receiver operating characteristic (ROC)')\n",
    "    plt.legend(loc=\"lower right\")\n",
    "    plt.show()"
   ]
  },
  {
   "cell_type": "code",
   "execution_count": 258,
   "metadata": {
    "scrolled": true
   },
   "outputs": [
    {
     "data": {
      "image/png": "[encoded data removed]",
      "text/plain": [
       "<Figure size 432x288 with 1 Axes>"
      ]
     },
     "metadata": {
      "needs_background": "light"
     },
     "output_type": "display_data"
    }
   ],
   "source": [
    "plot_roc(fpr,tpr,auc)"
   ]
  },
  {
   "cell_type": "code",
   "execution_count": 259,
   "metadata": {
    "scrolled": true
   },
   "outputs": [
    {
     "data": {
      "image/png": "[encoded data removed]",
      "text/plain": [
       "<Figure size 432x288 with 1 Axes>"
      ]
     },
     "metadata": {
      "needs_background": "light"
     },
     "output_type": "display_data"
    }
   ],
   "source": [
    "from sklearn.metrics import plot_roc_curve\n",
    "import matplotlib.pyplot as plt\n",
    "\n",
    "fig, ax = plt.subplots()\n",
    "ax.plot([0, 1], [0, 1], linestyle='--', lw=2, color='r',label='Chance', alpha=.8)\n",
    "ax.set(xlim=[-0.05, 1.05], ylim=[-0.05, 1.05],title=\"Receiver Operating Characteristic (ROC)\")\n",
    "ax.legend(loc=\"lower right\")\n",
    "\n",
    "# plot all results on one graph\n",
    "\n",
    "# 1.1 wrapper method\n",
    "plot_roc_curve(clf_1_1, X_1_1_classifier, y_1_1,name='1.1 ROC',lw=1, ax=ax)\n",
    "\n",
    "# 1.2 embedded method\n",
    "plot_roc_curve(clf_1_2, X_1_2_classifier, y_1_2,name='1.2 ROC',lw=1, ax=ax)\n",
    "\n",
    "# 1.3 wrapper method + imputed data\n",
    "plot_roc_curve(clf_1_3, X_1_3_classifier, y_1_3,name='1.3 ROC',lw=1, ax=ax)\n",
    "\n",
    "# 1.4 embedded method + imputed data\n",
    "plot_roc_curve(clf_1_4, X_1_4_classifier, y_1_4,name='1.4 ROC',lw=1, ax=ax)\n",
    "\n",
    "# 1.5 cost-sensitive\n",
    "plot_roc_curve(clf_1_5, X_1_5_classifier, y_1_5,name='1.5 ROC',lw=1, ax=ax)\n",
    "\n",
    "# 1.6 weighted average\n",
    "plot_roc_curve(clf_1_6, X_1_6_classifier, y_1_6,name='1.6 ROC',alpha=0.3, lw=1, ax=ax)\n",
    "\n",
    "plt.show()"
   ]
  },
  {
   "cell_type": "markdown",
   "metadata": {},
   "source": [
    "#### Performance Metric Table"
   ]
  },
  {
   "cell_type": "code",
   "execution_count": 260,
   "metadata": {
    "scrolled": false
   },
   "outputs": [
    {
     "data": {
      "text/html": [
       "<div>\n",
       "<style scoped>\n",
       "    .dataframe tbody tr th:only-of-type {\n",
       "        vertical-align: middle;\n",
       "    }\n",
       "\n",
       "    .dataframe tbody tr th {\n",
       "        vertical-align: top;\n",
       "    }\n",
       "\n",
       "    .dataframe thead th {\n",
       "        text-align: right;\n",
       "    }\n",
       "</style>\n",
       "<table border=\"1\" class=\"dataframe\">\n",
       "  <thead>\n",
       "    <tr style=\"text-align: right;\">\n",
       "      <th></th>\n",
       "      <th>Section</th>\n",
       "      <th>Description</th>\n",
       "      <th>Accuracy</th>\n",
       "      <th>Sensitivity</th>\n",
       "      <th>Specificity</th>\n",
       "      <th>Pos_Predictive_Val</th>\n",
       "      <th>Neg_Predictive_Val</th>\n",
       "      <th>F1_Score</th>\n",
       "      <th>Matthew_Corr_Coef</th>\n",
       "      <th>AUC</th>\n",
       "    </tr>\n",
       "  </thead>\n",
       "  <tbody>\n",
       "    <tr>\n",
       "      <th>0</th>\n",
       "      <td>1</td>\n",
       "      <td>Wrapper</td>\n",
       "      <td>0.845626</td>\n",
       "      <td>0.301990</td>\n",
       "      <td>0.959818</td>\n",
       "      <td>0.612204</td>\n",
       "      <td>0.867485</td>\n",
       "      <td>0.459429</td>\n",
       "      <td>0.354382</td>\n",
       "      <td>0.766171</td>\n",
       "    </tr>\n",
       "    <tr>\n",
       "      <th>1</th>\n",
       "      <td>2</td>\n",
       "      <td>Embedded</td>\n",
       "      <td>0.848994</td>\n",
       "      <td>0.290299</td>\n",
       "      <td>0.966350</td>\n",
       "      <td>0.644395</td>\n",
       "      <td>0.866351</td>\n",
       "      <td>0.446473</td>\n",
       "      <td>0.362053</td>\n",
       "      <td>0.800752</td>\n",
       "    </tr>\n",
       "    <tr>\n",
       "      <th>2</th>\n",
       "      <td>3</td>\n",
       "      <td>Wrapper Imputed</td>\n",
       "      <td>0.753824</td>\n",
       "      <td>0.170445</td>\n",
       "      <td>0.966371</td>\n",
       "      <td>0.648702</td>\n",
       "      <td>0.761757</td>\n",
       "      <td>0.289779</td>\n",
       "      <td>0.236975</td>\n",
       "      <td>0.748270</td>\n",
       "    </tr>\n",
       "    <tr>\n",
       "      <th>3</th>\n",
       "      <td>4</td>\n",
       "      <td>Embedded Imputed</td>\n",
       "      <td>0.752446</td>\n",
       "      <td>0.158527</td>\n",
       "      <td>0.968833</td>\n",
       "      <td>0.649509</td>\n",
       "      <td>0.759623</td>\n",
       "      <td>0.272470</td>\n",
       "      <td>0.228270</td>\n",
       "      <td>0.740902</td>\n",
       "    </tr>\n",
       "    <tr>\n",
       "      <th>4</th>\n",
       "      <td>5</td>\n",
       "      <td>Cost Sensitive Imputed</td>\n",
       "      <td>0.456801</td>\n",
       "      <td>0.954632</td>\n",
       "      <td>0.275423</td>\n",
       "      <td>0.324331</td>\n",
       "      <td>0.943384</td>\n",
       "      <td>0.427506</td>\n",
       "      <td>0.248172</td>\n",
       "      <td>0.760590</td>\n",
       "    </tr>\n",
       "    <tr>\n",
       "      <th>0</th>\n",
       "      <td>6</td>\n",
       "      <td>Weighted F1</td>\n",
       "      <td>0.758402</td>\n",
       "      <td>0.226402</td>\n",
       "      <td>0.952277</td>\n",
       "      <td>0.633849</td>\n",
       "      <td>0.771615</td>\n",
       "      <td>0.365613</td>\n",
       "      <td>0.269048</td>\n",
       "      <td>0.749974</td>\n",
       "    </tr>\n",
       "  </tbody>\n",
       "</table>\n",
       "</div>"
      ],
      "text/plain": [
       "   Section             Description  Accuracy  Sensitivity  Specificity  \\\n",
       "0        1                 Wrapper  0.845626     0.301990     0.959818   \n",
       "1        2                Embedded  0.848994     0.290299     0.966350   \n",
       "2        3         Wrapper Imputed  0.753824     0.170445     0.966371   \n",
       "3        4        Embedded Imputed  0.752446     0.158527     0.968833   \n",
       "4        5  Cost Sensitive Imputed  0.456801     0.954632     0.275423   \n",
       "0        6             Weighted F1  0.758402     0.226402     0.952277   \n",
       "\n",
       "   Pos_Predictive_Val  Neg_Predictive_Val  F1_Score  Matthew_Corr_Coef  \\\n",
       "0            0.612204            0.867485  0.459429           0.354382   \n",
       "1            0.644395            0.866351  0.446473           0.362053   \n",
       "2            0.648702            0.761757  0.289779           0.236975   \n",
       "3            0.649509            0.759623  0.272470           0.228270   \n",
       "4            0.324331            0.943384  0.427506           0.248172   \n",
       "0            0.633849            0.771615  0.365613           0.269048   \n",
       "\n",
       "        AUC  \n",
       "0  0.766171  \n",
       "1  0.800752  \n",
       "2  0.748270  \n",
       "3  0.740902  \n",
       "4  0.760590  \n",
       "0  0.749974  "
      ]
     },
     "execution_count": 260,
     "metadata": {},
     "output_type": "execute_result"
    }
   ],
   "source": [
    "#?? need something else besides this\n",
    "#?? use weighted F1 or regular F1\n",
    "df_results"
   ]
  },
  {
   "cell_type": "code",
   "execution_count": null,
   "metadata": {},
   "outputs": [],
   "source": []
  }
 ],
 "metadata": {
  "colab": {
   "name": "02_518_02_718_HW_3_Template.ipynb",
   "provenance": []
  },
  "kernelspec": {
   "display_name": "Python 3",
   "language": "python",
   "name": "python3"
  },
  "language_info": {
   "codemirror_mode": {
    "name": "ipython",
    "version": 3
   },
   "file_extension": ".py",
   "mimetype": "text/x-python",
   "name": "python",
   "nbconvert_exporter": "python",
   "pygments_lexer": "ipython3",
   "version": "3.8.5"
  }
 },
 "nbformat": 4,
 "nbformat_minor": 1
}
