{
 "cells": [
  {
   "cell_type": "code",
   "execution_count": 79,
   "metadata": {
    "id": "EJNUQYYln1-u"
   },
   "outputs": [],
   "source": [
    "import numpy as np \n",
    "import pandas as pd\n",
    "import seaborn as sns"
   ]
  },
  {
   "cell_type": "markdown",
   "metadata": {
    "id": "IvG0x_PPo5z3"
   },
   "source": [
    "# Question 1 \n",
    "\n",
    "For this question, you only need to do programming for Part 1.1 - 1.6. You will only be asked to provide answers in Part 1.7. "
   ]
  },
  {
   "cell_type": "code",
   "execution_count": 80,
   "metadata": {
    "id": "ncYW32VZocLf"
   },
   "outputs": [],
   "source": [
    "PATH_TO_Q1_DATA = 'data/HW3_Q1_DATA.csv'\n",
    "df_original = pd.read_csv(PATH_TO_Q1_DATA)"
   ]
  },
  {
   "cell_type": "markdown",
   "metadata": {},
   "source": [
    "### Data Exploration"
   ]
  },
  {
   "cell_type": "code",
   "execution_count": 81,
   "metadata": {},
   "outputs": [
    {
     "data": {
      "text/plain": [
       "(121913, 19)"
      ]
     },
     "execution_count": 81,
     "metadata": {},
     "output_type": "execute_result"
    }
   ],
   "source": [
    "df_original.shape"
   ]
  },
  {
   "cell_type": "code",
   "execution_count": 82,
   "metadata": {},
   "outputs": [
    {
     "data": {
      "text/html": [
       "<div>\n",
       "<style scoped>\n",
       "    .dataframe tbody tr th:only-of-type {\n",
       "        vertical-align: middle;\n",
       "    }\n",
       "\n",
       "    .dataframe tbody tr th {\n",
       "        vertical-align: top;\n",
       "    }\n",
       "\n",
       "    .dataframe thead th {\n",
       "        text-align: right;\n",
       "    }\n",
       "</style>\n",
       "<table border=\"1\" class=\"dataframe\">\n",
       "  <thead>\n",
       "    <tr style=\"text-align: right;\">\n",
       "      <th></th>\n",
       "      <th>Sex</th>\n",
       "      <th>Intubated</th>\n",
       "      <th>Pneumonia</th>\n",
       "      <th>Age</th>\n",
       "      <th>Pregnant</th>\n",
       "      <th>Diabetes</th>\n",
       "      <th>COPD</th>\n",
       "      <th>Asthma</th>\n",
       "      <th>Immunocompromised</th>\n",
       "      <th>Hypertension</th>\n",
       "      <th>Other_Disease</th>\n",
       "      <th>Cardiovascular_disease</th>\n",
       "      <th>Obesity</th>\n",
       "      <th>Renal_disease</th>\n",
       "      <th>Smoker</th>\n",
       "      <th>Exposure_to_others_with_COVID</th>\n",
       "      <th>Has_COVID</th>\n",
       "      <th>ICU</th>\n",
       "      <th>Died</th>\n",
       "    </tr>\n",
       "  </thead>\n",
       "  <tbody>\n",
       "    <tr>\n",
       "      <th>0</th>\n",
       "      <td>F</td>\n",
       "      <td>N</td>\n",
       "      <td>N</td>\n",
       "      <td>54</td>\n",
       "      <td>N</td>\n",
       "      <td>N</td>\n",
       "      <td>N</td>\n",
       "      <td>N</td>\n",
       "      <td>N</td>\n",
       "      <td>N</td>\n",
       "      <td>N</td>\n",
       "      <td>N</td>\n",
       "      <td>Y</td>\n",
       "      <td>N</td>\n",
       "      <td>N</td>\n",
       "      <td>NaN</td>\n",
       "      <td>Y</td>\n",
       "      <td>N</td>\n",
       "      <td>N</td>\n",
       "    </tr>\n",
       "    <tr>\n",
       "      <th>1</th>\n",
       "      <td>M</td>\n",
       "      <td>N</td>\n",
       "      <td>Y</td>\n",
       "      <td>30</td>\n",
       "      <td>NaN</td>\n",
       "      <td>N</td>\n",
       "      <td>N</td>\n",
       "      <td>N</td>\n",
       "      <td>N</td>\n",
       "      <td>N</td>\n",
       "      <td>N</td>\n",
       "      <td>N</td>\n",
       "      <td>N</td>\n",
       "      <td>N</td>\n",
       "      <td>N</td>\n",
       "      <td>NaN</td>\n",
       "      <td>Y</td>\n",
       "      <td>N</td>\n",
       "      <td>N</td>\n",
       "    </tr>\n",
       "    <tr>\n",
       "      <th>2</th>\n",
       "      <td>F</td>\n",
       "      <td>N</td>\n",
       "      <td>N</td>\n",
       "      <td>60</td>\n",
       "      <td>N</td>\n",
       "      <td>Y</td>\n",
       "      <td>N</td>\n",
       "      <td>N</td>\n",
       "      <td>N</td>\n",
       "      <td>Y</td>\n",
       "      <td>N</td>\n",
       "      <td>Y</td>\n",
       "      <td>N</td>\n",
       "      <td>N</td>\n",
       "      <td>N</td>\n",
       "      <td>NaN</td>\n",
       "      <td>Y</td>\n",
       "      <td>N</td>\n",
       "      <td>Y</td>\n",
       "    </tr>\n",
       "    <tr>\n",
       "      <th>3</th>\n",
       "      <td>M</td>\n",
       "      <td>N</td>\n",
       "      <td>Y</td>\n",
       "      <td>47</td>\n",
       "      <td>NaN</td>\n",
       "      <td>Y</td>\n",
       "      <td>N</td>\n",
       "      <td>N</td>\n",
       "      <td>N</td>\n",
       "      <td>N</td>\n",
       "      <td>N</td>\n",
       "      <td>N</td>\n",
       "      <td>N</td>\n",
       "      <td>N</td>\n",
       "      <td>N</td>\n",
       "      <td>NaN</td>\n",
       "      <td>Y</td>\n",
       "      <td>Y</td>\n",
       "      <td>Y</td>\n",
       "    </tr>\n",
       "    <tr>\n",
       "      <th>4</th>\n",
       "      <td>M</td>\n",
       "      <td>N</td>\n",
       "      <td>N</td>\n",
       "      <td>63</td>\n",
       "      <td>NaN</td>\n",
       "      <td>N</td>\n",
       "      <td>N</td>\n",
       "      <td>N</td>\n",
       "      <td>N</td>\n",
       "      <td>Y</td>\n",
       "      <td>N</td>\n",
       "      <td>N</td>\n",
       "      <td>N</td>\n",
       "      <td>N</td>\n",
       "      <td>N</td>\n",
       "      <td>NaN</td>\n",
       "      <td>Y</td>\n",
       "      <td>N</td>\n",
       "      <td>N</td>\n",
       "    </tr>\n",
       "  </tbody>\n",
       "</table>\n",
       "</div>"
      ],
      "text/plain": [
       "  Sex Intubated Pneumonia  Age Pregnant Diabetes COPD Asthma  \\\n",
       "0   F         N         N   54        N        N    N      N   \n",
       "1   M         N         Y   30      NaN        N    N      N   \n",
       "2   F         N         N   60        N        Y    N      N   \n",
       "3   M         N         Y   47      NaN        Y    N      N   \n",
       "4   M         N         N   63      NaN        N    N      N   \n",
       "\n",
       "  Immunocompromised Hypertension Other_Disease Cardiovascular_disease Obesity  \\\n",
       "0                 N            N             N                      N       Y   \n",
       "1                 N            N             N                      N       N   \n",
       "2                 N            Y             N                      Y       N   \n",
       "3                 N            N             N                      N       N   \n",
       "4                 N            Y             N                      N       N   \n",
       "\n",
       "  Renal_disease Smoker Exposure_to_others_with_COVID Has_COVID ICU Died  \n",
       "0             N      N                           NaN         Y   N    N  \n",
       "1             N      N                           NaN         Y   N    N  \n",
       "2             N      N                           NaN         Y   N    Y  \n",
       "3             N      N                           NaN         Y   Y    Y  \n",
       "4             N      N                           NaN         Y   N    N  "
      ]
     },
     "execution_count": 82,
     "metadata": {},
     "output_type": "execute_result"
    }
   ],
   "source": [
    "df_original.head()"
   ]
  },
  {
   "cell_type": "code",
   "execution_count": 83,
   "metadata": {
    "scrolled": false
   },
   "outputs": [
    {
     "name": "stdout",
     "output_type": "stream",
     "text": [
      "<class 'pandas.core.frame.DataFrame'>\n",
      "RangeIndex: 121913 entries, 0 to 121912\n",
      "Data columns (total 19 columns):\n",
      " #   Column                         Non-Null Count   Dtype \n",
      "---  ------                         --------------   ----- \n",
      " 0   Sex                            121913 non-null  object\n",
      " 1   Intubated                      121789 non-null  object\n",
      " 2   Pneumonia                      121912 non-null  object\n",
      " 3   Age                            121913 non-null  int64 \n",
      " 4   Pregnant                       48676 non-null   object\n",
      " 5   Diabetes                       121244 non-null  object\n",
      " 6   COPD                           121329 non-null  object\n",
      " 7   Asthma                         121328 non-null  object\n",
      " 8   Immunocompromised              121233 non-null  object\n",
      " 9   Hypertension                   121304 non-null  object\n",
      " 10  Other_Disease                  120872 non-null  object\n",
      " 11  Cardiovascular_disease         121267 non-null  object\n",
      " 12  Obesity                        121279 non-null  object\n",
      " 13  Renal_disease                  121304 non-null  object\n",
      " 14  Smoker                         121274 non-null  object\n",
      " 15  Exposure_to_others_with_COVID  59793 non-null   object\n",
      " 16  Has_COVID                      121913 non-null  object\n",
      " 17  ICU                            121788 non-null  object\n",
      " 18  Died                           121913 non-null  object\n",
      "dtypes: int64(1), object(18)\n",
      "memory usage: 17.7+ MB\n"
     ]
    }
   ],
   "source": [
    "df_original.info()"
   ]
  },
  {
   "cell_type": "code",
   "execution_count": 84,
   "metadata": {},
   "outputs": [
    {
     "data": {
      "text/plain": [
       "N    89357\n",
       "Y    32556\n",
       "Name: Died, dtype: int64"
      ]
     },
     "execution_count": 84,
     "metadata": {},
     "output_type": "execute_result"
    }
   ],
   "source": [
    "df_original['Died'].value_counts()"
   ]
  },
  {
   "cell_type": "markdown",
   "metadata": {},
   "source": [
    "### Encode data"
   ]
  },
  {
   "cell_type": "code",
   "execution_count": 85,
   "metadata": {},
   "outputs": [
    {
     "name": "stdout",
     "output_type": "stream",
     "text": [
      "(121913, 38)\n"
     ]
    }
   ],
   "source": [
    "# convert categorical data to numerical values\n",
    "# drop one of each of the binary categories because it is not necessary (all info is encoded by one column)\n",
    "df_encoded=pd.get_dummies(df_original, drop_first=True,dummy_na=True)\n",
    "print(df_encoded.shape)"
   ]
  },
  {
   "cell_type": "code",
   "execution_count": 86,
   "metadata": {},
   "outputs": [
    {
     "data": {
      "text/html": [
       "<div>\n",
       "<style scoped>\n",
       "    .dataframe tbody tr th:only-of-type {\n",
       "        vertical-align: middle;\n",
       "    }\n",
       "\n",
       "    .dataframe tbody tr th {\n",
       "        vertical-align: top;\n",
       "    }\n",
       "\n",
       "    .dataframe thead th {\n",
       "        text-align: right;\n",
       "    }\n",
       "</style>\n",
       "<table border=\"1\" class=\"dataframe\">\n",
       "  <thead>\n",
       "    <tr style=\"text-align: right;\">\n",
       "      <th></th>\n",
       "      <th>Age</th>\n",
       "      <th>Sex_M</th>\n",
       "      <th>Sex_nan</th>\n",
       "      <th>Intubated_Y</th>\n",
       "      <th>Intubated_nan</th>\n",
       "      <th>Pneumonia_Y</th>\n",
       "      <th>Pneumonia_nan</th>\n",
       "      <th>Pregnant_Y</th>\n",
       "      <th>Pregnant_nan</th>\n",
       "      <th>Diabetes_Y</th>\n",
       "      <th>...</th>\n",
       "      <th>Smoker_nan</th>\n",
       "      <th>Exposure_to_others_with_COVID_Y</th>\n",
       "      <th>Exposure_to_others_with_COVID_nan</th>\n",
       "      <th>Has_COVID_Pending</th>\n",
       "      <th>Has_COVID_Y</th>\n",
       "      <th>Has_COVID_nan</th>\n",
       "      <th>ICU_Y</th>\n",
       "      <th>ICU_nan</th>\n",
       "      <th>Died_Y</th>\n",
       "      <th>Died_nan</th>\n",
       "    </tr>\n",
       "  </thead>\n",
       "  <tbody>\n",
       "    <tr>\n",
       "      <th>0</th>\n",
       "      <td>54</td>\n",
       "      <td>0</td>\n",
       "      <td>0</td>\n",
       "      <td>0</td>\n",
       "      <td>0</td>\n",
       "      <td>0</td>\n",
       "      <td>0</td>\n",
       "      <td>0</td>\n",
       "      <td>0</td>\n",
       "      <td>0</td>\n",
       "      <td>...</td>\n",
       "      <td>0</td>\n",
       "      <td>0</td>\n",
       "      <td>1</td>\n",
       "      <td>0</td>\n",
       "      <td>1</td>\n",
       "      <td>0</td>\n",
       "      <td>0</td>\n",
       "      <td>0</td>\n",
       "      <td>0</td>\n",
       "      <td>0</td>\n",
       "    </tr>\n",
       "    <tr>\n",
       "      <th>1</th>\n",
       "      <td>30</td>\n",
       "      <td>1</td>\n",
       "      <td>0</td>\n",
       "      <td>0</td>\n",
       "      <td>0</td>\n",
       "      <td>1</td>\n",
       "      <td>0</td>\n",
       "      <td>0</td>\n",
       "      <td>1</td>\n",
       "      <td>0</td>\n",
       "      <td>...</td>\n",
       "      <td>0</td>\n",
       "      <td>0</td>\n",
       "      <td>1</td>\n",
       "      <td>0</td>\n",
       "      <td>1</td>\n",
       "      <td>0</td>\n",
       "      <td>0</td>\n",
       "      <td>0</td>\n",
       "      <td>0</td>\n",
       "      <td>0</td>\n",
       "    </tr>\n",
       "    <tr>\n",
       "      <th>2</th>\n",
       "      <td>60</td>\n",
       "      <td>0</td>\n",
       "      <td>0</td>\n",
       "      <td>0</td>\n",
       "      <td>0</td>\n",
       "      <td>0</td>\n",
       "      <td>0</td>\n",
       "      <td>0</td>\n",
       "      <td>0</td>\n",
       "      <td>1</td>\n",
       "      <td>...</td>\n",
       "      <td>0</td>\n",
       "      <td>0</td>\n",
       "      <td>1</td>\n",
       "      <td>0</td>\n",
       "      <td>1</td>\n",
       "      <td>0</td>\n",
       "      <td>0</td>\n",
       "      <td>0</td>\n",
       "      <td>1</td>\n",
       "      <td>0</td>\n",
       "    </tr>\n",
       "    <tr>\n",
       "      <th>3</th>\n",
       "      <td>47</td>\n",
       "      <td>1</td>\n",
       "      <td>0</td>\n",
       "      <td>0</td>\n",
       "      <td>0</td>\n",
       "      <td>1</td>\n",
       "      <td>0</td>\n",
       "      <td>0</td>\n",
       "      <td>1</td>\n",
       "      <td>1</td>\n",
       "      <td>...</td>\n",
       "      <td>0</td>\n",
       "      <td>0</td>\n",
       "      <td>1</td>\n",
       "      <td>0</td>\n",
       "      <td>1</td>\n",
       "      <td>0</td>\n",
       "      <td>1</td>\n",
       "      <td>0</td>\n",
       "      <td>1</td>\n",
       "      <td>0</td>\n",
       "    </tr>\n",
       "    <tr>\n",
       "      <th>4</th>\n",
       "      <td>63</td>\n",
       "      <td>1</td>\n",
       "      <td>0</td>\n",
       "      <td>0</td>\n",
       "      <td>0</td>\n",
       "      <td>0</td>\n",
       "      <td>0</td>\n",
       "      <td>0</td>\n",
       "      <td>1</td>\n",
       "      <td>0</td>\n",
       "      <td>...</td>\n",
       "      <td>0</td>\n",
       "      <td>0</td>\n",
       "      <td>1</td>\n",
       "      <td>0</td>\n",
       "      <td>1</td>\n",
       "      <td>0</td>\n",
       "      <td>0</td>\n",
       "      <td>0</td>\n",
       "      <td>0</td>\n",
       "      <td>0</td>\n",
       "    </tr>\n",
       "  </tbody>\n",
       "</table>\n",
       "<p>5 rows × 38 columns</p>\n",
       "</div>"
      ],
      "text/plain": [
       "   Age  Sex_M  Sex_nan  Intubated_Y  Intubated_nan  Pneumonia_Y  \\\n",
       "0   54      0        0            0              0            0   \n",
       "1   30      1        0            0              0            1   \n",
       "2   60      0        0            0              0            0   \n",
       "3   47      1        0            0              0            1   \n",
       "4   63      1        0            0              0            0   \n",
       "\n",
       "   Pneumonia_nan  Pregnant_Y  Pregnant_nan  Diabetes_Y  ...  Smoker_nan  \\\n",
       "0              0           0             0           0  ...           0   \n",
       "1              0           0             1           0  ...           0   \n",
       "2              0           0             0           1  ...           0   \n",
       "3              0           0             1           1  ...           0   \n",
       "4              0           0             1           0  ...           0   \n",
       "\n",
       "   Exposure_to_others_with_COVID_Y  Exposure_to_others_with_COVID_nan  \\\n",
       "0                                0                                  1   \n",
       "1                                0                                  1   \n",
       "2                                0                                  1   \n",
       "3                                0                                  1   \n",
       "4                                0                                  1   \n",
       "\n",
       "   Has_COVID_Pending  Has_COVID_Y  Has_COVID_nan  ICU_Y  ICU_nan  Died_Y  \\\n",
       "0                  0            1              0      0        0       0   \n",
       "1                  0            1              0      0        0       0   \n",
       "2                  0            1              0      0        0       1   \n",
       "3                  0            1              0      1        0       1   \n",
       "4                  0            1              0      0        0       0   \n",
       "\n",
       "   Died_nan  \n",
       "0         0  \n",
       "1         0  \n",
       "2         0  \n",
       "3         0  \n",
       "4         0  \n",
       "\n",
       "[5 rows x 38 columns]"
      ]
     },
     "execution_count": 86,
     "metadata": {},
     "output_type": "execute_result"
    }
   ],
   "source": [
    "df_encoded.head()"
   ]
  },
  {
   "cell_type": "code",
   "execution_count": 87,
   "metadata": {
    "scrolled": false
   },
   "outputs": [
    {
     "data": {
      "text/plain": [
       "Sex_M                                73071\n",
       "Sex_nan                                  0\n",
       "Intubated_Y                           9965\n",
       "Intubated_nan                          124\n",
       "Pneumonia_Y                          73747\n",
       "Pneumonia_nan                            1\n",
       "Pregnant_Y                            1071\n",
       "Pregnant_nan                         73237\n",
       "Diabetes_Y                           35481\n",
       "Diabetes_nan                           669\n",
       "COPD_Y                                5493\n",
       "COPD_nan                               584\n",
       "Asthma_Y                              3144\n",
       "Asthma_nan                             585\n",
       "Immunocompromised_Y                   4726\n",
       "Immunocompromised_nan                  680\n",
       "Hypertension_Y                       40344\n",
       "Hypertension_nan                       609\n",
       "Other_Disease_Y                       7287\n",
       "Other_Disease_nan                     1041\n",
       "Cardiovascular_disease_Y              6305\n",
       "Cardiovascular_disease_nan             646\n",
       "Obesity_Y                            25127\n",
       "Obesity_nan                            634\n",
       "Renal_disease_Y                       7243\n",
       "Renal_disease_nan                      609\n",
       "Smoker_Y                             10745\n",
       "Smoker_nan                             639\n",
       "Exposure_to_others_with_COVID_Y      17280\n",
       "Exposure_to_others_with_COVID_nan    62120\n",
       "Has_COVID_Pending                    14367\n",
       "Has_COVID_Y                          68296\n",
       "Has_COVID_nan                            0\n",
       "ICU_Y                                10112\n",
       "ICU_nan                                125\n",
       "Died_Y                               32556\n",
       "Died_nan                                 0\n",
       "dtype: int64"
      ]
     },
     "execution_count": 87,
     "metadata": {},
     "output_type": "execute_result"
    }
   ],
   "source": [
    "df_encoded.drop('Age',axis='columns').sum(axis='rows')"
   ]
  },
  {
   "cell_type": "markdown",
   "metadata": {},
   "source": [
    "### Visualize Data"
   ]
  },
  {
   "cell_type": "code",
   "execution_count": 88,
   "metadata": {},
   "outputs": [
    {
     "name": "stdout",
     "output_type": "stream",
     "text": [
      "(121913,)\n",
      "(121913, 37)\n"
     ]
    }
   ],
   "source": [
    "# plot data so I can see what shape it takes\n",
    "y = df_encoded['Died_Y']\n",
    "print(y.shape)\n",
    "X = df_encoded.drop('Died_Y',axis='columns')\n",
    "print(X.shape)"
   ]
  },
  {
   "cell_type": "code",
   "execution_count": 89,
   "metadata": {},
   "outputs": [
    {
     "data": {
      "text/plain": [
       "<AxesSubplot:xlabel='pca1', ylabel='pca2'>"
      ]
     },
     "execution_count": 89,
     "metadata": {},
     "output_type": "execute_result"
    },
    {
     "data": {
      "image/png": "[encoded data removed]",
      "text/plain": [
       "<Figure size 432x288 with 1 Axes>"
      ]
     },
     "metadata": {
      "needs_background": "light"
     },
     "output_type": "display_data"
    }
   ],
   "source": [
    "from sklearn.decomposition import PCA\n",
    "\n",
    "# use PCA to visualize data\n",
    "pca = PCA(n_components=2).fit_transform(df_encoded.drop('Died_Y',axis='columns')) \n",
    "df_pca_plot = pd.DataFrame(pca, columns=['pca1','pca2'])\n",
    "df_pca_plot_concat = df_pca_plot.assign(Died_Y=y.values)\n",
    "sns.scatterplot(x='pca1', y='pca2', data=df_pca_plot_concat, legend='full',hue='Died_Y')"
   ]
  },
  {
   "cell_type": "markdown",
   "metadata": {},
   "source": [
    "## Define Methods for Capturing Classifier Metrics"
   ]
  },
  {
   "cell_type": "markdown",
   "metadata": {},
   "source": [
    "### Methods to Calculate Metrics\n",
    "- Accuracy\n",
    "- Sensitivity & Specificity\n",
    "- The positive and negative predictive values \n",
    "- F1-score\n",
    "- The Matthews Correlation Coefficient\n",
    "- AUC (Area under the ROC curve)"
   ]
  },
  {
   "cell_type": "code",
   "execution_count": 90,
   "metadata": {},
   "outputs": [],
   "source": [
    "from sklearn.metrics import confusion_matrix\n",
    "\n",
    "def get_confusion_matrix(clf,X,y):\n",
    "    '''\n",
    "    Calculates the confusion matrix for a given X,y and classifier.\n",
    "    '''\n",
    "    y_predict = clf.predict(X)\n",
    "    y_true = y\n",
    "   \n",
    "    # confusion matrix\n",
    "    return confusion_matrix(y_true, y_predict)\n",
    "\n",
    "\n",
    "def y_score_from_decision_function(clf,X):\n",
    "    '''\n",
    "    Uses decision_function to calculate y_score because classifier doesn't have predict_prob().\n",
    "    '''\n",
    "    return clf.decision_function(X)\n",
    "    \n",
    "\n",
    "def y_score_from_predict_proba(clf,X):\n",
    "    '''\n",
    "    Uses predict_proba to calculate y_score.\n",
    "    '''\n",
    "    return clf.predict_proba(X)[:,1]"
   ]
  },
  {
   "cell_type": "code",
   "execution_count": 91,
   "metadata": {},
   "outputs": [],
   "source": [
    "from sklearn.metrics import matthews_corrcoef\n",
    "from sklearn.metrics import roc_auc_score\n",
    "from math import sqrt\n",
    "\n",
    "def calc_classifier_metrics(cm, y_true, y_predict, y_score):\n",
    "    \n",
    "    tn, fp, fn, tp = cm.ravel()\n",
    "    \n",
    "    # accuracy\n",
    "    acc = (tp + tn) / (tp + tn + fp + fn)\n",
    "    \n",
    "    # sensitivity\n",
    "    sen = tp / (tp + fn)\n",
    "    \n",
    "    # specificity\n",
    "    spec = tn / (tn + fp)\n",
    "    \n",
    "    # precision\n",
    "    prec = tp / (tp + fp)\n",
    "    \n",
    "    # positive predictive value\n",
    "    ppv = prec\n",
    "    \n",
    "    # negative predictive value\n",
    "    npv = tn / (fn + tn)\n",
    "    \n",
    "    # f1 score\n",
    "    f1 = (2 * tp) / (2 * tp + fp + fn)\n",
    "    \n",
    "    # matthew correlation coefficient\n",
    "    #     mcc = matthews_corrcoef(y_true,y_predict)\n",
    "    mcc = ((tp * tn) - (fp * fn))/ sqrt((tp+fp) * (tp+fn) * (tn+fp) * (tn+fn))\n",
    "    \n",
    "    # area under the receiver (AUC)\n",
    "    auc = roc_auc_score(y_true, y_score)\n",
    "    \n",
    "    # return numpy array  \n",
    "    return [acc,sen,spec,ppv,npv,f1,mcc,auc]"
   ]
  },
  {
   "cell_type": "markdown",
   "metadata": {},
   "source": [
    "### Methods to Store Metrics"
   ]
  },
  {
   "cell_type": "code",
   "execution_count": 92,
   "metadata": {},
   "outputs": [],
   "source": [
    "def add_row(df, section, description, metrics):\n",
    "    \n",
    "    data = [section,description] + metrics \n",
    "    new_row = pd.Series(data, index = df.columns)\n",
    "    return df.append(new_row,ignore_index=True)\n",
    "\n",
    "\n",
    "def add_metrics_to_table(df, section, description, clf, X, y, y_score):\n",
    "    \n",
    "    # for validation purposes\n",
    "    print(clf.score(X,y),'\\n')\n",
    "    \n",
    "    # calculate confusion matrix\n",
    "    cm = get_confusion_matrix(clf,X,y)\n",
    "    \n",
    "    # calculate metrics\n",
    "    y_predict = clf.predict(X)\n",
    "    metrics = calc_classifier_metrics(cm,y,y_predict,y_score)\n",
    "    \n",
    "    # add row to results DataFrame\n",
    "    return add_row(df, section, description, metrics)"
   ]
  },
  {
   "cell_type": "markdown",
   "metadata": {},
   "source": [
    "### DataFrame to store classifier metric results for all tests"
   ]
  },
  {
   "cell_type": "code",
   "execution_count": 93,
   "metadata": {},
   "outputs": [],
   "source": [
    "# dataframe to collect results of all tests\n",
    "df_results = pd.DataFrame(\n",
    "    columns=['Section',\n",
    "             'Description',\n",
    "             'Accuracy',\n",
    "             'Sensitivity',\n",
    "             'Specificity',\n",
    "             'Pos_Predictive_Val',\n",
    "             'Neg_Predictive_Val',\n",
    "             'F1_Score',\n",
    "             'Matthew_Corr_Coef',\n",
    "             'AUC'\n",
    "            ]).astype(\n",
    "    dtype= {'Section':'int64',\n",
    "            'Description':'object',\n",
    "            'Accuracy':'float64',\n",
    "            'Sensitivity':'float64',\n",
    "             'Specificity':'float64',\n",
    "             'Pos_Predictive_Val':'float64',\n",
    "             'Neg_Predictive_Val':'float64',\n",
    "             'F1_Score':'float64',\n",
    "             'Matthew_Corr_Coef':'float64',\n",
    "             'AUC':'float64'\n",
    "           })"
   ]
  },
  {
   "cell_type": "code",
   "execution_count": 94,
   "metadata": {},
   "outputs": [
    {
     "data": {
      "text/html": [
       "<div>\n",
       "<style scoped>\n",
       "    .dataframe tbody tr th:only-of-type {\n",
       "        vertical-align: middle;\n",
       "    }\n",
       "\n",
       "    .dataframe tbody tr th {\n",
       "        vertical-align: top;\n",
       "    }\n",
       "\n",
       "    .dataframe thead th {\n",
       "        text-align: right;\n",
       "    }\n",
       "</style>\n",
       "<table border=\"1\" class=\"dataframe\">\n",
       "  <thead>\n",
       "    <tr style=\"text-align: right;\">\n",
       "      <th></th>\n",
       "      <th>Section</th>\n",
       "      <th>Description</th>\n",
       "      <th>Accuracy</th>\n",
       "      <th>Sensitivity</th>\n",
       "      <th>Specificity</th>\n",
       "      <th>Pos_Predictive_Val</th>\n",
       "      <th>Neg_Predictive_Val</th>\n",
       "      <th>F1_Score</th>\n",
       "      <th>Matthew_Corr_Coef</th>\n",
       "      <th>AUC</th>\n",
       "    </tr>\n",
       "  </thead>\n",
       "  <tbody>\n",
       "  </tbody>\n",
       "</table>\n",
       "</div>"
      ],
      "text/plain": [
       "Empty DataFrame\n",
       "Columns: [Section, Description, Accuracy, Sensitivity, Specificity, Pos_Predictive_Val, Neg_Predictive_Val, F1_Score, Matthew_Corr_Coef, AUC]\n",
       "Index: []"
      ]
     },
     "execution_count": 94,
     "metadata": {},
     "output_type": "execute_result"
    }
   ],
   "source": [
    "df_results.head()"
   ]
  },
  {
   "cell_type": "markdown",
   "metadata": {
    "id": "NbJzylg6qXnM"
   },
   "source": [
    "## Part 1.1 Select features and train classifiers"
   ]
  },
  {
   "cell_type": "markdown",
   "metadata": {
    "id": "pa4bayciquGA"
   },
   "source": [
    "### Part 1.1 Work "
   ]
  },
  {
   "cell_type": "code",
   "execution_count": 95,
   "metadata": {
    "id": "G_OeUOazqsyA"
   },
   "outputs": [],
   "source": [
    "# TODO: \n",
    "#   Step 1: Select and apply a filter-based or wrapper-based feature selection method to the data.\n",
    "#   Step 2: Train a classifier using the selected features. Use 10-fold cross validation.\n",
    "\n",
    "# Tip: \n",
    "#   1. You may find the filter-based or wrapper-based methods you used in HW2 useful. \n",
    "\n",
    "#   2. Scikit-learn implement many classifiers, see the comparisons of their \n",
    "#   performance and introductions here:\n",
    "#   https://scikit-learn.org/stable/auto_examples/classification/plot_classifier_comparison.html\n",
    "\n",
    "#   3. Scikit-learn also implement classifiers with built-in cross validations,\n",
    "#   for example: https://scikit-learn.org/stable/modules/generated/sklearn.linear_model.RidgeClassifierCV.html"
   ]
  },
  {
   "cell_type": "markdown",
   "metadata": {},
   "source": [
    "#### Define functions"
   ]
  },
  {
   "cell_type": "code",
   "execution_count": 96,
   "metadata": {},
   "outputs": [],
   "source": [
    "from sklearn.ensemble import RandomForestClassifier\n",
    "from sklearn.feature_selection import RFECV\n",
    "from sklearn.tree import DecisionTreeClassifier\n",
    "from sklearn.feature_selection import SelectFromModel\n",
    "from sklearn.model_selection import train_test_split\n",
    "from sklearn.model_selection import cross_val_score\n",
    "\n",
    "\n",
    "def run_crossfold_recursive_feature_elimination(X,y):\n",
    "    clf = DecisionTreeClassifier()\n",
    "    rfecv = RFECV(estimator=clf, step=1, cv=10,scoring='neg_mean_squared_error',n_jobs=3)\n",
    "    return rfecv.fit(X, y)\n",
    "\n",
    "\n",
    "def get_feature_list(X, support):\n",
    "    features = list()\n",
    "    for i,val in enumerate(support):\n",
    "        if val:\n",
    "            features.append(X.columns[i])      \n",
    "    return features\n",
    "\n",
    "\n",
    "def build_X_from_features(X, features):\n",
    "    return X.loc[:][features]\n",
    "\n",
    "\n",
    "def train_random_forest_classifier(X,y):\n",
    "    clf = RandomForestClassifier(max_depth=2, random_state=0)\n",
    "    return clf.fit(X,y)\n",
    "      \n",
    "\n",
    "def run_classifier_with_cross_validation_1_1(X,y,k):\n",
    "    clf = RandomForestClassifier(max_depth=2, random_state=0)\n",
    "    scores = cross_val_score(clf, X, y, cv=k)\n",
    "    return scores.mean()  "
   ]
  },
  {
   "cell_type": "markdown",
   "metadata": {},
   "source": [
    "#### Feature Selection"
   ]
  },
  {
   "cell_type": "code",
   "execution_count": 97,
   "metadata": {},
   "outputs": [
    {
     "name": "stdout",
     "output_type": "stream",
     "text": [
      "(121913, 36)\n",
      "(121913,)\n"
     ]
    }
   ],
   "source": [
    "# select data\n",
    "X_1_1 = df_encoded.drop(['Died_Y','Died_nan'],axis='columns')\n",
    "y_1_1 = df_encoded.loc[:]['Died_Y']\n",
    "print(X_1_1.shape)\n",
    "print(y_1_1.shape)"
   ]
  },
  {
   "cell_type": "code",
   "execution_count": 98,
   "metadata": {},
   "outputs": [
    {
     "name": "stdout",
     "output_type": "stream",
     "text": [
      "CPU times: user 8.81 s, sys: 190 ms, total: 9 s\n",
      "Wall time: 47.1 s\n"
     ]
    }
   ],
   "source": [
    "%%time\n",
    "\n",
    "# select features\n",
    "rfe_1_1 = run_crossfold_recursive_feature_elimination(X_1_1,y_1_1)\n",
    "features_1_1 = get_feature_list(X_1_1,rfe_1_1.support_)"
   ]
  },
  {
   "cell_type": "code",
   "execution_count": 99,
   "metadata": {
    "scrolled": true
   },
   "outputs": [
    {
     "data": {
      "text/plain": [
       "['Age',\n",
       " 'Intubated_Y',\n",
       " 'Pneumonia_Y',\n",
       " 'Exposure_to_others_with_COVID_nan',\n",
       " 'Has_COVID_Y']"
      ]
     },
     "execution_count": 99,
     "metadata": {},
     "output_type": "execute_result"
    }
   ],
   "source": [
    "features_1_1"
   ]
  },
  {
   "cell_type": "markdown",
   "metadata": {},
   "source": [
    "#### Classifier"
   ]
  },
  {
   "cell_type": "code",
   "execution_count": 100,
   "metadata": {},
   "outputs": [
    {
     "name": "stdout",
     "output_type": "stream",
     "text": [
      "(121913, 5)\n",
      "Accuracy: 0.7482713242213663\n",
      "CPU times: user 15 s, sys: 172 ms, total: 15.1 s\n",
      "Wall time: 15.3 s\n"
     ]
    }
   ],
   "source": [
    "%%time\n",
    "\n",
    "# limit features to those selected by previous step\n",
    "X_1_1_select = build_X_from_features(X_1_1,features_1_1)\n",
    "print(X_1_1_select.shape)\n",
    "\n",
    "# score classifier using 10-fold cross validation\n",
    "score = run_classifier_with_cross_validation_1_1(X_1_1_select,y_1_1,10)\n",
    "print(\"Accuracy:\",score)"
   ]
  },
  {
   "cell_type": "code",
   "execution_count": 101,
   "metadata": {},
   "outputs": [
    {
     "name": "stdout",
     "output_type": "stream",
     "text": [
      "CPU times: user 1.63 s, sys: 19.6 ms, total: 1.65 s\n",
      "Wall time: 1.66 s\n"
     ]
    }
   ],
   "source": [
    "%%time\n",
    "\n",
    "# run classifier on full dataset to capture metrics\n",
    "clf_1_1 = train_random_forest_classifier(X_1_1_select,y_1_1)"
   ]
  },
  {
   "cell_type": "code",
   "execution_count": 102,
   "metadata": {},
   "outputs": [
    {
     "name": "stdout",
     "output_type": "stream",
     "text": [
      "0.7482220928038847 \n",
      "\n"
     ]
    },
    {
     "data": {
      "text/html": [
       "<div>\n",
       "<style scoped>\n",
       "    .dataframe tbody tr th:only-of-type {\n",
       "        vertical-align: middle;\n",
       "    }\n",
       "\n",
       "    .dataframe tbody tr th {\n",
       "        vertical-align: top;\n",
       "    }\n",
       "\n",
       "    .dataframe thead th {\n",
       "        text-align: right;\n",
       "    }\n",
       "</style>\n",
       "<table border=\"1\" class=\"dataframe\">\n",
       "  <thead>\n",
       "    <tr style=\"text-align: right;\">\n",
       "      <th></th>\n",
       "      <th>Section</th>\n",
       "      <th>Description</th>\n",
       "      <th>Accuracy</th>\n",
       "      <th>Sensitivity</th>\n",
       "      <th>Specificity</th>\n",
       "      <th>Pos_Predictive_Val</th>\n",
       "      <th>Neg_Predictive_Val</th>\n",
       "      <th>F1_Score</th>\n",
       "      <th>Matthew_Corr_Coef</th>\n",
       "      <th>AUC</th>\n",
       "    </tr>\n",
       "  </thead>\n",
       "  <tbody>\n",
       "    <tr>\n",
       "      <th>0</th>\n",
       "      <td>1</td>\n",
       "      <td>Wrapper</td>\n",
       "      <td>0.748222</td>\n",
       "      <td>0.090367</td>\n",
       "      <td>0.987902</td>\n",
       "      <td>0.731295</td>\n",
       "      <td>0.7488</td>\n",
       "      <td>0.160857</td>\n",
       "      <td>0.193848</td>\n",
       "      <td>0.755638</td>\n",
       "    </tr>\n",
       "  </tbody>\n",
       "</table>\n",
       "</div>"
      ],
      "text/plain": [
       "   Section Description  Accuracy  Sensitivity  Specificity  \\\n",
       "0        1     Wrapper  0.748222     0.090367     0.987902   \n",
       "\n",
       "   Pos_Predictive_Val  Neg_Predictive_Val  F1_Score  Matthew_Corr_Coef  \\\n",
       "0            0.731295              0.7488  0.160857           0.193848   \n",
       "\n",
       "        AUC  \n",
       "0  0.755638  "
      ]
     },
     "execution_count": 102,
     "metadata": {},
     "output_type": "execute_result"
    }
   ],
   "source": [
    "# capture metrics for later use\n",
    "y_score_1_1 = y_score_from_predict_proba(clf_1_1,X_1_1_select)\n",
    "df_results = add_metrics_to_table(df_results,1,\"Wrapper\",clf_1_1,X_1_1_select,y_1_1,y_score_1_1)\n",
    "df_results"
   ]
  },
  {
   "cell_type": "markdown",
   "metadata": {
    "id": "DGcEfPHSy2YP"
   },
   "source": [
    "### Part 1.2 Work "
   ]
  },
  {
   "cell_type": "code",
   "execution_count": 103,
   "metadata": {
    "id": "i1LoJQbly2YQ"
   },
   "outputs": [],
   "source": [
    "# TODO: \n",
    "#   Step 1: Select a learning algorithm that performs embedded feature selection. \n",
    "#   Step 2: Train a classifier using the selected features. Use 10-fold cross validation.\n",
    "\n",
    "# Tip: \n",
    "#   1. Scikit-learn implement many classifiers, see the comparisons of their \n",
    "#   performance and introductions here:\n",
    "#   https://scikit-learn.org/stable/auto_examples/classification/plot_classifier_comparison.html\n",
    "\n",
    "#   2. Scikit-learn also implement classifiers with built-in cross validations,\n",
    "#   for example: https://scikit-learn.org/stable/modules/generated/sklearn.linear_model.RidgeClassifierCV.html"
   ]
  },
  {
   "cell_type": "markdown",
   "metadata": {},
   "source": [
    "#### Define Functions"
   ]
  },
  {
   "cell_type": "code",
   "execution_count": 104,
   "metadata": {},
   "outputs": [],
   "source": [
    "from sklearn.feature_selection import SelectFromModel\n",
    "from sklearn.ensemble import RandomForestClassifier\n",
    "from sklearn.linear_model import RidgeClassifierCV\n",
    "from sklearn.linear_model import RidgeClassifier\n",
    "\n",
    "\n",
    "def run_embedded_feature_selection(X,y):\n",
    "    \n",
    "    # split data\n",
    "    X_train,X_test,y_train,y_test = train_test_split(X,y,test_size=0.25)\n",
    "    \n",
    "    # select features\n",
    "    sel = SelectFromModel(RandomForestClassifier())\n",
    "    return sel.fit(X_train, y_train)\n",
    "\n",
    "\n",
    "def run_classifier_with_cross_validation_1_2(X,y,k):\n",
    "    clf = RidgeClassifierCV(alphas=[1e-3, 1e-2, 1e-1, 1],cv=k).fit(X, y)\n",
    "    return clf.score(X, y)\n",
    "                            \n",
    "                            \n",
    "def train_ridge_classifier(X,y):\n",
    "    clf = RidgeClassifier().fit(X, y)\n",
    "    return clf.fit(X,y)"
   ]
  },
  {
   "cell_type": "markdown",
   "metadata": {},
   "source": [
    "#### Feature Selection"
   ]
  },
  {
   "cell_type": "code",
   "execution_count": 105,
   "metadata": {},
   "outputs": [
    {
     "name": "stdout",
     "output_type": "stream",
     "text": [
      "(121913, 36)\n",
      "(121913,)\n"
     ]
    }
   ],
   "source": [
    "# select data\n",
    "X_1_2 = df_encoded.drop(['Died_Y','Died_nan'],axis='columns')\n",
    "y_1_2 = df_encoded.loc[:]['Died_Y']\n",
    "print(X_1_2.shape)\n",
    "print(y_1_2.shape)"
   ]
  },
  {
   "cell_type": "code",
   "execution_count": 106,
   "metadata": {},
   "outputs": [
    {
     "name": "stdout",
     "output_type": "stream",
     "text": [
      "CPU times: user 7.96 s, sys: 135 ms, total: 8.09 s\n",
      "Wall time: 8.13 s\n"
     ]
    }
   ],
   "source": [
    "%%time\n",
    "\n",
    "# select features\n",
    "embedded_1_2 = run_embedded_feature_selection(X_1_2,y_1_2)\n",
    "features_1_2 = get_feature_list(X_1_2,embedded_1_2.get_support())"
   ]
  },
  {
   "cell_type": "code",
   "execution_count": 107,
   "metadata": {
    "scrolled": true
   },
   "outputs": [
    {
     "data": {
      "text/plain": [
       "['Age',\n",
       " 'Intubated_Y',\n",
       " 'Pneumonia_Y',\n",
       " 'Obesity_Y',\n",
       " 'Exposure_to_others_with_COVID_nan',\n",
       " 'Has_COVID_Y']"
      ]
     },
     "execution_count": 107,
     "metadata": {},
     "output_type": "execute_result"
    }
   ],
   "source": [
    "features_1_2"
   ]
  },
  {
   "cell_type": "markdown",
   "metadata": {},
   "source": [
    "#### Classifier"
   ]
  },
  {
   "cell_type": "code",
   "execution_count": 108,
   "metadata": {},
   "outputs": [
    {
     "name": "stdout",
     "output_type": "stream",
     "text": [
      "(121913, 6)\n",
      "Accuracy: 0.7648405010130175\n",
      "CPU times: user 4.44 s, sys: 124 ms, total: 4.56 s\n",
      "Wall time: 1.19 s\n"
     ]
    }
   ],
   "source": [
    "%%time\n",
    "\n",
    "# limit features to those selected by previous step\n",
    "X_1_2_select = build_X_from_features(X_1_2,features_1_2)\n",
    "print(X_1_2_select.shape)\n",
    "\n",
    "# score classifier using 10-fold cross validation\n",
    "score = run_classifier_with_cross_validation_1_2(X_1_2_select,y_1_2,10)\n",
    "print(\"Accuracy:\",score)"
   ]
  },
  {
   "cell_type": "code",
   "execution_count": 109,
   "metadata": {},
   "outputs": [
    {
     "name": "stdout",
     "output_type": "stream",
     "text": [
      "CPU times: user 219 ms, sys: 8.29 ms, total: 227 ms\n",
      "Wall time: 57 ms\n"
     ]
    }
   ],
   "source": [
    "%%time\n",
    "\n",
    "# run classifier on full dataset to capture metrics\n",
    "clf_1_2 = train_ridge_classifier(X_1_2_select,y_1_2)"
   ]
  },
  {
   "cell_type": "code",
   "execution_count": 110,
   "metadata": {},
   "outputs": [
    {
     "name": "stdout",
     "output_type": "stream",
     "text": [
      "0.7648405010130175 \n",
      "\n"
     ]
    },
    {
     "data": {
      "text/html": [
       "<div>\n",
       "<style scoped>\n",
       "    .dataframe tbody tr th:only-of-type {\n",
       "        vertical-align: middle;\n",
       "    }\n",
       "\n",
       "    .dataframe tbody tr th {\n",
       "        vertical-align: top;\n",
       "    }\n",
       "\n",
       "    .dataframe thead th {\n",
       "        text-align: right;\n",
       "    }\n",
       "</style>\n",
       "<table border=\"1\" class=\"dataframe\">\n",
       "  <thead>\n",
       "    <tr style=\"text-align: right;\">\n",
       "      <th></th>\n",
       "      <th>Section</th>\n",
       "      <th>Description</th>\n",
       "      <th>Accuracy</th>\n",
       "      <th>Sensitivity</th>\n",
       "      <th>Specificity</th>\n",
       "      <th>Pos_Predictive_Val</th>\n",
       "      <th>Neg_Predictive_Val</th>\n",
       "      <th>F1_Score</th>\n",
       "      <th>Matthew_Corr_Coef</th>\n",
       "      <th>AUC</th>\n",
       "    </tr>\n",
       "  </thead>\n",
       "  <tbody>\n",
       "    <tr>\n",
       "      <th>0</th>\n",
       "      <td>1</td>\n",
       "      <td>Wrapper</td>\n",
       "      <td>0.748222</td>\n",
       "      <td>0.090367</td>\n",
       "      <td>0.987902</td>\n",
       "      <td>0.731295</td>\n",
       "      <td>0.7488</td>\n",
       "      <td>0.160857</td>\n",
       "      <td>0.193848</td>\n",
       "      <td>0.755638</td>\n",
       "    </tr>\n",
       "    <tr>\n",
       "      <th>1</th>\n",
       "      <td>2</td>\n",
       "      <td>Embedded</td>\n",
       "      <td>0.764841</td>\n",
       "      <td>0.236792</td>\n",
       "      <td>0.957228</td>\n",
       "      <td>0.668546</td>\n",
       "      <td>0.7749</td>\n",
       "      <td>0.349718</td>\n",
       "      <td>0.293321</td>\n",
       "      <td>0.774016</td>\n",
       "    </tr>\n",
       "  </tbody>\n",
       "</table>\n",
       "</div>"
      ],
      "text/plain": [
       "   Section Description  Accuracy  Sensitivity  Specificity  \\\n",
       "0        1     Wrapper  0.748222     0.090367     0.987902   \n",
       "1        2    Embedded  0.764841     0.236792     0.957228   \n",
       "\n",
       "   Pos_Predictive_Val  Neg_Predictive_Val  F1_Score  Matthew_Corr_Coef  \\\n",
       "0            0.731295              0.7488  0.160857           0.193848   \n",
       "1            0.668546              0.7749  0.349718           0.293321   \n",
       "\n",
       "        AUC  \n",
       "0  0.755638  \n",
       "1  0.774016  "
      ]
     },
     "execution_count": 110,
     "metadata": {},
     "output_type": "execute_result"
    }
   ],
   "source": [
    "# capture metrics for later use\n",
    "y_score_1_2 = y_score_from_decision_function(clf_1_2,X_1_2_select)\n",
    "df_results = add_metrics_to_table(df_results,2,\"Embedded\",clf_1_2,X_1_2_select,y_1_2,y_score_1_2)\n",
    "df_results"
   ]
  },
  {
   "cell_type": "markdown",
   "metadata": {
    "id": "RdEACG6sy2YU"
   },
   "source": [
    "### Part 1.3 Work "
   ]
  },
  {
   "cell_type": "code",
   "execution_count": 111,
   "metadata": {
    "id": "x6KIVVaZy2YU"
   },
   "outputs": [],
   "source": [
    "# TODO: \n",
    "#   Step 1: Select and apply a data imputation method to handle the missing data.\n",
    "#   Step 2: Apply the  wrapper based feature selection method you used in part 1.1.\n",
    "#   Step 3: Train a classifier using the selected features. Use the same classifier you used in part 1.1. Use 10-fold cross validation.\n",
    "\n",
    "# Tip: \n",
    "#   1. Sciki-learn implements different imputation methods. Take a look at https://scikit-learn.org/stable/modules/impute.html\n",
    "#   and use the one you think most appropriate."
   ]
  },
  {
   "cell_type": "markdown",
   "metadata": {},
   "source": [
    "#### Define Functions"
   ]
  },
  {
   "cell_type": "code",
   "execution_count": 112,
   "metadata": {},
   "outputs": [],
   "source": [
    "from sklearn.impute import SimpleImputer\n",
    "\n",
    "\n",
    "def impute_data(df):\n",
    "    imp = SimpleImputer(strategy=\"most_frequent\")\n",
    "    \n",
    "    # impute missing values\n",
    "    ndarray_imputed = imp.fit_transform(df)\n",
    "    print(ndarray_imputed.shape)\n",
    "    \n",
    "    # convert back to DataFrame\n",
    "    df_imputed = pd.DataFrame(ndarray_imputed, columns=df.columns) \n",
    "    \n",
    "    # convert Age to int64 data type so get_dummies() doesn't treat it as a category\n",
    "    df_imputed = df_imputed.astype({'Age': 'int64'})\n",
    "    \n",
    "    return df_imputed  "
   ]
  },
  {
   "cell_type": "markdown",
   "metadata": {},
   "source": [
    "#### Impute missing values and encode data"
   ]
  },
  {
   "cell_type": "code",
   "execution_count": 113,
   "metadata": {},
   "outputs": [
    {
     "name": "stdout",
     "output_type": "stream",
     "text": [
      "(121913, 19)\n"
     ]
    },
    {
     "data": {
      "text/html": [
       "<div>\n",
       "<style scoped>\n",
       "    .dataframe tbody tr th:only-of-type {\n",
       "        vertical-align: middle;\n",
       "    }\n",
       "\n",
       "    .dataframe tbody tr th {\n",
       "        vertical-align: top;\n",
       "    }\n",
       "\n",
       "    .dataframe thead th {\n",
       "        text-align: right;\n",
       "    }\n",
       "</style>\n",
       "<table border=\"1\" class=\"dataframe\">\n",
       "  <thead>\n",
       "    <tr style=\"text-align: right;\">\n",
       "      <th></th>\n",
       "      <th>Sex</th>\n",
       "      <th>Intubated</th>\n",
       "      <th>Pneumonia</th>\n",
       "      <th>Age</th>\n",
       "      <th>Pregnant</th>\n",
       "      <th>Diabetes</th>\n",
       "      <th>COPD</th>\n",
       "      <th>Asthma</th>\n",
       "      <th>Immunocompromised</th>\n",
       "      <th>Hypertension</th>\n",
       "      <th>Other_Disease</th>\n",
       "      <th>Cardiovascular_disease</th>\n",
       "      <th>Obesity</th>\n",
       "      <th>Renal_disease</th>\n",
       "      <th>Smoker</th>\n",
       "      <th>Exposure_to_others_with_COVID</th>\n",
       "      <th>Has_COVID</th>\n",
       "      <th>ICU</th>\n",
       "      <th>Died</th>\n",
       "    </tr>\n",
       "  </thead>\n",
       "  <tbody>\n",
       "    <tr>\n",
       "      <th>0</th>\n",
       "      <td>F</td>\n",
       "      <td>N</td>\n",
       "      <td>N</td>\n",
       "      <td>54</td>\n",
       "      <td>N</td>\n",
       "      <td>N</td>\n",
       "      <td>N</td>\n",
       "      <td>N</td>\n",
       "      <td>N</td>\n",
       "      <td>N</td>\n",
       "      <td>N</td>\n",
       "      <td>N</td>\n",
       "      <td>Y</td>\n",
       "      <td>N</td>\n",
       "      <td>N</td>\n",
       "      <td>N</td>\n",
       "      <td>Y</td>\n",
       "      <td>N</td>\n",
       "      <td>N</td>\n",
       "    </tr>\n",
       "    <tr>\n",
       "      <th>1</th>\n",
       "      <td>M</td>\n",
       "      <td>N</td>\n",
       "      <td>Y</td>\n",
       "      <td>30</td>\n",
       "      <td>N</td>\n",
       "      <td>N</td>\n",
       "      <td>N</td>\n",
       "      <td>N</td>\n",
       "      <td>N</td>\n",
       "      <td>N</td>\n",
       "      <td>N</td>\n",
       "      <td>N</td>\n",
       "      <td>N</td>\n",
       "      <td>N</td>\n",
       "      <td>N</td>\n",
       "      <td>N</td>\n",
       "      <td>Y</td>\n",
       "      <td>N</td>\n",
       "      <td>N</td>\n",
       "    </tr>\n",
       "    <tr>\n",
       "      <th>2</th>\n",
       "      <td>F</td>\n",
       "      <td>N</td>\n",
       "      <td>N</td>\n",
       "      <td>60</td>\n",
       "      <td>N</td>\n",
       "      <td>Y</td>\n",
       "      <td>N</td>\n",
       "      <td>N</td>\n",
       "      <td>N</td>\n",
       "      <td>Y</td>\n",
       "      <td>N</td>\n",
       "      <td>Y</td>\n",
       "      <td>N</td>\n",
       "      <td>N</td>\n",
       "      <td>N</td>\n",
       "      <td>N</td>\n",
       "      <td>Y</td>\n",
       "      <td>N</td>\n",
       "      <td>Y</td>\n",
       "    </tr>\n",
       "    <tr>\n",
       "      <th>3</th>\n",
       "      <td>M</td>\n",
       "      <td>N</td>\n",
       "      <td>Y</td>\n",
       "      <td>47</td>\n",
       "      <td>N</td>\n",
       "      <td>Y</td>\n",
       "      <td>N</td>\n",
       "      <td>N</td>\n",
       "      <td>N</td>\n",
       "      <td>N</td>\n",
       "      <td>N</td>\n",
       "      <td>N</td>\n",
       "      <td>N</td>\n",
       "      <td>N</td>\n",
       "      <td>N</td>\n",
       "      <td>N</td>\n",
       "      <td>Y</td>\n",
       "      <td>Y</td>\n",
       "      <td>Y</td>\n",
       "    </tr>\n",
       "    <tr>\n",
       "      <th>4</th>\n",
       "      <td>M</td>\n",
       "      <td>N</td>\n",
       "      <td>N</td>\n",
       "      <td>63</td>\n",
       "      <td>N</td>\n",
       "      <td>N</td>\n",
       "      <td>N</td>\n",
       "      <td>N</td>\n",
       "      <td>N</td>\n",
       "      <td>Y</td>\n",
       "      <td>N</td>\n",
       "      <td>N</td>\n",
       "      <td>N</td>\n",
       "      <td>N</td>\n",
       "      <td>N</td>\n",
       "      <td>N</td>\n",
       "      <td>Y</td>\n",
       "      <td>N</td>\n",
       "      <td>N</td>\n",
       "    </tr>\n",
       "    <tr>\n",
       "      <th>...</th>\n",
       "      <td>...</td>\n",
       "      <td>...</td>\n",
       "      <td>...</td>\n",
       "      <td>...</td>\n",
       "      <td>...</td>\n",
       "      <td>...</td>\n",
       "      <td>...</td>\n",
       "      <td>...</td>\n",
       "      <td>...</td>\n",
       "      <td>...</td>\n",
       "      <td>...</td>\n",
       "      <td>...</td>\n",
       "      <td>...</td>\n",
       "      <td>...</td>\n",
       "      <td>...</td>\n",
       "      <td>...</td>\n",
       "      <td>...</td>\n",
       "      <td>...</td>\n",
       "      <td>...</td>\n",
       "    </tr>\n",
       "    <tr>\n",
       "      <th>121908</th>\n",
       "      <td>M</td>\n",
       "      <td>N</td>\n",
       "      <td>Y</td>\n",
       "      <td>45</td>\n",
       "      <td>N</td>\n",
       "      <td>N</td>\n",
       "      <td>N</td>\n",
       "      <td>N</td>\n",
       "      <td>N</td>\n",
       "      <td>N</td>\n",
       "      <td>N</td>\n",
       "      <td>N</td>\n",
       "      <td>N</td>\n",
       "      <td>N</td>\n",
       "      <td>N</td>\n",
       "      <td>N</td>\n",
       "      <td>Pending</td>\n",
       "      <td>N</td>\n",
       "      <td>N</td>\n",
       "    </tr>\n",
       "    <tr>\n",
       "      <th>121909</th>\n",
       "      <td>M</td>\n",
       "      <td>Y</td>\n",
       "      <td>Y</td>\n",
       "      <td>68</td>\n",
       "      <td>N</td>\n",
       "      <td>N</td>\n",
       "      <td>N</td>\n",
       "      <td>N</td>\n",
       "      <td>N</td>\n",
       "      <td>Y</td>\n",
       "      <td>N</td>\n",
       "      <td>N</td>\n",
       "      <td>Y</td>\n",
       "      <td>N</td>\n",
       "      <td>N</td>\n",
       "      <td>N</td>\n",
       "      <td>Pending</td>\n",
       "      <td>Y</td>\n",
       "      <td>N</td>\n",
       "    </tr>\n",
       "    <tr>\n",
       "      <th>121910</th>\n",
       "      <td>M</td>\n",
       "      <td>Y</td>\n",
       "      <td>Y</td>\n",
       "      <td>48</td>\n",
       "      <td>N</td>\n",
       "      <td>Y</td>\n",
       "      <td>N</td>\n",
       "      <td>N</td>\n",
       "      <td>N</td>\n",
       "      <td>Y</td>\n",
       "      <td>N</td>\n",
       "      <td>N</td>\n",
       "      <td>N</td>\n",
       "      <td>N</td>\n",
       "      <td>N</td>\n",
       "      <td>N</td>\n",
       "      <td>Pending</td>\n",
       "      <td>Y</td>\n",
       "      <td>Y</td>\n",
       "    </tr>\n",
       "    <tr>\n",
       "      <th>121911</th>\n",
       "      <td>F</td>\n",
       "      <td>N</td>\n",
       "      <td>Y</td>\n",
       "      <td>31</td>\n",
       "      <td>N</td>\n",
       "      <td>N</td>\n",
       "      <td>N</td>\n",
       "      <td>N</td>\n",
       "      <td>N</td>\n",
       "      <td>N</td>\n",
       "      <td>N</td>\n",
       "      <td>N</td>\n",
       "      <td>N</td>\n",
       "      <td>N</td>\n",
       "      <td>N</td>\n",
       "      <td>N</td>\n",
       "      <td>Pending</td>\n",
       "      <td>N</td>\n",
       "      <td>N</td>\n",
       "    </tr>\n",
       "    <tr>\n",
       "      <th>121912</th>\n",
       "      <td>F</td>\n",
       "      <td>N</td>\n",
       "      <td>Y</td>\n",
       "      <td>49</td>\n",
       "      <td>N</td>\n",
       "      <td>N</td>\n",
       "      <td>N</td>\n",
       "      <td>N</td>\n",
       "      <td>N</td>\n",
       "      <td>N</td>\n",
       "      <td>N</td>\n",
       "      <td>N</td>\n",
       "      <td>Y</td>\n",
       "      <td>N</td>\n",
       "      <td>N</td>\n",
       "      <td>N</td>\n",
       "      <td>Pending</td>\n",
       "      <td>N</td>\n",
       "      <td>N</td>\n",
       "    </tr>\n",
       "  </tbody>\n",
       "</table>\n",
       "<p>121913 rows × 19 columns</p>\n",
       "</div>"
      ],
      "text/plain": [
       "       Sex Intubated Pneumonia  Age Pregnant Diabetes COPD Asthma  \\\n",
       "0        F         N         N   54        N        N    N      N   \n",
       "1        M         N         Y   30        N        N    N      N   \n",
       "2        F         N         N   60        N        Y    N      N   \n",
       "3        M         N         Y   47        N        Y    N      N   \n",
       "4        M         N         N   63        N        N    N      N   \n",
       "...     ..       ...       ...  ...      ...      ...  ...    ...   \n",
       "121908   M         N         Y   45        N        N    N      N   \n",
       "121909   M         Y         Y   68        N        N    N      N   \n",
       "121910   M         Y         Y   48        N        Y    N      N   \n",
       "121911   F         N         Y   31        N        N    N      N   \n",
       "121912   F         N         Y   49        N        N    N      N   \n",
       "\n",
       "       Immunocompromised Hypertension Other_Disease Cardiovascular_disease  \\\n",
       "0                      N            N             N                      N   \n",
       "1                      N            N             N                      N   \n",
       "2                      N            Y             N                      Y   \n",
       "3                      N            N             N                      N   \n",
       "4                      N            Y             N                      N   \n",
       "...                  ...          ...           ...                    ...   \n",
       "121908                 N            N             N                      N   \n",
       "121909                 N            Y             N                      N   \n",
       "121910                 N            Y             N                      N   \n",
       "121911                 N            N             N                      N   \n",
       "121912                 N            N             N                      N   \n",
       "\n",
       "       Obesity Renal_disease Smoker Exposure_to_others_with_COVID Has_COVID  \\\n",
       "0            Y             N      N                             N         Y   \n",
       "1            N             N      N                             N         Y   \n",
       "2            N             N      N                             N         Y   \n",
       "3            N             N      N                             N         Y   \n",
       "4            N             N      N                             N         Y   \n",
       "...        ...           ...    ...                           ...       ...   \n",
       "121908       N             N      N                             N   Pending   \n",
       "121909       Y             N      N                             N   Pending   \n",
       "121910       N             N      N                             N   Pending   \n",
       "121911       N             N      N                             N   Pending   \n",
       "121912       Y             N      N                             N   Pending   \n",
       "\n",
       "       ICU Died  \n",
       "0        N    N  \n",
       "1        N    N  \n",
       "2        N    Y  \n",
       "3        Y    Y  \n",
       "4        N    N  \n",
       "...     ..  ...  \n",
       "121908   N    N  \n",
       "121909   Y    N  \n",
       "121910   Y    Y  \n",
       "121911   N    N  \n",
       "121912   N    N  \n",
       "\n",
       "[121913 rows x 19 columns]"
      ]
     },
     "execution_count": 113,
     "metadata": {},
     "output_type": "execute_result"
    }
   ],
   "source": [
    "df_imputed = impute_data(df_original)\n",
    "df_imputed"
   ]
  },
  {
   "cell_type": "code",
   "execution_count": 114,
   "metadata": {},
   "outputs": [
    {
     "data": {
      "text/html": [
       "<div>\n",
       "<style scoped>\n",
       "    .dataframe tbody tr th:only-of-type {\n",
       "        vertical-align: middle;\n",
       "    }\n",
       "\n",
       "    .dataframe tbody tr th {\n",
       "        vertical-align: top;\n",
       "    }\n",
       "\n",
       "    .dataframe thead th {\n",
       "        text-align: right;\n",
       "    }\n",
       "</style>\n",
       "<table border=\"1\" class=\"dataframe\">\n",
       "  <thead>\n",
       "    <tr style=\"text-align: right;\">\n",
       "      <th></th>\n",
       "      <th>Age</th>\n",
       "      <th>Sex_M</th>\n",
       "      <th>Intubated_Y</th>\n",
       "      <th>Pneumonia_Y</th>\n",
       "      <th>Pregnant_Y</th>\n",
       "      <th>Diabetes_Y</th>\n",
       "      <th>COPD_Y</th>\n",
       "      <th>Asthma_Y</th>\n",
       "      <th>Immunocompromised_Y</th>\n",
       "      <th>Hypertension_Y</th>\n",
       "      <th>Other_Disease_Y</th>\n",
       "      <th>Cardiovascular_disease_Y</th>\n",
       "      <th>Obesity_Y</th>\n",
       "      <th>Renal_disease_Y</th>\n",
       "      <th>Smoker_Y</th>\n",
       "      <th>Exposure_to_others_with_COVID_Y</th>\n",
       "      <th>Has_COVID_Pending</th>\n",
       "      <th>Has_COVID_Y</th>\n",
       "      <th>ICU_Y</th>\n",
       "      <th>Died_Y</th>\n",
       "    </tr>\n",
       "  </thead>\n",
       "  <tbody>\n",
       "    <tr>\n",
       "      <th>0</th>\n",
       "      <td>54</td>\n",
       "      <td>0</td>\n",
       "      <td>0</td>\n",
       "      <td>0</td>\n",
       "      <td>0</td>\n",
       "      <td>0</td>\n",
       "      <td>0</td>\n",
       "      <td>0</td>\n",
       "      <td>0</td>\n",
       "      <td>0</td>\n",
       "      <td>0</td>\n",
       "      <td>0</td>\n",
       "      <td>1</td>\n",
       "      <td>0</td>\n",
       "      <td>0</td>\n",
       "      <td>0</td>\n",
       "      <td>0</td>\n",
       "      <td>1</td>\n",
       "      <td>0</td>\n",
       "      <td>0</td>\n",
       "    </tr>\n",
       "    <tr>\n",
       "      <th>1</th>\n",
       "      <td>30</td>\n",
       "      <td>1</td>\n",
       "      <td>0</td>\n",
       "      <td>1</td>\n",
       "      <td>0</td>\n",
       "      <td>0</td>\n",
       "      <td>0</td>\n",
       "      <td>0</td>\n",
       "      <td>0</td>\n",
       "      <td>0</td>\n",
       "      <td>0</td>\n",
       "      <td>0</td>\n",
       "      <td>0</td>\n",
       "      <td>0</td>\n",
       "      <td>0</td>\n",
       "      <td>0</td>\n",
       "      <td>0</td>\n",
       "      <td>1</td>\n",
       "      <td>0</td>\n",
       "      <td>0</td>\n",
       "    </tr>\n",
       "    <tr>\n",
       "      <th>2</th>\n",
       "      <td>60</td>\n",
       "      <td>0</td>\n",
       "      <td>0</td>\n",
       "      <td>0</td>\n",
       "      <td>0</td>\n",
       "      <td>1</td>\n",
       "      <td>0</td>\n",
       "      <td>0</td>\n",
       "      <td>0</td>\n",
       "      <td>1</td>\n",
       "      <td>0</td>\n",
       "      <td>1</td>\n",
       "      <td>0</td>\n",
       "      <td>0</td>\n",
       "      <td>0</td>\n",
       "      <td>0</td>\n",
       "      <td>0</td>\n",
       "      <td>1</td>\n",
       "      <td>0</td>\n",
       "      <td>1</td>\n",
       "    </tr>\n",
       "    <tr>\n",
       "      <th>3</th>\n",
       "      <td>47</td>\n",
       "      <td>1</td>\n",
       "      <td>0</td>\n",
       "      <td>1</td>\n",
       "      <td>0</td>\n",
       "      <td>1</td>\n",
       "      <td>0</td>\n",
       "      <td>0</td>\n",
       "      <td>0</td>\n",
       "      <td>0</td>\n",
       "      <td>0</td>\n",
       "      <td>0</td>\n",
       "      <td>0</td>\n",
       "      <td>0</td>\n",
       "      <td>0</td>\n",
       "      <td>0</td>\n",
       "      <td>0</td>\n",
       "      <td>1</td>\n",
       "      <td>1</td>\n",
       "      <td>1</td>\n",
       "    </tr>\n",
       "    <tr>\n",
       "      <th>4</th>\n",
       "      <td>63</td>\n",
       "      <td>1</td>\n",
       "      <td>0</td>\n",
       "      <td>0</td>\n",
       "      <td>0</td>\n",
       "      <td>0</td>\n",
       "      <td>0</td>\n",
       "      <td>0</td>\n",
       "      <td>0</td>\n",
       "      <td>1</td>\n",
       "      <td>0</td>\n",
       "      <td>0</td>\n",
       "      <td>0</td>\n",
       "      <td>0</td>\n",
       "      <td>0</td>\n",
       "      <td>0</td>\n",
       "      <td>0</td>\n",
       "      <td>1</td>\n",
       "      <td>0</td>\n",
       "      <td>0</td>\n",
       "    </tr>\n",
       "    <tr>\n",
       "      <th>...</th>\n",
       "      <td>...</td>\n",
       "      <td>...</td>\n",
       "      <td>...</td>\n",
       "      <td>...</td>\n",
       "      <td>...</td>\n",
       "      <td>...</td>\n",
       "      <td>...</td>\n",
       "      <td>...</td>\n",
       "      <td>...</td>\n",
       "      <td>...</td>\n",
       "      <td>...</td>\n",
       "      <td>...</td>\n",
       "      <td>...</td>\n",
       "      <td>...</td>\n",
       "      <td>...</td>\n",
       "      <td>...</td>\n",
       "      <td>...</td>\n",
       "      <td>...</td>\n",
       "      <td>...</td>\n",
       "      <td>...</td>\n",
       "    </tr>\n",
       "    <tr>\n",
       "      <th>121908</th>\n",
       "      <td>45</td>\n",
       "      <td>1</td>\n",
       "      <td>0</td>\n",
       "      <td>1</td>\n",
       "      <td>0</td>\n",
       "      <td>0</td>\n",
       "      <td>0</td>\n",
       "      <td>0</td>\n",
       "      <td>0</td>\n",
       "      <td>0</td>\n",
       "      <td>0</td>\n",
       "      <td>0</td>\n",
       "      <td>0</td>\n",
       "      <td>0</td>\n",
       "      <td>0</td>\n",
       "      <td>0</td>\n",
       "      <td>1</td>\n",
       "      <td>0</td>\n",
       "      <td>0</td>\n",
       "      <td>0</td>\n",
       "    </tr>\n",
       "    <tr>\n",
       "      <th>121909</th>\n",
       "      <td>68</td>\n",
       "      <td>1</td>\n",
       "      <td>1</td>\n",
       "      <td>1</td>\n",
       "      <td>0</td>\n",
       "      <td>0</td>\n",
       "      <td>0</td>\n",
       "      <td>0</td>\n",
       "      <td>0</td>\n",
       "      <td>1</td>\n",
       "      <td>0</td>\n",
       "      <td>0</td>\n",
       "      <td>1</td>\n",
       "      <td>0</td>\n",
       "      <td>0</td>\n",
       "      <td>0</td>\n",
       "      <td>1</td>\n",
       "      <td>0</td>\n",
       "      <td>1</td>\n",
       "      <td>0</td>\n",
       "    </tr>\n",
       "    <tr>\n",
       "      <th>121910</th>\n",
       "      <td>48</td>\n",
       "      <td>1</td>\n",
       "      <td>1</td>\n",
       "      <td>1</td>\n",
       "      <td>0</td>\n",
       "      <td>1</td>\n",
       "      <td>0</td>\n",
       "      <td>0</td>\n",
       "      <td>0</td>\n",
       "      <td>1</td>\n",
       "      <td>0</td>\n",
       "      <td>0</td>\n",
       "      <td>0</td>\n",
       "      <td>0</td>\n",
       "      <td>0</td>\n",
       "      <td>0</td>\n",
       "      <td>1</td>\n",
       "      <td>0</td>\n",
       "      <td>1</td>\n",
       "      <td>1</td>\n",
       "    </tr>\n",
       "    <tr>\n",
       "      <th>121911</th>\n",
       "      <td>31</td>\n",
       "      <td>0</td>\n",
       "      <td>0</td>\n",
       "      <td>1</td>\n",
       "      <td>0</td>\n",
       "      <td>0</td>\n",
       "      <td>0</td>\n",
       "      <td>0</td>\n",
       "      <td>0</td>\n",
       "      <td>0</td>\n",
       "      <td>0</td>\n",
       "      <td>0</td>\n",
       "      <td>0</td>\n",
       "      <td>0</td>\n",
       "      <td>0</td>\n",
       "      <td>0</td>\n",
       "      <td>1</td>\n",
       "      <td>0</td>\n",
       "      <td>0</td>\n",
       "      <td>0</td>\n",
       "    </tr>\n",
       "    <tr>\n",
       "      <th>121912</th>\n",
       "      <td>49</td>\n",
       "      <td>0</td>\n",
       "      <td>0</td>\n",
       "      <td>1</td>\n",
       "      <td>0</td>\n",
       "      <td>0</td>\n",
       "      <td>0</td>\n",
       "      <td>0</td>\n",
       "      <td>0</td>\n",
       "      <td>0</td>\n",
       "      <td>0</td>\n",
       "      <td>0</td>\n",
       "      <td>1</td>\n",
       "      <td>0</td>\n",
       "      <td>0</td>\n",
       "      <td>0</td>\n",
       "      <td>1</td>\n",
       "      <td>0</td>\n",
       "      <td>0</td>\n",
       "      <td>0</td>\n",
       "    </tr>\n",
       "  </tbody>\n",
       "</table>\n",
       "<p>121913 rows × 20 columns</p>\n",
       "</div>"
      ],
      "text/plain": [
       "        Age  Sex_M  Intubated_Y  Pneumonia_Y  Pregnant_Y  Diabetes_Y  COPD_Y  \\\n",
       "0        54      0            0            0           0           0       0   \n",
       "1        30      1            0            1           0           0       0   \n",
       "2        60      0            0            0           0           1       0   \n",
       "3        47      1            0            1           0           1       0   \n",
       "4        63      1            0            0           0           0       0   \n",
       "...     ...    ...          ...          ...         ...         ...     ...   \n",
       "121908   45      1            0            1           0           0       0   \n",
       "121909   68      1            1            1           0           0       0   \n",
       "121910   48      1            1            1           0           1       0   \n",
       "121911   31      0            0            1           0           0       0   \n",
       "121912   49      0            0            1           0           0       0   \n",
       "\n",
       "        Asthma_Y  Immunocompromised_Y  Hypertension_Y  Other_Disease_Y  \\\n",
       "0              0                    0               0                0   \n",
       "1              0                    0               0                0   \n",
       "2              0                    0               1                0   \n",
       "3              0                    0               0                0   \n",
       "4              0                    0               1                0   \n",
       "...          ...                  ...             ...              ...   \n",
       "121908         0                    0               0                0   \n",
       "121909         0                    0               1                0   \n",
       "121910         0                    0               1                0   \n",
       "121911         0                    0               0                0   \n",
       "121912         0                    0               0                0   \n",
       "\n",
       "        Cardiovascular_disease_Y  Obesity_Y  Renal_disease_Y  Smoker_Y  \\\n",
       "0                              0          1                0         0   \n",
       "1                              0          0                0         0   \n",
       "2                              1          0                0         0   \n",
       "3                              0          0                0         0   \n",
       "4                              0          0                0         0   \n",
       "...                          ...        ...              ...       ...   \n",
       "121908                         0          0                0         0   \n",
       "121909                         0          1                0         0   \n",
       "121910                         0          0                0         0   \n",
       "121911                         0          0                0         0   \n",
       "121912                         0          1                0         0   \n",
       "\n",
       "        Exposure_to_others_with_COVID_Y  Has_COVID_Pending  Has_COVID_Y  \\\n",
       "0                                     0                  0            1   \n",
       "1                                     0                  0            1   \n",
       "2                                     0                  0            1   \n",
       "3                                     0                  0            1   \n",
       "4                                     0                  0            1   \n",
       "...                                 ...                ...          ...   \n",
       "121908                                0                  1            0   \n",
       "121909                                0                  1            0   \n",
       "121910                                0                  1            0   \n",
       "121911                                0                  1            0   \n",
       "121912                                0                  1            0   \n",
       "\n",
       "        ICU_Y  Died_Y  \n",
       "0           0       0  \n",
       "1           0       0  \n",
       "2           0       1  \n",
       "3           1       1  \n",
       "4           0       0  \n",
       "...       ...     ...  \n",
       "121908      0       0  \n",
       "121909      1       0  \n",
       "121910      1       1  \n",
       "121911      0       0  \n",
       "121912      0       0  \n",
       "\n",
       "[121913 rows x 20 columns]"
      ]
     },
     "execution_count": 114,
     "metadata": {},
     "output_type": "execute_result"
    }
   ],
   "source": [
    "df_imputed_encoded=pd.get_dummies(df_imputed, drop_first=True)\n",
    "df_imputed_encoded"
   ]
  },
  {
   "cell_type": "markdown",
   "metadata": {},
   "source": [
    "#### Feature Selection"
   ]
  },
  {
   "cell_type": "code",
   "execution_count": 115,
   "metadata": {},
   "outputs": [
    {
     "name": "stdout",
     "output_type": "stream",
     "text": [
      "(121913, 19)\n",
      "(121913,)\n"
     ]
    }
   ],
   "source": [
    "# select data\n",
    "X_1_3 = df_imputed_encoded.drop('Died_Y',axis='columns')\n",
    "y_1_3 = df_imputed_encoded.loc[:]['Died_Y']\n",
    "print(X_1_3.shape)\n",
    "print(y_1_3.shape)"
   ]
  },
  {
   "cell_type": "code",
   "execution_count": 116,
   "metadata": {},
   "outputs": [
    {
     "name": "stdout",
     "output_type": "stream",
     "text": [
      "CPU times: user 2.41 s, sys: 59.5 ms, total: 2.47 s\n",
      "Wall time: 12.9 s\n"
     ]
    }
   ],
   "source": [
    "%%time\n",
    "\n",
    "# select features\n",
    "rfe_1_3 = run_crossfold_recursive_feature_elimination(X_1_3,y_1_3)\n",
    "features_1_3 = get_feature_list(X_1_3,rfe_1_3.support_)"
   ]
  },
  {
   "cell_type": "code",
   "execution_count": 117,
   "metadata": {
    "scrolled": true
   },
   "outputs": [
    {
     "data": {
      "text/plain": [
       "['Age', 'Intubated_Y', 'Pneumonia_Y', 'Has_COVID_Y']"
      ]
     },
     "execution_count": 117,
     "metadata": {},
     "output_type": "execute_result"
    }
   ],
   "source": [
    "features_1_3"
   ]
  },
  {
   "cell_type": "markdown",
   "metadata": {},
   "source": [
    "#### Classifier"
   ]
  },
  {
   "cell_type": "code",
   "execution_count": 118,
   "metadata": {},
   "outputs": [
    {
     "name": "stdout",
     "output_type": "stream",
     "text": [
      "(121913, 4)\n",
      "Accuracy: 0.74764795454932\n",
      "CPU times: user 15.1 s, sys: 143 ms, total: 15.3 s\n",
      "Wall time: 15.3 s\n"
     ]
    }
   ],
   "source": [
    "%%time\n",
    "\n",
    "# limit features to those selected by previous step\n",
    "X_1_3_select = build_X_from_features(X_1_3,features_1_3)\n",
    "print(X_1_3_select.shape)\n",
    "\n",
    "# score classifier using 10-fold cross validation\n",
    "score = run_classifier_with_cross_validation_1_1(X_1_3_select,y_1_3,10)\n",
    "print(\"Accuracy:\",score)"
   ]
  },
  {
   "cell_type": "code",
   "execution_count": 119,
   "metadata": {},
   "outputs": [
    {
     "name": "stdout",
     "output_type": "stream",
     "text": [
      "CPU times: user 1.6 s, sys: 13.8 ms, total: 1.61 s\n",
      "Wall time: 1.62 s\n"
     ]
    }
   ],
   "source": [
    "%%time\n",
    "\n",
    "# run classifier on full dataset to capture metrics\n",
    "clf_1_3 = train_random_forest_classifier(X_1_3_select,y_1_3)"
   ]
  },
  {
   "cell_type": "code",
   "execution_count": 120,
   "metadata": {},
   "outputs": [
    {
     "name": "stdout",
     "output_type": "stream",
     "text": [
      "0.7470163149130937 \n",
      "\n"
     ]
    },
    {
     "data": {
      "text/html": [
       "<div>\n",
       "<style scoped>\n",
       "    .dataframe tbody tr th:only-of-type {\n",
       "        vertical-align: middle;\n",
       "    }\n",
       "\n",
       "    .dataframe tbody tr th {\n",
       "        vertical-align: top;\n",
       "    }\n",
       "\n",
       "    .dataframe thead th {\n",
       "        text-align: right;\n",
       "    }\n",
       "</style>\n",
       "<table border=\"1\" class=\"dataframe\">\n",
       "  <thead>\n",
       "    <tr style=\"text-align: right;\">\n",
       "      <th></th>\n",
       "      <th>Section</th>\n",
       "      <th>Description</th>\n",
       "      <th>Accuracy</th>\n",
       "      <th>Sensitivity</th>\n",
       "      <th>Specificity</th>\n",
       "      <th>Pos_Predictive_Val</th>\n",
       "      <th>Neg_Predictive_Val</th>\n",
       "      <th>F1_Score</th>\n",
       "      <th>Matthew_Corr_Coef</th>\n",
       "      <th>AUC</th>\n",
       "    </tr>\n",
       "  </thead>\n",
       "  <tbody>\n",
       "    <tr>\n",
       "      <th>0</th>\n",
       "      <td>1</td>\n",
       "      <td>Wrapper</td>\n",
       "      <td>0.748222</td>\n",
       "      <td>0.090367</td>\n",
       "      <td>0.987902</td>\n",
       "      <td>0.731295</td>\n",
       "      <td>0.748800</td>\n",
       "      <td>0.160857</td>\n",
       "      <td>0.193848</td>\n",
       "      <td>0.755638</td>\n",
       "    </tr>\n",
       "    <tr>\n",
       "      <th>1</th>\n",
       "      <td>2</td>\n",
       "      <td>Embedded</td>\n",
       "      <td>0.764841</td>\n",
       "      <td>0.236792</td>\n",
       "      <td>0.957228</td>\n",
       "      <td>0.668546</td>\n",
       "      <td>0.774900</td>\n",
       "      <td>0.349718</td>\n",
       "      <td>0.293321</td>\n",
       "      <td>0.774016</td>\n",
       "    </tr>\n",
       "    <tr>\n",
       "      <th>2</th>\n",
       "      <td>3</td>\n",
       "      <td>Wrapper imputed</td>\n",
       "      <td>0.747016</td>\n",
       "      <td>0.086251</td>\n",
       "      <td>0.987757</td>\n",
       "      <td>0.719631</td>\n",
       "      <td>0.747922</td>\n",
       "      <td>0.154040</td>\n",
       "      <td>0.186018</td>\n",
       "      <td>0.737923</td>\n",
       "    </tr>\n",
       "  </tbody>\n",
       "</table>\n",
       "</div>"
      ],
      "text/plain": [
       "   Section      Description  Accuracy  Sensitivity  Specificity  \\\n",
       "0        1          Wrapper  0.748222     0.090367     0.987902   \n",
       "1        2         Embedded  0.764841     0.236792     0.957228   \n",
       "2        3  Wrapper imputed  0.747016     0.086251     0.987757   \n",
       "\n",
       "   Pos_Predictive_Val  Neg_Predictive_Val  F1_Score  Matthew_Corr_Coef  \\\n",
       "0            0.731295            0.748800  0.160857           0.193848   \n",
       "1            0.668546            0.774900  0.349718           0.293321   \n",
       "2            0.719631            0.747922  0.154040           0.186018   \n",
       "\n",
       "        AUC  \n",
       "0  0.755638  \n",
       "1  0.774016  \n",
       "2  0.737923  "
      ]
     },
     "execution_count": 120,
     "metadata": {},
     "output_type": "execute_result"
    }
   ],
   "source": [
    "# capture metrics for later use\n",
    "y_score_1_3 = y_score_from_predict_proba(clf_1_3,X_1_3_select)\n",
    "df_results = add_metrics_to_table(df_results,3,\"Wrapper imputed\",clf_1_3,X_1_3_select,y_1_3,y_score_1_3)\n",
    "df_results"
   ]
  },
  {
   "cell_type": "markdown",
   "metadata": {
    "id": "EKXCaHm_y2YZ"
   },
   "source": [
    "### Part 1.4 Work "
   ]
  },
  {
   "cell_type": "code",
   "execution_count": 121,
   "metadata": {
    "id": "MdlwFY4ty2YZ"
   },
   "outputs": [],
   "source": [
    "# TODO: \n",
    "#   Step 1: Apply a data imputation method to eliminate any missing values in the data. Use the same method you used in part 1.3. \n",
    "#   Step 2: Train a classifier. Use the same classifier you used in part 1.2. Use 10-fold cross validation."
   ]
  },
  {
   "cell_type": "markdown",
   "metadata": {},
   "source": [
    "#### Feature Selection"
   ]
  },
  {
   "cell_type": "code",
   "execution_count": 122,
   "metadata": {},
   "outputs": [
    {
     "name": "stdout",
     "output_type": "stream",
     "text": [
      "(121913, 19)\n",
      "(121913,)\n"
     ]
    }
   ],
   "source": [
    "# use the same imputed data from 1.3\n",
    "X_1_4 = X_1_3\n",
    "y_1_4 = y_1_3\n",
    "print(X_1_4.shape)\n",
    "print(y_1_4.shape)"
   ]
  },
  {
   "cell_type": "code",
   "execution_count": 123,
   "metadata": {},
   "outputs": [
    {
     "name": "stdout",
     "output_type": "stream",
     "text": [
      "CPU times: user 5.83 s, sys: 107 ms, total: 5.93 s\n",
      "Wall time: 5.95 s\n"
     ]
    }
   ],
   "source": [
    "%%time\n",
    "\n",
    "# select features\n",
    "embedded_1_4 = run_embedded_feature_selection(X_1_4,y_1_4)\n",
    "features_1_4 = get_feature_list(X_1_4,embedded_1_4.get_support())"
   ]
  },
  {
   "cell_type": "code",
   "execution_count": 124,
   "metadata": {
    "scrolled": true
   },
   "outputs": [
    {
     "data": {
      "text/plain": [
       "['Age', 'Intubated_Y', 'Has_COVID_Y']"
      ]
     },
     "execution_count": 124,
     "metadata": {},
     "output_type": "execute_result"
    }
   ],
   "source": [
    "features_1_4"
   ]
  },
  {
   "cell_type": "markdown",
   "metadata": {},
   "source": [
    "#### Classifier"
   ]
  },
  {
   "cell_type": "code",
   "execution_count": 125,
   "metadata": {},
   "outputs": [
    {
     "name": "stdout",
     "output_type": "stream",
     "text": [
      "(121913, 3)\n",
      "Accuracy: 0.752446416706996\n",
      "CPU times: user 3.78 s, sys: 75.7 ms, total: 3.86 s\n",
      "Wall time: 1.01 s\n"
     ]
    }
   ],
   "source": [
    "%%time\n",
    "\n",
    "# limit features to those selected by previous step\n",
    "X_1_4_select = build_X_from_features(X_1_4,features_1_4)\n",
    "print(X_1_4_select.shape)\n",
    "\n",
    "# score classifier using 10-fold cross validation\n",
    "score = run_classifier_with_cross_validation_1_2(X_1_4_select,y_1_4,10)\n",
    "print(\"Accuracy:\",score)"
   ]
  },
  {
   "cell_type": "code",
   "execution_count": 126,
   "metadata": {},
   "outputs": [
    {
     "name": "stdout",
     "output_type": "stream",
     "text": [
      "CPU times: user 178 ms, sys: 4.99 ms, total: 183 ms\n",
      "Wall time: 45.5 ms\n"
     ]
    }
   ],
   "source": [
    "%%time\n",
    "\n",
    "# run classifier on full dataset to capture metrics\n",
    "clf_1_4 = train_ridge_classifier(X_1_4_select,y_1_4)"
   ]
  },
  {
   "cell_type": "code",
   "execution_count": 127,
   "metadata": {},
   "outputs": [
    {
     "name": "stdout",
     "output_type": "stream",
     "text": [
      "0.752446416706996 \n",
      "\n"
     ]
    },
    {
     "data": {
      "text/html": [
       "<div>\n",
       "<style scoped>\n",
       "    .dataframe tbody tr th:only-of-type {\n",
       "        vertical-align: middle;\n",
       "    }\n",
       "\n",
       "    .dataframe tbody tr th {\n",
       "        vertical-align: top;\n",
       "    }\n",
       "\n",
       "    .dataframe thead th {\n",
       "        text-align: right;\n",
       "    }\n",
       "</style>\n",
       "<table border=\"1\" class=\"dataframe\">\n",
       "  <thead>\n",
       "    <tr style=\"text-align: right;\">\n",
       "      <th></th>\n",
       "      <th>Section</th>\n",
       "      <th>Description</th>\n",
       "      <th>Accuracy</th>\n",
       "      <th>Sensitivity</th>\n",
       "      <th>Specificity</th>\n",
       "      <th>Pos_Predictive_Val</th>\n",
       "      <th>Neg_Predictive_Val</th>\n",
       "      <th>F1_Score</th>\n",
       "      <th>Matthew_Corr_Coef</th>\n",
       "      <th>AUC</th>\n",
       "    </tr>\n",
       "  </thead>\n",
       "  <tbody>\n",
       "    <tr>\n",
       "      <th>0</th>\n",
       "      <td>1</td>\n",
       "      <td>Wrapper</td>\n",
       "      <td>0.748222</td>\n",
       "      <td>0.090367</td>\n",
       "      <td>0.987902</td>\n",
       "      <td>0.731295</td>\n",
       "      <td>0.748800</td>\n",
       "      <td>0.160857</td>\n",
       "      <td>0.193848</td>\n",
       "      <td>0.755638</td>\n",
       "    </tr>\n",
       "    <tr>\n",
       "      <th>1</th>\n",
       "      <td>2</td>\n",
       "      <td>Embedded</td>\n",
       "      <td>0.764841</td>\n",
       "      <td>0.236792</td>\n",
       "      <td>0.957228</td>\n",
       "      <td>0.668546</td>\n",
       "      <td>0.774900</td>\n",
       "      <td>0.349718</td>\n",
       "      <td>0.293321</td>\n",
       "      <td>0.774016</td>\n",
       "    </tr>\n",
       "    <tr>\n",
       "      <th>2</th>\n",
       "      <td>3</td>\n",
       "      <td>Wrapper imputed</td>\n",
       "      <td>0.747016</td>\n",
       "      <td>0.086251</td>\n",
       "      <td>0.987757</td>\n",
       "      <td>0.719631</td>\n",
       "      <td>0.747922</td>\n",
       "      <td>0.154040</td>\n",
       "      <td>0.186018</td>\n",
       "      <td>0.737923</td>\n",
       "    </tr>\n",
       "    <tr>\n",
       "      <th>3</th>\n",
       "      <td>4</td>\n",
       "      <td>Embedded Imputed</td>\n",
       "      <td>0.752446</td>\n",
       "      <td>0.158527</td>\n",
       "      <td>0.968833</td>\n",
       "      <td>0.649509</td>\n",
       "      <td>0.759623</td>\n",
       "      <td>0.254852</td>\n",
       "      <td>0.228270</td>\n",
       "      <td>0.740902</td>\n",
       "    </tr>\n",
       "  </tbody>\n",
       "</table>\n",
       "</div>"
      ],
      "text/plain": [
       "   Section       Description  Accuracy  Sensitivity  Specificity  \\\n",
       "0        1           Wrapper  0.748222     0.090367     0.987902   \n",
       "1        2          Embedded  0.764841     0.236792     0.957228   \n",
       "2        3   Wrapper imputed  0.747016     0.086251     0.987757   \n",
       "3        4  Embedded Imputed  0.752446     0.158527     0.968833   \n",
       "\n",
       "   Pos_Predictive_Val  Neg_Predictive_Val  F1_Score  Matthew_Corr_Coef  \\\n",
       "0            0.731295            0.748800  0.160857           0.193848   \n",
       "1            0.668546            0.774900  0.349718           0.293321   \n",
       "2            0.719631            0.747922  0.154040           0.186018   \n",
       "3            0.649509            0.759623  0.254852           0.228270   \n",
       "\n",
       "        AUC  \n",
       "0  0.755638  \n",
       "1  0.774016  \n",
       "2  0.737923  \n",
       "3  0.740902  "
      ]
     },
     "execution_count": 127,
     "metadata": {},
     "output_type": "execute_result"
    }
   ],
   "source": [
    "# capture metrics for later use\n",
    "y_score_1_4 = y_score_from_decision_function(clf_1_4,X_1_4_select)\n",
    "df_results = add_metrics_to_table(df_results,4,\"Embedded Imputed\",clf_1_4,X_1_4_select,y_1_4,y_score_1_4)\n",
    "df_results"
   ]
  },
  {
   "cell_type": "markdown",
   "metadata": {
    "id": "pmT3MFZcy2Yj"
   },
   "source": [
    "### Part 1.5 Work "
   ]
  },
  {
   "cell_type": "code",
   "execution_count": 128,
   "metadata": {
    "id": "4gzJms7Fy2Yj"
   },
   "outputs": [],
   "source": [
    "# TODO: \n",
    "#   Step 1: Apply a data imputation method to eliminate any missing values in the data. Use the same method you used in parts 1.3 & 1.4. \n",
    "#   Step 2: Select a learning algorithm that performs cost-sensitive learning. \n",
    "#   Step 3: Adjust the costs until you find a classifier that maximizes the F1-score, subject to the constraint that it achieves 95% sensitivity for the label ‘Y’.  Use 10-fold cross validation.\n",
    "\n",
    "# Tip: \n",
    "#   1. F1-score: https://en.wikipedia.org/wiki/F1_score\n",
    "#   2. Scikit-learn supports extending the classifiers to cost-sensitive learning.\n",
    "#   Take a look at this tutorial: https://machinelearningmastery.com/cost-sensitive-learning-for-imbalanced-classification/"
   ]
  },
  {
   "cell_type": "markdown",
   "metadata": {},
   "source": [
    "#### Define Functions"
   ]
  },
  {
   "cell_type": "code",
   "execution_count": 129,
   "metadata": {},
   "outputs": [],
   "source": [
    "def calc_sensitivity_and_f1(cm):\n",
    "    \n",
    "    tn, fp, fn, tp = cm.ravel()\n",
    "    \n",
    "    # sensitivity\n",
    "    sen = tp / (tp + fn)\n",
    "    \n",
    "    # specificity\n",
    "    spec = tn / (tn + fp)\n",
    "    \n",
    "    # precision\n",
    "    prec = tn / (tn + fp)\n",
    "    \n",
    "    # f1 score\n",
    "    f1 = 2 * (prec * sen) / (prec + sen) \n",
    "    \n",
    "    return (sen,f1)\n",
    "\n",
    "\n",
    "def train_cost_sensitive_classifier(X,y,k,weights):\n",
    "    clf = RidgeClassifierCV(alphas=[1e-3, 1e-2, 1e-1, 1],cv=k, class_weight=weights)\n",
    "    return clf.fit(X, y)"
   ]
  },
  {
   "cell_type": "code",
   "execution_count": 130,
   "metadata": {},
   "outputs": [],
   "source": [
    "def run_balanced_case(X,y):\n",
    "    \n",
    "    # train model\n",
    "    clf = train_cost_sensitive_classifier(X,y,10,'balanced')\n",
    "\n",
    "    # calculate metrics\n",
    "    cm = get_confusion_matrix(clf,X,y)\n",
    "    sen,f1=calc_sensitivity_and_f1(cm)\n",
    "    \n",
    "    print('Sensitivity:',sen)\n",
    "    print('F-score:',f1)\n",
    "    return \n",
    "\n",
    "\n",
    "def find_zero_weight_to_maximize_f1(X,y):\n",
    "    \n",
    "    max_f1=0.0\n",
    "    zero_weight_for_max=0.0\n",
    "    \n",
    "    # check all weight combinations\n",
    "    zero_weight=0.0\n",
    "    while zero_weight < 0.2:\n",
    "        zero_weight = round(zero_weight + 0.005,3)\n",
    "        one_weight = round(1 - zero_weight,3)\n",
    "        print(\".\",end = '')\n",
    "        \n",
    "        # train model\n",
    "        clf = train_cost_sensitive_classifier(X,y,10,{0:zero_weight, 1:one_weight})\n",
    "        \n",
    "        # calculate metrics\n",
    "        cm = get_confusion_matrix(clf,X,y)\n",
    "        sen,f1 = calc_sensitivity_and_f1(cm)\n",
    "        if sen >= 0.95 and f1 > max_f1:\n",
    "            max_f1 = f1\n",
    "            zero_weight_for_max=zero_weight\n",
    "            \n",
    "    print('\\nmax_f1:',max_f1)\n",
    "    print('zero_weight for max_f1:',zero_weight_for_max)\n",
    "    return zero_weight_for_max"
   ]
  },
  {
   "cell_type": "markdown",
   "metadata": {},
   "source": [
    "#### Data Selection"
   ]
  },
  {
   "cell_type": "code",
   "execution_count": 131,
   "metadata": {},
   "outputs": [
    {
     "name": "stdout",
     "output_type": "stream",
     "text": [
      "(121913, 19)\n",
      "(121913,)\n"
     ]
    },
    {
     "data": {
      "text/plain": [
       "0    89357\n",
       "1    32556\n",
       "Name: Died_Y, dtype: int64"
      ]
     },
     "execution_count": 131,
     "metadata": {},
     "output_type": "execute_result"
    }
   ],
   "source": [
    "# use the same imputed data as in 1.3\n",
    "X_1_5 = X_1_3\n",
    "y_1_5 = y_1_3\n",
    "print(X_1_5.shape)\n",
    "print(y_1_5.shape)\n",
    "\n",
    "# check label counts to see imbalance\n",
    "y_1_5.value_counts()"
   ]
  },
  {
   "cell_type": "markdown",
   "metadata": {},
   "source": [
    "#### Feature Selection"
   ]
  },
  {
   "cell_type": "code",
   "execution_count": 132,
   "metadata": {},
   "outputs": [
    {
     "name": "stdout",
     "output_type": "stream",
     "text": [
      "CPU times: user 6.1 s, sys: 114 ms, total: 6.22 s\n",
      "Wall time: 5.84 s\n"
     ]
    }
   ],
   "source": [
    "%%time\n",
    "\n",
    "# select features\n",
    "embedded_1_5 = run_embedded_feature_selection(X_1_5,y_1_5)\n",
    "features_1_5 = get_feature_list(X_1_5,embedded_1_5.get_support())"
   ]
  },
  {
   "cell_type": "code",
   "execution_count": 133,
   "metadata": {
    "scrolled": true
   },
   "outputs": [
    {
     "data": {
      "text/plain": [
       "['Age', 'Intubated_Y', 'Has_COVID_Y']"
      ]
     },
     "execution_count": 133,
     "metadata": {},
     "output_type": "execute_result"
    }
   ],
   "source": [
    "features_1_5"
   ]
  },
  {
   "cell_type": "markdown",
   "metadata": {},
   "source": [
    "#### Find Weights"
   ]
  },
  {
   "cell_type": "code",
   "execution_count": 134,
   "metadata": {},
   "outputs": [
    {
     "name": "stdout",
     "output_type": "stream",
     "text": [
      "(121913, 3) \n",
      "\n",
      "Built-in Setting\n",
      "Sensitivity: 0.7040484088954417\n",
      "F-score: 0.6752668419617864\n",
      "\n",
      "Optimal Weights\n",
      "........................................\n",
      "max_f1: 0.37042679886783925\n",
      "zero_weight for max_f1: 0.12\n",
      "0 weight: 0.12\n",
      "1 weight: 0.88\n",
      "CPU times: user 3min 10s, sys: 3.89 s, total: 3min 14s\n",
      "Wall time: 49.4 s\n"
     ]
    }
   ],
   "source": [
    "%%time\n",
    "\n",
    "# limit features to those selected by previous step\n",
    "X_1_5_select = build_X_from_features(X_1_5,features_1_5)\n",
    "print(X_1_5_select.shape,'\\n')\n",
    "\n",
    "# check built-in setting\n",
    "print(\"Built-in Setting\")\n",
    "run_balanced_case(X_1_5_select,y_1_5)\n",
    "\n",
    "# find optimal weights given the constraints\n",
    "print(\"\\nOptimal Weights\")\n",
    "best_zero = find_zero_weight_to_maximize_f1(X_1_5_select,y_1_5)\n",
    "best_one = round(1-best_zero,3)\n",
    "print(\"0 weight:\",best_zero)\n",
    "print(\"1 weight:\",best_one)"
   ]
  },
  {
   "cell_type": "code",
   "execution_count": 135,
   "metadata": {},
   "outputs": [
    {
     "name": "stdout",
     "output_type": "stream",
     "text": [
      "CPU times: user 4.7 s, sys: 85.8 ms, total: 4.79 s\n",
      "Wall time: 1.2 s\n"
     ]
    }
   ],
   "source": [
    "%%time\n",
    "\n",
    "# run classifier using best weights\n",
    "weights = {0:best_zero, 1:best_one}\n",
    "clf_1_5 = train_cost_sensitive_classifier(X_1_5_select,y_1_5,10,weights)"
   ]
  },
  {
   "cell_type": "code",
   "execution_count": 136,
   "metadata": {},
   "outputs": [
    {
     "name": "stdout",
     "output_type": "stream",
     "text": [
      "0.42362176306054317 \n",
      "\n"
     ]
    },
    {
     "data": {
      "text/html": [
       "<div>\n",
       "<style scoped>\n",
       "    .dataframe tbody tr th:only-of-type {\n",
       "        vertical-align: middle;\n",
       "    }\n",
       "\n",
       "    .dataframe tbody tr th {\n",
       "        vertical-align: top;\n",
       "    }\n",
       "\n",
       "    .dataframe thead th {\n",
       "        text-align: right;\n",
       "    }\n",
       "</style>\n",
       "<table border=\"1\" class=\"dataframe\">\n",
       "  <thead>\n",
       "    <tr style=\"text-align: right;\">\n",
       "      <th></th>\n",
       "      <th>Section</th>\n",
       "      <th>Description</th>\n",
       "      <th>Accuracy</th>\n",
       "      <th>Sensitivity</th>\n",
       "      <th>Specificity</th>\n",
       "      <th>Pos_Predictive_Val</th>\n",
       "      <th>Neg_Predictive_Val</th>\n",
       "      <th>F1_Score</th>\n",
       "      <th>Matthew_Corr_Coef</th>\n",
       "      <th>AUC</th>\n",
       "    </tr>\n",
       "  </thead>\n",
       "  <tbody>\n",
       "    <tr>\n",
       "      <th>0</th>\n",
       "      <td>1</td>\n",
       "      <td>Wrapper</td>\n",
       "      <td>0.748222</td>\n",
       "      <td>0.090367</td>\n",
       "      <td>0.987902</td>\n",
       "      <td>0.731295</td>\n",
       "      <td>0.748800</td>\n",
       "      <td>0.160857</td>\n",
       "      <td>0.193848</td>\n",
       "      <td>0.755638</td>\n",
       "    </tr>\n",
       "    <tr>\n",
       "      <th>1</th>\n",
       "      <td>2</td>\n",
       "      <td>Embedded</td>\n",
       "      <td>0.764841</td>\n",
       "      <td>0.236792</td>\n",
       "      <td>0.957228</td>\n",
       "      <td>0.668546</td>\n",
       "      <td>0.774900</td>\n",
       "      <td>0.349718</td>\n",
       "      <td>0.293321</td>\n",
       "      <td>0.774016</td>\n",
       "    </tr>\n",
       "    <tr>\n",
       "      <th>2</th>\n",
       "      <td>3</td>\n",
       "      <td>Wrapper imputed</td>\n",
       "      <td>0.747016</td>\n",
       "      <td>0.086251</td>\n",
       "      <td>0.987757</td>\n",
       "      <td>0.719631</td>\n",
       "      <td>0.747922</td>\n",
       "      <td>0.154040</td>\n",
       "      <td>0.186018</td>\n",
       "      <td>0.737923</td>\n",
       "    </tr>\n",
       "    <tr>\n",
       "      <th>3</th>\n",
       "      <td>4</td>\n",
       "      <td>Embedded Imputed</td>\n",
       "      <td>0.752446</td>\n",
       "      <td>0.158527</td>\n",
       "      <td>0.968833</td>\n",
       "      <td>0.649509</td>\n",
       "      <td>0.759623</td>\n",
       "      <td>0.254852</td>\n",
       "      <td>0.228270</td>\n",
       "      <td>0.740902</td>\n",
       "    </tr>\n",
       "    <tr>\n",
       "      <th>4</th>\n",
       "      <td>5</td>\n",
       "      <td>Cost Sensitive</td>\n",
       "      <td>0.423622</td>\n",
       "      <td>0.955799</td>\n",
       "      <td>0.229730</td>\n",
       "      <td>0.311338</td>\n",
       "      <td>0.934493</td>\n",
       "      <td>0.469683</td>\n",
       "      <td>0.213562</td>\n",
       "      <td>0.739314</td>\n",
       "    </tr>\n",
       "  </tbody>\n",
       "</table>\n",
       "</div>"
      ],
      "text/plain": [
       "   Section       Description  Accuracy  Sensitivity  Specificity  \\\n",
       "0        1           Wrapper  0.748222     0.090367     0.987902   \n",
       "1        2          Embedded  0.764841     0.236792     0.957228   \n",
       "2        3   Wrapper imputed  0.747016     0.086251     0.987757   \n",
       "3        4  Embedded Imputed  0.752446     0.158527     0.968833   \n",
       "4        5    Cost Sensitive  0.423622     0.955799     0.229730   \n",
       "\n",
       "   Pos_Predictive_Val  Neg_Predictive_Val  F1_Score  Matthew_Corr_Coef  \\\n",
       "0            0.731295            0.748800  0.160857           0.193848   \n",
       "1            0.668546            0.774900  0.349718           0.293321   \n",
       "2            0.719631            0.747922  0.154040           0.186018   \n",
       "3            0.649509            0.759623  0.254852           0.228270   \n",
       "4            0.311338            0.934493  0.469683           0.213562   \n",
       "\n",
       "        AUC  \n",
       "0  0.755638  \n",
       "1  0.774016  \n",
       "2  0.737923  \n",
       "3  0.740902  \n",
       "4  0.739314  "
      ]
     },
     "execution_count": 136,
     "metadata": {},
     "output_type": "execute_result"
    }
   ],
   "source": [
    "# capture metrics for later use\n",
    "y_score_1_5 = y_score_from_decision_function(clf_1_5,X_1_5_select)\n",
    "df_results = add_metrics_to_table(df_results,5,\"Cost Sensitive\",clf_1_5,X_1_5_select,y_1_5,y_score_1_5)\n",
    "df_results"
   ]
  },
  {
   "cell_type": "markdown",
   "metadata": {
    "id": "zVYJjxGby2Yn"
   },
   "source": [
    "### Part 1.6 Work "
   ]
  },
  {
   "cell_type": "code",
   "execution_count": 137,
   "metadata": {
    "id": "Kcf_UQDgy2Yo"
   },
   "outputs": [],
   "source": [
    "# TODO: \n",
    "#   Step 1: Implement a function calculating the weighted average F1-score, following \n",
    "#       the steps in the homework problem statement.\n",
    "#   Step 2: Find a classifier that achieves a weighted average F1-score of at least 0.74 using 10-fold cross validation.\n",
    "\n",
    "# Tip: \n",
    "#   1. F1-score: https://en.wikipedia.org/wiki/F1_score\n",
    "#   2. Scikit-learn supports extending the classifiers to cost-sensitive learning.\n",
    "#   Take a look at this tutorial: https://machinelearningmastery.com/cost-sensitive-learning-for-imbalanced-classification/\n",
    "\n"
   ]
  },
  {
   "cell_type": "markdown",
   "metadata": {},
   "source": [
    "#### Define Functions\n",
    "\n",
    "Reference:  https://scikit-learn.org/stable/auto_examples/classification/plot_classifier_comparison.html"
   ]
  },
  {
   "cell_type": "code",
   "execution_count": 138,
   "metadata": {},
   "outputs": [],
   "source": [
    "def weighted_f1(cm):\n",
    "    '''\n",
    "    Calculates a weighted F1-score using given confusion matrix cm. \n",
    "    '''\n",
    "    \n",
    "    tn, fp, fn, tp = cm.ravel()\n",
    "    \n",
    "    # F1 score computed using label 'Y' as true positive\n",
    "    F_1_Y = (2 * tp) / (2 * tp + fp + fn) ## confirm\n",
    "    \n",
    "    # F1 score computed using label 'N' as true negative\n",
    "    F_1_N = (2 * tn) / (2 * tn + fp + fn) ## confirm\n",
    "    \n",
    "    # number of instances with label 'Y'\n",
    "    n_Y = tp + fp\n",
    "    \n",
    "    # number of instances with label 'N'\n",
    "    n_N = tn + fn\n",
    "    \n",
    "    \n",
    "    # calculate weights\n",
    "    a = n_Y / (n_Y + n_N)\n",
    "    \n",
    "    b = n_N / (n_Y + n_N)\n",
    "    \n",
    "    \n",
    "    # calculated weighted f1\n",
    "    f1_weighted = (a * F_1_Y) + (b * F_1_N)\n",
    "    \n",
    "    return f1_weighted"
   ]
  },
  {
   "cell_type": "code",
   "execution_count": 139,
   "metadata": {},
   "outputs": [],
   "source": [
    "from sklearn.neural_network import MLPClassifier\n",
    "from sklearn.neighbors import KNeighborsClassifier\n",
    "from sklearn.svm import SVC\n",
    "from sklearn.gaussian_process import GaussianProcessClassifier\n",
    "from sklearn.gaussian_process.kernels import RBF\n",
    "from sklearn.tree import DecisionTreeClassifier\n",
    "from sklearn.ensemble import RandomForestClassifier, AdaBoostClassifier\n",
    "from sklearn.naive_bayes import GaussianNB\n",
    "\n",
    "def run_comparison_test(X,y):\n",
    "\n",
    "    # split data\n",
    "    X_train, X_test, y_train, y_test = train_test_split(X,y,test_size=.4,random_state=42)\n",
    "    \n",
    "    # run against common classifiers\n",
    "    classifiers = [\n",
    "        KNeighborsClassifier(3),\n",
    "#         SVC(kernel=\"linear\", C=0.025),\n",
    "#         SVC(gamma=2, C=1),\n",
    "        DecisionTreeClassifier(max_depth=5),\n",
    "        RandomForestClassifier(max_depth=5, n_estimators=10, max_features=1),\n",
    "        MLPClassifier(alpha=1, max_iter=1000),\n",
    "        AdaBoostClassifier(),\n",
    "        GaussianNB()]\n",
    "\n",
    "    for i, clf in enumerate(classifiers):\n",
    "        \n",
    "        # train model\n",
    "        clf.fit(X_train, y_train)\n",
    "\n",
    "        # calculate metric\n",
    "        cm = get_confusion_matrix(clf,X_test,y_test)\n",
    "        print(i,\"Weighted F1:\",weighted_f1(cm))"
   ]
  },
  {
   "cell_type": "markdown",
   "metadata": {},
   "source": [
    "#### Test 1 - baseline with imputed data"
   ]
  },
  {
   "cell_type": "code",
   "execution_count": 140,
   "metadata": {},
   "outputs": [
    {
     "name": "stdout",
     "output_type": "stream",
     "text": [
      "(121913, 19)\n",
      "(121913,)\n",
      "['Age', 'Intubated_Y', 'Pneumonia_Y', 'Has_COVID_Y']\n",
      "0 Weighted F1: 0.7232829155090345\n",
      "1 Weighted F1: 0.8196909314890874\n",
      "2 Weighted F1: 0.8452485323902091\n",
      "3 Weighted F1: 0.8039404680627094\n",
      "4 Weighted F1: 0.7952469007814592\n",
      "5 Weighted F1: 0.6508015652982706\n",
      "CPU times: user 32 s, sys: 357 ms, total: 32.3 s\n",
      "Wall time: 31.5 s\n"
     ]
    }
   ],
   "source": [
    "%%time\n",
    "\n",
    "# data\n",
    "X_1_6 = X_1_3\n",
    "y_1_6 = y_1_3\n",
    "print(X_1_6.shape)\n",
    "print(y_1_6.shape)\n",
    "\n",
    "# select features\n",
    "rfe_1_6 = run_crossfold_recursive_feature_elimination(X_1_6,y_1_6)\n",
    "features_1_6 = get_feature_list(X_1_6,rfe_1_6.support_)\n",
    "print(features_1_6)\n",
    "\n",
    "# comparison\n",
    "run_comparison_test(X_1_6,y_1_6)"
   ]
  },
  {
   "cell_type": "markdown",
   "metadata": {},
   "source": [
    "#### Test 2 - undersampling imputed data"
   ]
  },
  {
   "cell_type": "code",
   "execution_count": 141,
   "metadata": {},
   "outputs": [
    {
     "name": "stdout",
     "output_type": "stream",
     "text": [
      "(65112, 19)\n",
      "(65112,)\n",
      "1    32556\n",
      "0    32556\n",
      "Name: Died_Y, dtype: int64\n",
      "['Age', 'Intubated_Y', 'Pneumonia_Y', 'Exposure_to_others_with_COVID_Y', 'Has_COVID_Y']\n",
      "0 Weighted F1: 0.6324128741100813\n",
      "1 Weighted F1: 0.6847637498510057\n",
      "2 Weighted F1: 0.6783830939343011\n",
      "3 Weighted F1: 0.6911921536264072\n",
      "4 Weighted F1: 0.6909961341104789\n",
      "5 Weighted F1: 0.669416224386138\n",
      "CPU times: user 21.3 s, sys: 236 ms, total: 21.5 s\n",
      "Wall time: 14.8 s\n"
     ]
    }
   ],
   "source": [
    "%%time\n",
    "\n",
    "from imblearn.under_sampling import RandomUnderSampler\n",
    "\n",
    "# undersample the data\n",
    "rus = RandomUnderSampler(random_state=0)\n",
    "\n",
    "X_1_6, y_1_6 = rus.fit_resample(X_1_3, y_1_3)\n",
    "print(X_1_6.shape)\n",
    "print(y_1_6.shape)\n",
    "print(y_1_6.value_counts()) # counts exactly match\n",
    "\n",
    "\n",
    "# select features\n",
    "rfe_1_6 = run_crossfold_recursive_feature_elimination(X_1_6,y_1_6)\n",
    "features_1_6 = get_feature_list(X_1_6,rfe_1_6.support_)\n",
    "print(features_1_6)\n",
    "\n",
    "\n",
    "# comparison\n",
    "run_comparison_test(X_1_6,y_1_6)"
   ]
  },
  {
   "cell_type": "markdown",
   "metadata": {},
   "source": [
    "#### Test 3 - oversampling imputed data"
   ]
  },
  {
   "cell_type": "code",
   "execution_count": null,
   "metadata": {},
   "outputs": [
    {
     "name": "stdout",
     "output_type": "stream",
     "text": [
      "(178714, 19)\n",
      "(178714,)\n",
      "1    89357\n",
      "0    89357\n",
      "Name: Died_Y, dtype: int64\n",
      "['Age', 'Sex_M', 'Intubated_Y', 'Pneumonia_Y', 'Diabetes_Y', 'COPD_Y', 'Immunocompromised_Y', 'Hypertension_Y', 'Other_Disease_Y', 'Cardiovascular_disease_Y', 'Obesity_Y', 'Renal_disease_Y', 'Smoker_Y', 'Exposure_to_others_with_COVID_Y', 'Has_COVID_Y', 'ICU_Y']\n"
     ]
    }
   ],
   "source": [
    "%%time\n",
    "\n",
    "from imblearn.over_sampling import RandomOverSampler\n",
    "\n",
    "ros = RandomOverSampler(random_state=42)\n",
    "X_1_6, y_1_6 = ros.fit_resample(X_1_3, y_1_3)\n",
    "print(X_1_6.shape)\n",
    "print(y_1_6.shape)\n",
    "print(y_1_6.value_counts()) # counts exactly match\n",
    "\n",
    "\n",
    "# select features\n",
    "rfe_1_6 = run_crossfold_recursive_feature_elimination(X_1_6,y_1_6)\n",
    "features_1_6 = get_feature_list(X_1_6,rfe_1_6.support_)\n",
    "print(features_1_6)\n",
    "\n",
    "\n",
    "# comparison\n",
    "run_comparison_test(X_1_6,y_1_6)"
   ]
  },
  {
   "cell_type": "markdown",
   "metadata": {},
   "source": [
    "#### Run Selected Configuration"
   ]
  },
  {
   "cell_type": "code",
   "execution_count": null,
   "metadata": {},
   "outputs": [],
   "source": [
    "from sklearn.ensemble import AdaBoostClassifier\n",
    "from sklearn.model_selection import KFold\n",
    "from statistics import mean\n",
    "\n",
    "\n",
    "def run_classifier_with_cross_validation_1_6(X,y,k):\n",
    "    \n",
    "    # define list to store weighted f1 score for each fold\n",
    "    weighted_f1_scores = list()\n",
    "    \n",
    "    # model\n",
    "    clf = AdaBoostClassifier()\n",
    "\n",
    "    # run 10 fold cross validation\n",
    "    kf=KFold(n_splits=k, shuffle=True)\n",
    "    for fold, (train, test) in enumerate(kf.split(X, y)):\n",
    "\n",
    "        # get training rows for this fold\n",
    "        X_train = X.iloc[train]\n",
    "        y_train = y.iloc[train]\n",
    "        X_test = X.iloc[test]\n",
    "        y_test = y.iloc[test]\n",
    "\n",
    "        # train classifier\n",
    "        clf.fit(X_train,y_train)\n",
    "\n",
    "        # calculate confusion matrix\n",
    "        cm = get_confusion_matrix(clf, X_test,y_test)\n",
    "\n",
    "        # calculate weighted-f1\n",
    "        w_f1 = weighted_f1(cm)\n",
    "        weighted_f1_scores.append(w_f1)\n",
    "\n",
    "    return mean(weighted_f1_scores)\n",
    "\n",
    "\n",
    "def train_adaboost_classifier(X,y):\n",
    "    clf = AdaBoostClassifier()\n",
    "    return clf.fit(X,y)"
   ]
  },
  {
   "cell_type": "code",
   "execution_count": null,
   "metadata": {},
   "outputs": [],
   "source": [
    "%%time\n",
    "\n",
    "# select data\n",
    "X_1_6 = X_1_3\n",
    "y_1_6 = y_1_3\n",
    "print(X_1_6.shape)\n",
    "print(y_1_6.shape)\n",
    "\n",
    "\n",
    "# select features\n",
    "rfe_1_6 = run_crossfold_recursive_feature_elimination(X_1_6,y_1_6)\n",
    "features_1_6 = get_feature_list(X_1_6,rfe_1_6.support_)\n",
    "print(features_1_6)\n",
    "\n",
    "\n",
    "# limit features to those selected by previous step\n",
    "X_1_6_select = build_X_from_features(X_1_6,features_1_6)\n",
    "print(X_1_6_select.shape)\n",
    "\n",
    "\n",
    "# score classifier using 10-fold cross validation\n",
    "weighted_f1_score = run_classifier_with_cross_validation_1_6(X_1_6_select,y_1_6,10)\n",
    "print(\"Weighted F1-Score:\",weighted_f1_score)"
   ]
  },
  {
   "cell_type": "code",
   "execution_count": null,
   "metadata": {},
   "outputs": [],
   "source": [
    "%%time\n",
    "\n",
    "# run classifier on full dataset to capture metrics\n",
    "clf_1_6 = train_adaboost_classifier(X_1_6_select,y_1_6)"
   ]
  },
  {
   "cell_type": "code",
   "execution_count": null,
   "metadata": {},
   "outputs": [],
   "source": [
    "# capture metrics for later use\n",
    "y_score_1_6 = y_score_from_decision_function(clf_1_6,X_1_6_select)\n",
    "df_results = add_metrics_to_table(df_results,6,\"Weighted F1 Model\",clf_1_6,X_1_6_select,y_1_6,y_score_1_6)\n",
    "df_results"
   ]
  },
  {
   "cell_type": "markdown",
   "metadata": {
    "id": "ii4wINe7y2Yr"
   },
   "source": [
    "### Part 1.7 Work"
   ]
  },
  {
   "cell_type": "code",
   "execution_count": null,
   "metadata": {
    "id": "OkoYhmvSy2Ys"
   },
   "outputs": [],
   "source": [
    "# Tip:\n",
    "#   1. Scikit-learn implements different evaluation metrics for classifications,\n",
    "#   see: https://scikit-learn.org/stable/modules/model_evaluation.html"
   ]
  },
  {
   "cell_type": "markdown",
   "metadata": {
    "id": "IMVemn4By2Yw"
   },
   "source": [
    "### Part 1.7 Answers\n",
    "\n",
    "1. Create a ROC plot with the results from parts 1.1 to 1.6. \n",
    "2. Create a table with the following performance metrics for the results from parts 1.1 to 1.6:\n",
    "    * Accuracy\n",
    "    * Sensitivity & Specificity\n",
    "    * The positive and negative predictive values\n",
    "    * F1-score\n",
    "    * The Matthews Correlation Coefficient\n",
    "    * AUC (Area under the ROC curve)"
   ]
  },
  {
   "cell_type": "markdown",
   "metadata": {},
   "source": [
    "#### ROC Plot Example from 1.1.5"
   ]
  },
  {
   "cell_type": "code",
   "execution_count": null,
   "metadata": {},
   "outputs": [],
   "source": [
    "#?? can we complete ROC plot with the metric information we collected earlier? why is my ROC plot bad"
   ]
  },
  {
   "cell_type": "code",
   "execution_count": null,
   "metadata": {},
   "outputs": [],
   "source": [
    "from sklearn.metrics import roc_curve\n",
    "\n",
    "# calculate confusion matrix\n",
    "y_predict = clf_1_5.predict(X_1_5_select)\n",
    "y_real = y_1_5\n",
    "    \n",
    "fpr, tpr, thresholds = roc_curve(y_real, y_predict)\n",
    "auc = roc_auc_score(y_real, y_predict)"
   ]
  },
  {
   "cell_type": "code",
   "execution_count": null,
   "metadata": {
    "scrolled": true
   },
   "outputs": [],
   "source": [
    "import matplotlib.pyplot as plt\n",
    "\n",
    "def plot_roc(fpr,tpr,auc):\n",
    "    plt.figure()\n",
    "    lw = 2\n",
    "    plt.plot(fpr, tpr, color='darkorange',\n",
    "             lw=lw, label='1.5 Cost-Sensitive ROC (area = %0.2f)' % auc)\n",
    "    plt.plot([0, 1], [0, 1], color='navy', lw=lw, linestyle='--')\n",
    "    plt.xlim([0.0, 1.0])\n",
    "    plt.ylim([0.0, 1.05])\n",
    "    plt.xlabel('False Positive Rate')\n",
    "    plt.ylabel('True Positive Rate')\n",
    "    plt.title('Receiver operating characteristic (ROC)')\n",
    "    plt.legend(loc=\"lower right\")\n",
    "    plt.show()\n",
    "\n",
    "plot_roc(fpr,tpr,auc)"
   ]
  },
  {
   "cell_type": "markdown",
   "metadata": {},
   "source": [
    "#### ROC Plot"
   ]
  },
  {
   "cell_type": "code",
   "execution_count": null,
   "metadata": {
    "scrolled": true
   },
   "outputs": [],
   "source": [
    "from sklearn.metrics import plot_roc_curve\n",
    "import matplotlib.pyplot as plt\n",
    "\n",
    "fig, ax = plt.subplots()\n",
    "ax.plot([0, 1], [0, 1], linestyle='--', lw=2, color='r',label='Chance', alpha=.8)\n",
    "ax.set(xlim=[-0.05, 1.05], ylim=[-0.05, 1.05],title=\"Receiver Operating Characteristic (ROC)\")\n",
    "ax.legend(loc=\"lower right\")\n",
    "\n",
    "# plot all results on one graph\n",
    "\n",
    "# 1.1 wrapper method\n",
    "plot_roc_curve(clf_1_1, X_1_1_select, y_1_1,name='1.1 ROC',lw=1, ax=ax)\n",
    "\n",
    "# 1.2 embedded method\n",
    "plot_roc_curve(clf_1_2, X_1_2_select, y_1_2,name='1.2 ROC',lw=1, ax=ax)\n",
    "\n",
    "# 1.3 wrapper method + imputed data\n",
    "plot_roc_curve(clf_1_3, X_1_3_select, y_1_3,name='1.3 ROC',lw=1, ax=ax)\n",
    "\n",
    "# 1.4 embedded method + imputed data\n",
    "plot_roc_curve(clf_1_4, X_1_4_select, y_1_4,name='1.4 ROC',lw=1, ax=ax)\n",
    "\n",
    "# 1.5 cost-sensitive\n",
    "plot_roc_curve(clf_1_5, X_1_5_select, y_1_5,name='1.5 ROC',lw=1, ax=ax)\n",
    "\n",
    "# 1.6 weighted average\n",
    "plot_roc_curve(clf_1_6, X_1_6_select, y_1_6,name='1.6 ROC',alpha=0.3, lw=1, ax=ax)\n",
    "\n",
    "plt.show()"
   ]
  },
  {
   "cell_type": "markdown",
   "metadata": {},
   "source": [
    "#### Performance Metric Table"
   ]
  },
  {
   "cell_type": "code",
   "execution_count": null,
   "metadata": {
    "scrolled": false
   },
   "outputs": [],
   "source": [
    "df_results"
   ]
  },
  {
   "cell_type": "code",
   "execution_count": null,
   "metadata": {},
   "outputs": [],
   "source": []
  }
 ],
 "metadata": {
  "colab": {
   "name": "02_518_02_718_HW_3_Template.ipynb",
   "provenance": []
  },
  "kernelspec": {
   "display_name": "Python 3",
   "language": "python",
   "name": "python3"
  },
  "language_info": {
   "codemirror_mode": {
    "name": "ipython",
    "version": 3
   },
   "file_extension": ".py",
   "mimetype": "text/x-python",
   "name": "python",
   "nbconvert_exporter": "python",
   "pygments_lexer": "ipython3",
   "version": "3.8.5"
  }
 },
 "nbformat": 4,
 "nbformat_minor": 1
}
